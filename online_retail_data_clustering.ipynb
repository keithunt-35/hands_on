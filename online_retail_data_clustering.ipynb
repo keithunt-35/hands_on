{
 "cells": [
  {
   "cell_type": "code",
   "execution_count": 55,
   "id": "7cfeebbc",
   "metadata": {},
   "outputs": [],
   "source": [
    "import os\n",
    "import pandas as pd\n",
    "import numpy as np\n",
    "import seaborn as sns\n",
    "import matplotlib as plt\n",
    "\n",
    "from sklearn.cluster import k_means\n",
    "from sklearn.metrics import silhouette_score\n",
    "from sklearn.preprocessing import StandardScaler\n",
    "\n",
    "#setting to make numbers easier to display on the screen\n",
    "pd.options.display.float_format = '{:20.2f}'.format\n",
    "\n",
    "#show all columns on output\n",
    "pd.set_option('display.max_column',999)"
   ]
  },
  {
   "cell_type": "code",
   "execution_count": 56,
   "id": "87b7b889",
   "metadata": {},
   "outputs": [],
   "source": [
    "import pandas as pd\n",
    "\n",
    "# Read the Excel file\n",
    "df = pd.read_excel(\"/home/keithunt_35/Desktop/hands_on/data/online_retail_II.xlsx\", sheet_name=0)\n",
    "\n",
    "# Save as CSV\n",
    "df.to_csv(\"dataset.csv\", index=False)  # `index=False` removes row numbers"
   ]
  },
  {
   "cell_type": "code",
   "execution_count": 57,
   "id": "e4aa2c77",
   "metadata": {},
   "outputs": [
    {
     "data": {
      "application/vnd.microsoft.datawrangler.viewer.v0+json": {
       "columns": [
        {
         "name": "index",
         "rawType": "int64",
         "type": "integer"
        },
        {
         "name": "Invoice",
         "rawType": "object",
         "type": "string"
        },
        {
         "name": "StockCode",
         "rawType": "object",
         "type": "string"
        },
        {
         "name": "Description",
         "rawType": "object",
         "type": "string"
        },
        {
         "name": "Quantity",
         "rawType": "int64",
         "type": "integer"
        },
        {
         "name": "InvoiceDate",
         "rawType": "object",
         "type": "string"
        },
        {
         "name": "Price",
         "rawType": "float64",
         "type": "float"
        },
        {
         "name": "Customer ID",
         "rawType": "float64",
         "type": "float"
        },
        {
         "name": "Country",
         "rawType": "object",
         "type": "string"
        }
       ],
       "ref": "9d021f73-05f0-46d4-ac4b-e0d659688508",
       "rows": [
        [
         "0",
         "489434",
         "85048",
         "15CM CHRISTMAS GLASS BALL 20 LIGHTS",
         "12",
         "2009-12-01 07:45:00",
         "6.95",
         "13085.0",
         "United Kingdom"
        ],
        [
         "1",
         "489434",
         "79323P",
         "PINK CHERRY LIGHTS",
         "12",
         "2009-12-01 07:45:00",
         "6.75",
         "13085.0",
         "United Kingdom"
        ],
        [
         "2",
         "489434",
         "79323W",
         " WHITE CHERRY LIGHTS",
         "12",
         "2009-12-01 07:45:00",
         "6.75",
         "13085.0",
         "United Kingdom"
        ],
        [
         "3",
         "489434",
         "22041",
         "RECORD FRAME 7\" SINGLE SIZE ",
         "48",
         "2009-12-01 07:45:00",
         "2.1",
         "13085.0",
         "United Kingdom"
        ],
        [
         "4",
         "489434",
         "21232",
         "STRAWBERRY CERAMIC TRINKET BOX",
         "24",
         "2009-12-01 07:45:00",
         "1.25",
         "13085.0",
         "United Kingdom"
        ]
       ],
       "shape": {
        "columns": 8,
        "rows": 5
       }
      },
      "text/html": [
       "<div>\n",
       "<style scoped>\n",
       "    .dataframe tbody tr th:only-of-type {\n",
       "        vertical-align: middle;\n",
       "    }\n",
       "\n",
       "    .dataframe tbody tr th {\n",
       "        vertical-align: top;\n",
       "    }\n",
       "\n",
       "    .dataframe thead th {\n",
       "        text-align: right;\n",
       "    }\n",
       "</style>\n",
       "<table border=\"1\" class=\"dataframe\">\n",
       "  <thead>\n",
       "    <tr style=\"text-align: right;\">\n",
       "      <th></th>\n",
       "      <th>Invoice</th>\n",
       "      <th>StockCode</th>\n",
       "      <th>Description</th>\n",
       "      <th>Quantity</th>\n",
       "      <th>InvoiceDate</th>\n",
       "      <th>Price</th>\n",
       "      <th>Customer ID</th>\n",
       "      <th>Country</th>\n",
       "    </tr>\n",
       "  </thead>\n",
       "  <tbody>\n",
       "    <tr>\n",
       "      <th>0</th>\n",
       "      <td>489434</td>\n",
       "      <td>85048</td>\n",
       "      <td>15CM CHRISTMAS GLASS BALL 20 LIGHTS</td>\n",
       "      <td>12</td>\n",
       "      <td>2009-12-01 07:45:00</td>\n",
       "      <td>6.95</td>\n",
       "      <td>13085.00</td>\n",
       "      <td>United Kingdom</td>\n",
       "    </tr>\n",
       "    <tr>\n",
       "      <th>1</th>\n",
       "      <td>489434</td>\n",
       "      <td>79323P</td>\n",
       "      <td>PINK CHERRY LIGHTS</td>\n",
       "      <td>12</td>\n",
       "      <td>2009-12-01 07:45:00</td>\n",
       "      <td>6.75</td>\n",
       "      <td>13085.00</td>\n",
       "      <td>United Kingdom</td>\n",
       "    </tr>\n",
       "    <tr>\n",
       "      <th>2</th>\n",
       "      <td>489434</td>\n",
       "      <td>79323W</td>\n",
       "      <td>WHITE CHERRY LIGHTS</td>\n",
       "      <td>12</td>\n",
       "      <td>2009-12-01 07:45:00</td>\n",
       "      <td>6.75</td>\n",
       "      <td>13085.00</td>\n",
       "      <td>United Kingdom</td>\n",
       "    </tr>\n",
       "    <tr>\n",
       "      <th>3</th>\n",
       "      <td>489434</td>\n",
       "      <td>22041</td>\n",
       "      <td>RECORD FRAME 7\" SINGLE SIZE</td>\n",
       "      <td>48</td>\n",
       "      <td>2009-12-01 07:45:00</td>\n",
       "      <td>2.10</td>\n",
       "      <td>13085.00</td>\n",
       "      <td>United Kingdom</td>\n",
       "    </tr>\n",
       "    <tr>\n",
       "      <th>4</th>\n",
       "      <td>489434</td>\n",
       "      <td>21232</td>\n",
       "      <td>STRAWBERRY CERAMIC TRINKET BOX</td>\n",
       "      <td>24</td>\n",
       "      <td>2009-12-01 07:45:00</td>\n",
       "      <td>1.25</td>\n",
       "      <td>13085.00</td>\n",
       "      <td>United Kingdom</td>\n",
       "    </tr>\n",
       "  </tbody>\n",
       "</table>\n",
       "</div>"
      ],
      "text/plain": [
       "  Invoice StockCode                          Description  Quantity  \\\n",
       "0  489434     85048  15CM CHRISTMAS GLASS BALL 20 LIGHTS        12   \n",
       "1  489434    79323P                   PINK CHERRY LIGHTS        12   \n",
       "2  489434    79323W                  WHITE CHERRY LIGHTS        12   \n",
       "3  489434     22041         RECORD FRAME 7\" SINGLE SIZE         48   \n",
       "4  489434     21232       STRAWBERRY CERAMIC TRINKET BOX        24   \n",
       "\n",
       "           InvoiceDate                Price          Customer ID  \\\n",
       "0  2009-12-01 07:45:00                 6.95             13085.00   \n",
       "1  2009-12-01 07:45:00                 6.75             13085.00   \n",
       "2  2009-12-01 07:45:00                 6.75             13085.00   \n",
       "3  2009-12-01 07:45:00                 2.10             13085.00   \n",
       "4  2009-12-01 07:45:00                 1.25             13085.00   \n",
       "\n",
       "          Country  \n",
       "0  United Kingdom  \n",
       "1  United Kingdom  \n",
       "2  United Kingdom  \n",
       "3  United Kingdom  \n",
       "4  United Kingdom  "
      ]
     },
     "execution_count": 57,
     "metadata": {},
     "output_type": "execute_result"
    }
   ],
   "source": [
    "df = pd.read_csv('/home/keithunt_35/Desktop/hands_on/dataset.csv')\n",
    "df.head()"
   ]
  },
  {
   "cell_type": "code",
   "execution_count": 58,
   "id": "e19c1443",
   "metadata": {},
   "outputs": [
    {
     "name": "stdout",
     "output_type": "stream",
     "text": [
      "<class 'pandas.core.frame.DataFrame'>\n",
      "RangeIndex: 525461 entries, 0 to 525460\n",
      "Data columns (total 8 columns):\n",
      " #   Column       Non-Null Count   Dtype  \n",
      "---  ------       --------------   -----  \n",
      " 0   Invoice      525461 non-null  object \n",
      " 1   StockCode    525461 non-null  object \n",
      " 2   Description  522533 non-null  object \n",
      " 3   Quantity     525461 non-null  int64  \n",
      " 4   InvoiceDate  525461 non-null  object \n",
      " 5   Price        525461 non-null  float64\n",
      " 6   Customer ID  417534 non-null  float64\n",
      " 7   Country      525461 non-null  object \n",
      "dtypes: float64(2), int64(1), object(5)\n",
      "memory usage: 32.1+ MB\n"
     ]
    }
   ],
   "source": [
    "df.info()"
   ]
  },
  {
   "cell_type": "markdown",
   "id": "32000163",
   "metadata": {},
   "source": [
    "columns with missing values are Description  and customer id"
   ]
  },
  {
   "cell_type": "code",
   "execution_count": 59,
   "id": "60122b15",
   "metadata": {},
   "outputs": [
    {
     "data": {
      "application/vnd.microsoft.datawrangler.viewer.v0+json": {
       "columns": [
        {
         "name": "index",
         "rawType": "object",
         "type": "string"
        },
        {
         "name": "Quantity",
         "rawType": "float64",
         "type": "float"
        },
        {
         "name": "Price",
         "rawType": "float64",
         "type": "float"
        },
        {
         "name": "Customer ID",
         "rawType": "float64",
         "type": "float"
        }
       ],
       "ref": "c3acb9a7-7aec-4ce8-8985-1cd496e5efd7",
       "rows": [
        [
         "count",
         "525461.0",
         "525461.0",
         "417534.0"
        ],
        [
         "mean",
         "10.337667305470815",
         "4.688834478676819",
         "15360.645477973052"
        ],
        [
         "std",
         "107.42411026879778",
         "146.1269139529265",
         "1680.8113157457142"
        ],
        [
         "min",
         "-9600.0",
         "-53594.36",
         "12346.0"
        ],
        [
         "25%",
         "1.0",
         "1.25",
         "13983.0"
        ],
        [
         "50%",
         "3.0",
         "2.1",
         "15311.0"
        ],
        [
         "75%",
         "10.0",
         "4.21",
         "16799.0"
        ],
        [
         "max",
         "19152.0",
         "25111.09",
         "18287.0"
        ]
       ],
       "shape": {
        "columns": 3,
        "rows": 8
       }
      },
      "text/html": [
       "<div>\n",
       "<style scoped>\n",
       "    .dataframe tbody tr th:only-of-type {\n",
       "        vertical-align: middle;\n",
       "    }\n",
       "\n",
       "    .dataframe tbody tr th {\n",
       "        vertical-align: top;\n",
       "    }\n",
       "\n",
       "    .dataframe thead th {\n",
       "        text-align: right;\n",
       "    }\n",
       "</style>\n",
       "<table border=\"1\" class=\"dataframe\">\n",
       "  <thead>\n",
       "    <tr style=\"text-align: right;\">\n",
       "      <th></th>\n",
       "      <th>Quantity</th>\n",
       "      <th>Price</th>\n",
       "      <th>Customer ID</th>\n",
       "    </tr>\n",
       "  </thead>\n",
       "  <tbody>\n",
       "    <tr>\n",
       "      <th>count</th>\n",
       "      <td>525461.00</td>\n",
       "      <td>525461.00</td>\n",
       "      <td>417534.00</td>\n",
       "    </tr>\n",
       "    <tr>\n",
       "      <th>mean</th>\n",
       "      <td>10.34</td>\n",
       "      <td>4.69</td>\n",
       "      <td>15360.65</td>\n",
       "    </tr>\n",
       "    <tr>\n",
       "      <th>std</th>\n",
       "      <td>107.42</td>\n",
       "      <td>146.13</td>\n",
       "      <td>1680.81</td>\n",
       "    </tr>\n",
       "    <tr>\n",
       "      <th>min</th>\n",
       "      <td>-9600.00</td>\n",
       "      <td>-53594.36</td>\n",
       "      <td>12346.00</td>\n",
       "    </tr>\n",
       "    <tr>\n",
       "      <th>25%</th>\n",
       "      <td>1.00</td>\n",
       "      <td>1.25</td>\n",
       "      <td>13983.00</td>\n",
       "    </tr>\n",
       "    <tr>\n",
       "      <th>50%</th>\n",
       "      <td>3.00</td>\n",
       "      <td>2.10</td>\n",
       "      <td>15311.00</td>\n",
       "    </tr>\n",
       "    <tr>\n",
       "      <th>75%</th>\n",
       "      <td>10.00</td>\n",
       "      <td>4.21</td>\n",
       "      <td>16799.00</td>\n",
       "    </tr>\n",
       "    <tr>\n",
       "      <th>max</th>\n",
       "      <td>19152.00</td>\n",
       "      <td>25111.09</td>\n",
       "      <td>18287.00</td>\n",
       "    </tr>\n",
       "  </tbody>\n",
       "</table>\n",
       "</div>"
      ],
      "text/plain": [
       "                  Quantity                Price          Customer ID\n",
       "count            525461.00            525461.00            417534.00\n",
       "mean                 10.34                 4.69             15360.65\n",
       "std                 107.42               146.13              1680.81\n",
       "min               -9600.00            -53594.36             12346.00\n",
       "25%                   1.00                 1.25             13983.00\n",
       "50%                   3.00                 2.10             15311.00\n",
       "75%                  10.00                 4.21             16799.00\n",
       "max               19152.00             25111.09             18287.00"
      ]
     },
     "execution_count": 59,
     "metadata": {},
     "output_type": "execute_result"
    }
   ],
   "source": [
    "df.describe()# for numeric data"
   ]
  },
  {
   "cell_type": "code",
   "execution_count": 60,
   "id": "4da30841",
   "metadata": {},
   "outputs": [
    {
     "data": {
      "application/vnd.microsoft.datawrangler.viewer.v0+json": {
       "columns": [
        {
         "name": "index",
         "rawType": "object",
         "type": "string"
        },
        {
         "name": "Invoice",
         "rawType": "object",
         "type": "unknown"
        },
        {
         "name": "StockCode",
         "rawType": "object",
         "type": "unknown"
        },
        {
         "name": "Description",
         "rawType": "object",
         "type": "unknown"
        },
        {
         "name": "InvoiceDate",
         "rawType": "object",
         "type": "unknown"
        },
        {
         "name": "Country",
         "rawType": "object",
         "type": "unknown"
        }
       ],
       "ref": "cb800722-90c4-4753-9d96-94edab224518",
       "rows": [
        [
         "count",
         "525461",
         "525461",
         "522533",
         "525461",
         "525461"
        ],
        [
         "unique",
         "28816",
         "4632",
         "4681",
         "25296",
         "40"
        ],
        [
         "top",
         "537434",
         "85123A",
         "WHITE HANGING HEART T-LIGHT HOLDER",
         "2010-12-06 16:57:00",
         "United Kingdom"
        ],
        [
         "freq",
         "675",
         "3516",
         "3549",
         "675",
         "485852"
        ]
       ],
       "shape": {
        "columns": 5,
        "rows": 4
       }
      },
      "text/html": [
       "<div>\n",
       "<style scoped>\n",
       "    .dataframe tbody tr th:only-of-type {\n",
       "        vertical-align: middle;\n",
       "    }\n",
       "\n",
       "    .dataframe tbody tr th {\n",
       "        vertical-align: top;\n",
       "    }\n",
       "\n",
       "    .dataframe thead th {\n",
       "        text-align: right;\n",
       "    }\n",
       "</style>\n",
       "<table border=\"1\" class=\"dataframe\">\n",
       "  <thead>\n",
       "    <tr style=\"text-align: right;\">\n",
       "      <th></th>\n",
       "      <th>Invoice</th>\n",
       "      <th>StockCode</th>\n",
       "      <th>Description</th>\n",
       "      <th>InvoiceDate</th>\n",
       "      <th>Country</th>\n",
       "    </tr>\n",
       "  </thead>\n",
       "  <tbody>\n",
       "    <tr>\n",
       "      <th>count</th>\n",
       "      <td>525461</td>\n",
       "      <td>525461</td>\n",
       "      <td>522533</td>\n",
       "      <td>525461</td>\n",
       "      <td>525461</td>\n",
       "    </tr>\n",
       "    <tr>\n",
       "      <th>unique</th>\n",
       "      <td>28816</td>\n",
       "      <td>4632</td>\n",
       "      <td>4681</td>\n",
       "      <td>25296</td>\n",
       "      <td>40</td>\n",
       "    </tr>\n",
       "    <tr>\n",
       "      <th>top</th>\n",
       "      <td>537434</td>\n",
       "      <td>85123A</td>\n",
       "      <td>WHITE HANGING HEART T-LIGHT HOLDER</td>\n",
       "      <td>2010-12-06 16:57:00</td>\n",
       "      <td>United Kingdom</td>\n",
       "    </tr>\n",
       "    <tr>\n",
       "      <th>freq</th>\n",
       "      <td>675</td>\n",
       "      <td>3516</td>\n",
       "      <td>3549</td>\n",
       "      <td>675</td>\n",
       "      <td>485852</td>\n",
       "    </tr>\n",
       "  </tbody>\n",
       "</table>\n",
       "</div>"
      ],
      "text/plain": [
       "       Invoice StockCode                         Description  \\\n",
       "count   525461    525461                              522533   \n",
       "unique   28816      4632                                4681   \n",
       "top     537434    85123A  WHITE HANGING HEART T-LIGHT HOLDER   \n",
       "freq       675      3516                                3549   \n",
       "\n",
       "                InvoiceDate         Country  \n",
       "count                525461          525461  \n",
       "unique                25296              40  \n",
       "top     2010-12-06 16:57:00  United Kingdom  \n",
       "freq                    675          485852  "
      ]
     },
     "execution_count": 60,
     "metadata": {},
     "output_type": "execute_result"
    }
   ],
   "source": [
    "df.describe(include='O')"
   ]
  },
  {
   "cell_type": "code",
   "execution_count": 61,
   "id": "5994a896",
   "metadata": {},
   "outputs": [
    {
     "data": {
      "application/vnd.microsoft.datawrangler.viewer.v0+json": {
       "columns": [
        {
         "name": "index",
         "rawType": "int64",
         "type": "integer"
        },
        {
         "name": "Invoice",
         "rawType": "object",
         "type": "string"
        },
        {
         "name": "StockCode",
         "rawType": "object",
         "type": "string"
        },
        {
         "name": "Description",
         "rawType": "object",
         "type": "unknown"
        },
        {
         "name": "Quantity",
         "rawType": "int64",
         "type": "integer"
        },
        {
         "name": "InvoiceDate",
         "rawType": "object",
         "type": "string"
        },
        {
         "name": "Price",
         "rawType": "float64",
         "type": "float"
        },
        {
         "name": "Customer ID",
         "rawType": "float64",
         "type": "float"
        },
        {
         "name": "Country",
         "rawType": "object",
         "type": "string"
        }
       ],
       "ref": "f715dbb2-7864-4b7c-8c04-e56866445de0",
       "rows": [
        [
         "263",
         "489464",
         "21733",
         "85123a mixed",
         "-96",
         "2009-12-01 10:52:00",
         "0.0",
         null,
         "United Kingdom"
        ],
        [
         "283",
         "489463",
         "71477",
         "short",
         "-240",
         "2009-12-01 10:52:00",
         "0.0",
         null,
         "United Kingdom"
        ],
        [
         "284",
         "489467",
         "85123A",
         "21733 mixed",
         "-192",
         "2009-12-01 10:53:00",
         "0.0",
         null,
         "United Kingdom"
        ],
        [
         "470",
         "489521",
         "21646",
         null,
         "-50",
         "2009-12-01 11:44:00",
         "0.0",
         null,
         "United Kingdom"
        ],
        [
         "577",
         "489525",
         "85226C",
         "BLUE PULL BACK RACING CAR",
         "1",
         "2009-12-01 11:49:00",
         "0.55",
         null,
         "United Kingdom"
        ],
        [
         "578",
         "489525",
         "85227",
         "SET/6 3D KIT CARDS FOR KIDS",
         "1",
         "2009-12-01 11:49:00",
         "0.85",
         null,
         "United Kingdom"
        ],
        [
         "1055",
         "489548",
         "22271",
         "FELTCRAFT DOLL ROSIE",
         "1",
         "2009-12-01 12:32:00",
         "2.95",
         null,
         "United Kingdom"
        ],
        [
         "1056",
         "489548",
         "22254",
         "FELT TOADSTOOL LARGE",
         "12",
         "2009-12-01 12:32:00",
         "1.25",
         null,
         "United Kingdom"
        ],
        [
         "1057",
         "489548",
         "22273",
         "FELTCRAFT DOLL MOLLY",
         "3",
         "2009-12-01 12:32:00",
         "2.95",
         null,
         "United Kingdom"
        ],
        [
         "1058",
         "489548",
         "22195",
         "LARGE HEART MEASURING SPOONS",
         "1",
         "2009-12-01 12:32:00",
         "1.65",
         null,
         "United Kingdom"
        ]
       ],
       "shape": {
        "columns": 8,
        "rows": 10
       }
      },
      "text/html": [
       "<div>\n",
       "<style scoped>\n",
       "    .dataframe tbody tr th:only-of-type {\n",
       "        vertical-align: middle;\n",
       "    }\n",
       "\n",
       "    .dataframe tbody tr th {\n",
       "        vertical-align: top;\n",
       "    }\n",
       "\n",
       "    .dataframe thead th {\n",
       "        text-align: right;\n",
       "    }\n",
       "</style>\n",
       "<table border=\"1\" class=\"dataframe\">\n",
       "  <thead>\n",
       "    <tr style=\"text-align: right;\">\n",
       "      <th></th>\n",
       "      <th>Invoice</th>\n",
       "      <th>StockCode</th>\n",
       "      <th>Description</th>\n",
       "      <th>Quantity</th>\n",
       "      <th>InvoiceDate</th>\n",
       "      <th>Price</th>\n",
       "      <th>Customer ID</th>\n",
       "      <th>Country</th>\n",
       "    </tr>\n",
       "  </thead>\n",
       "  <tbody>\n",
       "    <tr>\n",
       "      <th>263</th>\n",
       "      <td>489464</td>\n",
       "      <td>21733</td>\n",
       "      <td>85123a mixed</td>\n",
       "      <td>-96</td>\n",
       "      <td>2009-12-01 10:52:00</td>\n",
       "      <td>0.00</td>\n",
       "      <td>NaN</td>\n",
       "      <td>United Kingdom</td>\n",
       "    </tr>\n",
       "    <tr>\n",
       "      <th>283</th>\n",
       "      <td>489463</td>\n",
       "      <td>71477</td>\n",
       "      <td>short</td>\n",
       "      <td>-240</td>\n",
       "      <td>2009-12-01 10:52:00</td>\n",
       "      <td>0.00</td>\n",
       "      <td>NaN</td>\n",
       "      <td>United Kingdom</td>\n",
       "    </tr>\n",
       "    <tr>\n",
       "      <th>284</th>\n",
       "      <td>489467</td>\n",
       "      <td>85123A</td>\n",
       "      <td>21733 mixed</td>\n",
       "      <td>-192</td>\n",
       "      <td>2009-12-01 10:53:00</td>\n",
       "      <td>0.00</td>\n",
       "      <td>NaN</td>\n",
       "      <td>United Kingdom</td>\n",
       "    </tr>\n",
       "    <tr>\n",
       "      <th>470</th>\n",
       "      <td>489521</td>\n",
       "      <td>21646</td>\n",
       "      <td>NaN</td>\n",
       "      <td>-50</td>\n",
       "      <td>2009-12-01 11:44:00</td>\n",
       "      <td>0.00</td>\n",
       "      <td>NaN</td>\n",
       "      <td>United Kingdom</td>\n",
       "    </tr>\n",
       "    <tr>\n",
       "      <th>577</th>\n",
       "      <td>489525</td>\n",
       "      <td>85226C</td>\n",
       "      <td>BLUE PULL BACK RACING CAR</td>\n",
       "      <td>1</td>\n",
       "      <td>2009-12-01 11:49:00</td>\n",
       "      <td>0.55</td>\n",
       "      <td>NaN</td>\n",
       "      <td>United Kingdom</td>\n",
       "    </tr>\n",
       "    <tr>\n",
       "      <th>578</th>\n",
       "      <td>489525</td>\n",
       "      <td>85227</td>\n",
       "      <td>SET/6 3D KIT CARDS FOR KIDS</td>\n",
       "      <td>1</td>\n",
       "      <td>2009-12-01 11:49:00</td>\n",
       "      <td>0.85</td>\n",
       "      <td>NaN</td>\n",
       "      <td>United Kingdom</td>\n",
       "    </tr>\n",
       "    <tr>\n",
       "      <th>1055</th>\n",
       "      <td>489548</td>\n",
       "      <td>22271</td>\n",
       "      <td>FELTCRAFT DOLL ROSIE</td>\n",
       "      <td>1</td>\n",
       "      <td>2009-12-01 12:32:00</td>\n",
       "      <td>2.95</td>\n",
       "      <td>NaN</td>\n",
       "      <td>United Kingdom</td>\n",
       "    </tr>\n",
       "    <tr>\n",
       "      <th>1056</th>\n",
       "      <td>489548</td>\n",
       "      <td>22254</td>\n",
       "      <td>FELT TOADSTOOL LARGE</td>\n",
       "      <td>12</td>\n",
       "      <td>2009-12-01 12:32:00</td>\n",
       "      <td>1.25</td>\n",
       "      <td>NaN</td>\n",
       "      <td>United Kingdom</td>\n",
       "    </tr>\n",
       "    <tr>\n",
       "      <th>1057</th>\n",
       "      <td>489548</td>\n",
       "      <td>22273</td>\n",
       "      <td>FELTCRAFT DOLL MOLLY</td>\n",
       "      <td>3</td>\n",
       "      <td>2009-12-01 12:32:00</td>\n",
       "      <td>2.95</td>\n",
       "      <td>NaN</td>\n",
       "      <td>United Kingdom</td>\n",
       "    </tr>\n",
       "    <tr>\n",
       "      <th>1058</th>\n",
       "      <td>489548</td>\n",
       "      <td>22195</td>\n",
       "      <td>LARGE HEART MEASURING SPOONS</td>\n",
       "      <td>1</td>\n",
       "      <td>2009-12-01 12:32:00</td>\n",
       "      <td>1.65</td>\n",
       "      <td>NaN</td>\n",
       "      <td>United Kingdom</td>\n",
       "    </tr>\n",
       "  </tbody>\n",
       "</table>\n",
       "</div>"
      ],
      "text/plain": [
       "     Invoice StockCode                   Description  Quantity  \\\n",
       "263   489464     21733                  85123a mixed       -96   \n",
       "283   489463     71477                         short      -240   \n",
       "284   489467    85123A                   21733 mixed      -192   \n",
       "470   489521     21646                           NaN       -50   \n",
       "577   489525    85226C     BLUE PULL BACK RACING CAR         1   \n",
       "578   489525     85227   SET/6 3D KIT CARDS FOR KIDS         1   \n",
       "1055  489548     22271          FELTCRAFT DOLL ROSIE         1   \n",
       "1056  489548     22254          FELT TOADSTOOL LARGE        12   \n",
       "1057  489548     22273          FELTCRAFT DOLL MOLLY         3   \n",
       "1058  489548     22195  LARGE HEART MEASURING SPOONS         1   \n",
       "\n",
       "              InvoiceDate                Price  Customer ID         Country  \n",
       "263   2009-12-01 10:52:00                 0.00          NaN  United Kingdom  \n",
       "283   2009-12-01 10:52:00                 0.00          NaN  United Kingdom  \n",
       "284   2009-12-01 10:53:00                 0.00          NaN  United Kingdom  \n",
       "470   2009-12-01 11:44:00                 0.00          NaN  United Kingdom  \n",
       "577   2009-12-01 11:49:00                 0.55          NaN  United Kingdom  \n",
       "578   2009-12-01 11:49:00                 0.85          NaN  United Kingdom  \n",
       "1055  2009-12-01 12:32:00                 2.95          NaN  United Kingdom  \n",
       "1056  2009-12-01 12:32:00                 1.25          NaN  United Kingdom  \n",
       "1057  2009-12-01 12:32:00                 2.95          NaN  United Kingdom  \n",
       "1058  2009-12-01 12:32:00                 1.65          NaN  United Kingdom  "
      ]
     },
     "execution_count": 61,
     "metadata": {},
     "output_type": "execute_result"
    }
   ],
   "source": [
    "df[df['Customer ID'].isna()].head(10)"
   ]
  },
  {
   "cell_type": "markdown",
   "id": "f466a205",
   "metadata": {},
   "source": [
    "may have to drop the customers with the missing customer id this makes categorization difficult"
   ]
  },
  {
   "cell_type": "code",
   "execution_count": 62,
   "id": "324ac8d9",
   "metadata": {},
   "outputs": [
    {
     "data": {
      "application/vnd.microsoft.datawrangler.viewer.v0+json": {
       "columns": [
        {
         "name": "index",
         "rawType": "int64",
         "type": "integer"
        },
        {
         "name": "Invoice",
         "rawType": "object",
         "type": "string"
        },
        {
         "name": "StockCode",
         "rawType": "object",
         "type": "string"
        },
        {
         "name": "Description",
         "rawType": "object",
         "type": "string"
        },
        {
         "name": "Quantity",
         "rawType": "int64",
         "type": "integer"
        },
        {
         "name": "InvoiceDate",
         "rawType": "object",
         "type": "string"
        },
        {
         "name": "Price",
         "rawType": "float64",
         "type": "float"
        },
        {
         "name": "Customer ID",
         "rawType": "float64",
         "type": "float"
        },
        {
         "name": "Country",
         "rawType": "object",
         "type": "string"
        }
       ],
       "ref": "a6a51f33-2ba9-4ba2-b7b2-70de4df93218",
       "rows": [
        [
         "178",
         "C489449",
         "22087",
         "PAPER BUNTING WHITE LACE",
         "-12",
         "2009-12-01 10:33:00",
         "2.95",
         "16321.0",
         "Australia"
        ],
        [
         "179",
         "C489449",
         "85206A",
         "CREAM FELT EASTER EGG BASKET",
         "-6",
         "2009-12-01 10:33:00",
         "1.65",
         "16321.0",
         "Australia"
        ],
        [
         "180",
         "C489449",
         "21895",
         "POTTING SHED SOW 'N' GROW SET",
         "-4",
         "2009-12-01 10:33:00",
         "4.25",
         "16321.0",
         "Australia"
        ],
        [
         "181",
         "C489449",
         "21896",
         "POTTING SHED TWINE",
         "-6",
         "2009-12-01 10:33:00",
         "2.1",
         "16321.0",
         "Australia"
        ],
        [
         "182",
         "C489449",
         "22083",
         "PAPER CHAIN KIT RETRO SPOT",
         "-12",
         "2009-12-01 10:33:00",
         "2.95",
         "16321.0",
         "Australia"
        ],
        [
         "183",
         "C489449",
         "21871",
         "SAVE THE PLANET MUG",
         "-12",
         "2009-12-01 10:33:00",
         "1.25",
         "16321.0",
         "Australia"
        ],
        [
         "184",
         "C489449",
         "84946",
         "ANTIQUE SILVER TEA GLASS ETCHED",
         "-12",
         "2009-12-01 10:33:00",
         "1.25",
         "16321.0",
         "Australia"
        ],
        [
         "185",
         "C489449",
         "84970S",
         "HANGING HEART ZINC T-LIGHT HOLDER",
         "-24",
         "2009-12-01 10:33:00",
         "0.85",
         "16321.0",
         "Australia"
        ],
        [
         "186",
         "C489449",
         "22090",
         "PAPER BUNTING RETRO SPOTS",
         "-12",
         "2009-12-01 10:33:00",
         "2.95",
         "16321.0",
         "Australia"
        ],
        [
         "196",
         "C489459",
         "90200A",
         "PURPLE SWEETHEART BRACELET",
         "-3",
         "2009-12-01 10:44:00",
         "4.25",
         "17592.0",
         "United Kingdom"
        ]
       ],
       "shape": {
        "columns": 8,
        "rows": 10
       }
      },
      "text/html": [
       "<div>\n",
       "<style scoped>\n",
       "    .dataframe tbody tr th:only-of-type {\n",
       "        vertical-align: middle;\n",
       "    }\n",
       "\n",
       "    .dataframe tbody tr th {\n",
       "        vertical-align: top;\n",
       "    }\n",
       "\n",
       "    .dataframe thead th {\n",
       "        text-align: right;\n",
       "    }\n",
       "</style>\n",
       "<table border=\"1\" class=\"dataframe\">\n",
       "  <thead>\n",
       "    <tr style=\"text-align: right;\">\n",
       "      <th></th>\n",
       "      <th>Invoice</th>\n",
       "      <th>StockCode</th>\n",
       "      <th>Description</th>\n",
       "      <th>Quantity</th>\n",
       "      <th>InvoiceDate</th>\n",
       "      <th>Price</th>\n",
       "      <th>Customer ID</th>\n",
       "      <th>Country</th>\n",
       "    </tr>\n",
       "  </thead>\n",
       "  <tbody>\n",
       "    <tr>\n",
       "      <th>178</th>\n",
       "      <td>C489449</td>\n",
       "      <td>22087</td>\n",
       "      <td>PAPER BUNTING WHITE LACE</td>\n",
       "      <td>-12</td>\n",
       "      <td>2009-12-01 10:33:00</td>\n",
       "      <td>2.95</td>\n",
       "      <td>16321.00</td>\n",
       "      <td>Australia</td>\n",
       "    </tr>\n",
       "    <tr>\n",
       "      <th>179</th>\n",
       "      <td>C489449</td>\n",
       "      <td>85206A</td>\n",
       "      <td>CREAM FELT EASTER EGG BASKET</td>\n",
       "      <td>-6</td>\n",
       "      <td>2009-12-01 10:33:00</td>\n",
       "      <td>1.65</td>\n",
       "      <td>16321.00</td>\n",
       "      <td>Australia</td>\n",
       "    </tr>\n",
       "    <tr>\n",
       "      <th>180</th>\n",
       "      <td>C489449</td>\n",
       "      <td>21895</td>\n",
       "      <td>POTTING SHED SOW 'N' GROW SET</td>\n",
       "      <td>-4</td>\n",
       "      <td>2009-12-01 10:33:00</td>\n",
       "      <td>4.25</td>\n",
       "      <td>16321.00</td>\n",
       "      <td>Australia</td>\n",
       "    </tr>\n",
       "    <tr>\n",
       "      <th>181</th>\n",
       "      <td>C489449</td>\n",
       "      <td>21896</td>\n",
       "      <td>POTTING SHED TWINE</td>\n",
       "      <td>-6</td>\n",
       "      <td>2009-12-01 10:33:00</td>\n",
       "      <td>2.10</td>\n",
       "      <td>16321.00</td>\n",
       "      <td>Australia</td>\n",
       "    </tr>\n",
       "    <tr>\n",
       "      <th>182</th>\n",
       "      <td>C489449</td>\n",
       "      <td>22083</td>\n",
       "      <td>PAPER CHAIN KIT RETRO SPOT</td>\n",
       "      <td>-12</td>\n",
       "      <td>2009-12-01 10:33:00</td>\n",
       "      <td>2.95</td>\n",
       "      <td>16321.00</td>\n",
       "      <td>Australia</td>\n",
       "    </tr>\n",
       "    <tr>\n",
       "      <th>183</th>\n",
       "      <td>C489449</td>\n",
       "      <td>21871</td>\n",
       "      <td>SAVE THE PLANET MUG</td>\n",
       "      <td>-12</td>\n",
       "      <td>2009-12-01 10:33:00</td>\n",
       "      <td>1.25</td>\n",
       "      <td>16321.00</td>\n",
       "      <td>Australia</td>\n",
       "    </tr>\n",
       "    <tr>\n",
       "      <th>184</th>\n",
       "      <td>C489449</td>\n",
       "      <td>84946</td>\n",
       "      <td>ANTIQUE SILVER TEA GLASS ETCHED</td>\n",
       "      <td>-12</td>\n",
       "      <td>2009-12-01 10:33:00</td>\n",
       "      <td>1.25</td>\n",
       "      <td>16321.00</td>\n",
       "      <td>Australia</td>\n",
       "    </tr>\n",
       "    <tr>\n",
       "      <th>185</th>\n",
       "      <td>C489449</td>\n",
       "      <td>84970S</td>\n",
       "      <td>HANGING HEART ZINC T-LIGHT HOLDER</td>\n",
       "      <td>-24</td>\n",
       "      <td>2009-12-01 10:33:00</td>\n",
       "      <td>0.85</td>\n",
       "      <td>16321.00</td>\n",
       "      <td>Australia</td>\n",
       "    </tr>\n",
       "    <tr>\n",
       "      <th>186</th>\n",
       "      <td>C489449</td>\n",
       "      <td>22090</td>\n",
       "      <td>PAPER BUNTING RETRO SPOTS</td>\n",
       "      <td>-12</td>\n",
       "      <td>2009-12-01 10:33:00</td>\n",
       "      <td>2.95</td>\n",
       "      <td>16321.00</td>\n",
       "      <td>Australia</td>\n",
       "    </tr>\n",
       "    <tr>\n",
       "      <th>196</th>\n",
       "      <td>C489459</td>\n",
       "      <td>90200A</td>\n",
       "      <td>PURPLE SWEETHEART BRACELET</td>\n",
       "      <td>-3</td>\n",
       "      <td>2009-12-01 10:44:00</td>\n",
       "      <td>4.25</td>\n",
       "      <td>17592.00</td>\n",
       "      <td>United Kingdom</td>\n",
       "    </tr>\n",
       "  </tbody>\n",
       "</table>\n",
       "</div>"
      ],
      "text/plain": [
       "     Invoice StockCode                        Description  Quantity  \\\n",
       "178  C489449     22087           PAPER BUNTING WHITE LACE       -12   \n",
       "179  C489449    85206A       CREAM FELT EASTER EGG BASKET        -6   \n",
       "180  C489449     21895      POTTING SHED SOW 'N' GROW SET        -4   \n",
       "181  C489449     21896                 POTTING SHED TWINE        -6   \n",
       "182  C489449     22083         PAPER CHAIN KIT RETRO SPOT       -12   \n",
       "183  C489449     21871                SAVE THE PLANET MUG       -12   \n",
       "184  C489449     84946    ANTIQUE SILVER TEA GLASS ETCHED       -12   \n",
       "185  C489449    84970S  HANGING HEART ZINC T-LIGHT HOLDER       -24   \n",
       "186  C489449     22090          PAPER BUNTING RETRO SPOTS       -12   \n",
       "196  C489459    90200A         PURPLE SWEETHEART BRACELET        -3   \n",
       "\n",
       "             InvoiceDate                Price          Customer ID  \\\n",
       "178  2009-12-01 10:33:00                 2.95             16321.00   \n",
       "179  2009-12-01 10:33:00                 1.65             16321.00   \n",
       "180  2009-12-01 10:33:00                 4.25             16321.00   \n",
       "181  2009-12-01 10:33:00                 2.10             16321.00   \n",
       "182  2009-12-01 10:33:00                 2.95             16321.00   \n",
       "183  2009-12-01 10:33:00                 1.25             16321.00   \n",
       "184  2009-12-01 10:33:00                 1.25             16321.00   \n",
       "185  2009-12-01 10:33:00                 0.85             16321.00   \n",
       "186  2009-12-01 10:33:00                 2.95             16321.00   \n",
       "196  2009-12-01 10:44:00                 4.25             17592.00   \n",
       "\n",
       "            Country  \n",
       "178       Australia  \n",
       "179       Australia  \n",
       "180       Australia  \n",
       "181       Australia  \n",
       "182       Australia  \n",
       "183       Australia  \n",
       "184       Australia  \n",
       "185       Australia  \n",
       "186       Australia  \n",
       "196  United Kingdom  "
      ]
     },
     "execution_count": 62,
     "metadata": {},
     "output_type": "execute_result"
    }
   ],
   "source": [
    "df[df[\"Quantity\"] < 0].head(10)"
   ]
  },
  {
   "cell_type": "markdown",
   "id": "611997ed",
   "metadata": {},
   "source": [
    "from the documentation\n",
    "InvoiceNo: Invoice number. Nominal. A 6-digit integral number uniquely assigned to each transaction. If this code starts with the letter 'c', it indicates a cancellation. \n",
    "\n",
    "therefore we need to identify these\n",
    "we are using the regex tool"
   ]
  },
  {
   "cell_type": "code",
   "execution_count": 63,
   "id": "49b27998",
   "metadata": {},
   "outputs": [
    {
     "data": {
      "application/vnd.microsoft.datawrangler.viewer.v0+json": {
       "columns": [
        {
         "name": "index",
         "rawType": "int64",
         "type": "integer"
        },
        {
         "name": "Invoice",
         "rawType": "object",
         "type": "string"
        },
        {
         "name": "StockCode",
         "rawType": "object",
         "type": "string"
        },
        {
         "name": "Description",
         "rawType": "object",
         "type": "string"
        },
        {
         "name": "Quantity",
         "rawType": "int64",
         "type": "integer"
        },
        {
         "name": "InvoiceDate",
         "rawType": "object",
         "type": "string"
        },
        {
         "name": "Price",
         "rawType": "float64",
         "type": "float"
        },
        {
         "name": "Customer ID",
         "rawType": "float64",
         "type": "float"
        },
        {
         "name": "Country",
         "rawType": "object",
         "type": "string"
        }
       ],
       "ref": "a0f3e075-40e5-4130-b5a2-80dc4e8b5812",
       "rows": [
        [
         "178",
         "C489449",
         "22087",
         "PAPER BUNTING WHITE LACE",
         "-12",
         "2009-12-01 10:33:00",
         "2.95",
         "16321.0",
         "Australia"
        ],
        [
         "179",
         "C489449",
         "85206A",
         "CREAM FELT EASTER EGG BASKET",
         "-6",
         "2009-12-01 10:33:00",
         "1.65",
         "16321.0",
         "Australia"
        ],
        [
         "180",
         "C489449",
         "21895",
         "POTTING SHED SOW 'N' GROW SET",
         "-4",
         "2009-12-01 10:33:00",
         "4.25",
         "16321.0",
         "Australia"
        ],
        [
         "181",
         "C489449",
         "21896",
         "POTTING SHED TWINE",
         "-6",
         "2009-12-01 10:33:00",
         "2.1",
         "16321.0",
         "Australia"
        ],
        [
         "182",
         "C489449",
         "22083",
         "PAPER CHAIN KIT RETRO SPOT",
         "-12",
         "2009-12-01 10:33:00",
         "2.95",
         "16321.0",
         "Australia"
        ],
        [
         "183",
         "C489449",
         "21871",
         "SAVE THE PLANET MUG",
         "-12",
         "2009-12-01 10:33:00",
         "1.25",
         "16321.0",
         "Australia"
        ],
        [
         "184",
         "C489449",
         "84946",
         "ANTIQUE SILVER TEA GLASS ETCHED",
         "-12",
         "2009-12-01 10:33:00",
         "1.25",
         "16321.0",
         "Australia"
        ],
        [
         "185",
         "C489449",
         "84970S",
         "HANGING HEART ZINC T-LIGHT HOLDER",
         "-24",
         "2009-12-01 10:33:00",
         "0.85",
         "16321.0",
         "Australia"
        ],
        [
         "186",
         "C489449",
         "22090",
         "PAPER BUNTING RETRO SPOTS",
         "-12",
         "2009-12-01 10:33:00",
         "2.95",
         "16321.0",
         "Australia"
        ],
        [
         "196",
         "C489459",
         "90200A",
         "PURPLE SWEETHEART BRACELET",
         "-3",
         "2009-12-01 10:44:00",
         "4.25",
         "17592.0",
         "United Kingdom"
        ],
        [
         "197",
         "C489459",
         "90200D",
         "PINK SWEETHEART BRACELET",
         "-3",
         "2009-12-01 10:44:00",
         "4.25",
         "17592.0",
         "United Kingdom"
        ],
        [
         "198",
         "C489459",
         "90200B",
         "BLACK SWEETHEART BRACELET",
         "-3",
         "2009-12-01 10:44:00",
         "4.25",
         "17592.0",
         "United Kingdom"
        ],
        [
         "199",
         "C489459",
         "90200E",
         "GREEN SWEETHEART BRACELET",
         "-3",
         "2009-12-01 10:44:00",
         "4.25",
         "17592.0",
         "United Kingdom"
        ],
        [
         "200",
         "C489459",
         "90200C",
         "BLUE SWEETHEART BRACELET",
         "-3",
         "2009-12-01 10:44:00",
         "4.25",
         "17592.0",
         "United Kingdom"
        ],
        [
         "201",
         "C489459",
         "90185C",
         "BLACK DIAMANTE EXPANDABLE RING",
         "-3",
         "2009-12-01 10:44:00",
         "4.25",
         "17592.0",
         "United Kingdom"
        ],
        [
         "202",
         "C489459",
         "90185B",
         "AMETHYST DIAMANTE EXPANDABLE RING",
         "-3",
         "2009-12-01 10:44:00",
         "4.25",
         "17592.0",
         "United Kingdom"
        ],
        [
         "203",
         "C489459",
         "90003C",
         "MIDNIGHT BLUE PAIR HEART HAIR SLIDE",
         "-3",
         "2009-12-01 10:44:00",
         "3.75",
         "17592.0",
         "United Kingdom"
        ],
        [
         "204",
         "C489459",
         "90003D",
         "CRYSTAL PAIR HEART HAIR SLIDES",
         "-3",
         "2009-12-01 10:44:00",
         "3.75",
         "17592.0",
         "United Kingdom"
        ],
        [
         "205",
         "C489459",
         "90003B",
         "ROSE COLOUR PAIR HEART HAIR SLIDES",
         "-3",
         "2009-12-01 10:44:00",
         "3.75",
         "17592.0",
         "United Kingdom"
        ],
        [
         "206",
         "C489459",
         "90209C",
         "PINK ENAMEL+GLASS HAIR COMB",
         "-3",
         "2009-12-01 10:44:00",
         "2.1",
         "17592.0",
         "United Kingdom"
        ],
        [
         "207",
         "C489459",
         "90209A",
         "PURPLE ENAMEL+GLASS HAIR COMB",
         "-3",
         "2009-12-01 10:44:00",
         "2.1",
         "17592.0",
         "United Kingdom"
        ],
        [
         "208",
         "C489459",
         "90082D",
         "DIAMANTE BOW BROOCH BLACK COLOUR",
         "-2",
         "2009-12-01 10:44:00",
         "6.35",
         "17592.0",
         "United Kingdom"
        ],
        [
         "285",
         "C489476",
         "22149",
         "FELTCRAFT 6 FLOWER FRIENDS",
         "-6",
         "2009-12-01 10:55:00",
         "2.1",
         "13293.0",
         "United Kingdom"
        ],
        [
         "316",
         "C489503",
         "21540",
         "DAIRY MAID CERAMIC BUTTER DISH",
         "-2",
         "2009-12-01 11:04:00",
         "4.25",
         "16011.0",
         "United Kingdom"
        ],
        [
         "317",
         "C489503",
         "21533",
         "RETRO SPOT LARGE MILK JUG",
         "-1",
         "2009-12-01 11:04:00",
         "4.95",
         "16011.0",
         "United Kingdom"
        ],
        [
         "318",
         "C489504",
         "85083",
         "KISS REINDEER SCANDINAVIAN STOCKING",
         "-6",
         "2009-12-01 11:10:00",
         "2.55",
         "13916.0",
         "United Kingdom"
        ],
        [
         "399",
         "C489518",
         "20892",
         "SET/3 TALL GLASS CANDLE HOLDER PINK",
         "-2",
         "2009-12-01 11:35:00",
         "12.75",
         "15461.0",
         "United Kingdom"
        ],
        [
         "400",
         "C489518",
         "85048",
         "15CM CHRISTMAS GLASS BALL 20 LIGHTS",
         "-1",
         "2009-12-01 11:35:00",
         "7.95",
         "15461.0",
         "United Kingdom"
        ],
        [
         "401",
         "C489518",
         "22138",
         "BAKING SET 9 PIECE RETROSPOT ",
         "-1",
         "2009-12-01 11:35:00",
         "4.95",
         "15461.0",
         "United Kingdom"
        ],
        [
         "576",
         "C489524",
         "21258",
         "VICTORIAN SEWING BOX LARGE",
         "-1",
         "2009-12-01 11:48:00",
         "12.75",
         "15614.0",
         "United Kingdom"
        ],
        [
         "589",
         "C489527",
         "21041",
         "RED SPOTTY OVEN GLOVE DOUBLE",
         "-3",
         "2009-12-01 11:50:00",
         "2.95",
         "16128.0",
         "United Kingdom"
        ],
        [
         "590",
         "C489527",
         "21173",
         "LOO ROLL  METAL SIGN ",
         "-12",
         "2009-12-01 11:50:00",
         "1.65",
         "16128.0",
         "United Kingdom"
        ],
        [
         "591",
         "C489527",
         "85124A",
         "PINK JUICY FRUIT PHOTO FRAME",
         "-6",
         "2009-12-01 11:50:00",
         "2.55",
         "16128.0",
         "United Kingdom"
        ],
        [
         "626",
         "C489528",
         "85048",
         "15CM CHRISTMAS GLASS BALL 20 LIGHTS",
         "-1",
         "2009-12-01 11:50:00",
         "7.95",
         "16714.0",
         "United Kingdom"
        ],
        [
         "677",
         "C489530",
         "72803A",
         "ROSE SCENT CANDLE JEWELLED DRAWER",
         "-1",
         "2009-12-01 11:56:00",
         "4.25",
         "14748.0",
         "United Kingdom"
        ],
        [
         "734",
         "C489534",
         "35832",
         "WOOLLY HAT SOCK GLOVE ADVENT STRING",
         "-1",
         "2009-12-01 12:09:00",
         "5.95",
         "12615.0",
         "France"
        ],
        [
         "735",
         "C489535",
         "D",
         "Discount",
         "-1",
         "2009-12-01 12:11:00",
         "9.0",
         "15299.0",
         "United Kingdom"
        ],
        [
         "736",
         "C489535",
         "D",
         "Discount",
         "-1",
         "2009-12-01 12:11:00",
         "19.0",
         "15299.0",
         "United Kingdom"
        ],
        [
         "926",
         "C489538",
         "22183",
         "CAKE STAND VICTORIAN FILIGREE MED",
         "-4",
         "2009-12-01 12:18:00",
         "6.75",
         "15796.0",
         "United Kingdom"
        ],
        [
         "927",
         "C489538",
         "POST",
         "POSTAGE",
         "-1",
         "2009-12-01 12:18:00",
         "9.58",
         "15796.0",
         "United Kingdom"
        ],
        [
         "933",
         "C489541",
         "21254",
         "SET OF KITCHEN WALL  STICKERS",
         "-4",
         "2009-12-01 12:18:00",
         "2.95",
         "15091.0",
         "United Kingdom"
        ],
        [
         "953",
         "C489543",
         "35400",
         "WOODEN BOX ADVENT CALENDAR ",
         "-2",
         "2009-12-01 12:19:00",
         "8.95",
         "14292.0",
         "United Kingdom"
        ],
        [
         "1110",
         "C489549",
         "35400",
         "WOODEN BOX ADVENT CALENDAR ",
         "-2",
         "2009-12-01 12:33:00",
         "7.95",
         "13768.0",
         "United Kingdom"
        ],
        [
         "1134",
         "C489551",
         "85048",
         "15CM CHRISTMAS GLASS BALL 20 LIGHTS",
         "-1",
         "2009-12-01 12:35:00",
         "6.95",
         "17641.0",
         "United Kingdom"
        ],
        [
         "1160",
         "C489553",
         "35004S",
         "SET OF 3 SILVER FLYING DUCKS",
         "-1",
         "2009-12-01 12:41:00",
         "6.35",
         "13545.0",
         "United Kingdom"
        ],
        [
         "1161",
         "C489553",
         "35001W",
         "HAND OPEN SHAPE DECO.WHITE",
         "-6",
         "2009-12-01 12:41:00",
         "3.49",
         "13545.0",
         "United Kingdom"
        ],
        [
         "1162",
         "C489554",
         "85042",
         "ANTIQUE LILY FAIRY LIGHTS",
         "-3",
         "2009-12-01 12:43:00",
         "4.25",
         "13767.0",
         "United Kingdom"
        ],
        [
         "1163",
         "C489554",
         "35001B",
         "HAND OPEN SHAPE BLACK",
         "-2",
         "2009-12-01 12:43:00",
         "2.95",
         "13767.0",
         "United Kingdom"
        ],
        [
         "1164",
         "C489555",
         "21260",
         "FIRST AID TIN",
         "-6",
         "2009-12-01 12:44:00",
         "3.25",
         "16955.0",
         "United Kingdom"
        ],
        [
         "1353",
         "C489563",
         "90088",
         "CRYSTAL KEY+LOCK PHONE CHARM",
         "-24",
         "2009-12-01 13:09:00",
         "0.85",
         "13526.0",
         "United Kingdom"
        ]
       ],
       "shape": {
        "columns": 8,
        "rows": 10209
       }
      },
      "text/html": [
       "<div>\n",
       "<style scoped>\n",
       "    .dataframe tbody tr th:only-of-type {\n",
       "        vertical-align: middle;\n",
       "    }\n",
       "\n",
       "    .dataframe tbody tr th {\n",
       "        vertical-align: top;\n",
       "    }\n",
       "\n",
       "    .dataframe thead th {\n",
       "        text-align: right;\n",
       "    }\n",
       "</style>\n",
       "<table border=\"1\" class=\"dataframe\">\n",
       "  <thead>\n",
       "    <tr style=\"text-align: right;\">\n",
       "      <th></th>\n",
       "      <th>Invoice</th>\n",
       "      <th>StockCode</th>\n",
       "      <th>Description</th>\n",
       "      <th>Quantity</th>\n",
       "      <th>InvoiceDate</th>\n",
       "      <th>Price</th>\n",
       "      <th>Customer ID</th>\n",
       "      <th>Country</th>\n",
       "    </tr>\n",
       "  </thead>\n",
       "  <tbody>\n",
       "    <tr>\n",
       "      <th>178</th>\n",
       "      <td>C489449</td>\n",
       "      <td>22087</td>\n",
       "      <td>PAPER BUNTING WHITE LACE</td>\n",
       "      <td>-12</td>\n",
       "      <td>2009-12-01 10:33:00</td>\n",
       "      <td>2.95</td>\n",
       "      <td>16321.00</td>\n",
       "      <td>Australia</td>\n",
       "    </tr>\n",
       "    <tr>\n",
       "      <th>179</th>\n",
       "      <td>C489449</td>\n",
       "      <td>85206A</td>\n",
       "      <td>CREAM FELT EASTER EGG BASKET</td>\n",
       "      <td>-6</td>\n",
       "      <td>2009-12-01 10:33:00</td>\n",
       "      <td>1.65</td>\n",
       "      <td>16321.00</td>\n",
       "      <td>Australia</td>\n",
       "    </tr>\n",
       "    <tr>\n",
       "      <th>180</th>\n",
       "      <td>C489449</td>\n",
       "      <td>21895</td>\n",
       "      <td>POTTING SHED SOW 'N' GROW SET</td>\n",
       "      <td>-4</td>\n",
       "      <td>2009-12-01 10:33:00</td>\n",
       "      <td>4.25</td>\n",
       "      <td>16321.00</td>\n",
       "      <td>Australia</td>\n",
       "    </tr>\n",
       "    <tr>\n",
       "      <th>181</th>\n",
       "      <td>C489449</td>\n",
       "      <td>21896</td>\n",
       "      <td>POTTING SHED TWINE</td>\n",
       "      <td>-6</td>\n",
       "      <td>2009-12-01 10:33:00</td>\n",
       "      <td>2.10</td>\n",
       "      <td>16321.00</td>\n",
       "      <td>Australia</td>\n",
       "    </tr>\n",
       "    <tr>\n",
       "      <th>182</th>\n",
       "      <td>C489449</td>\n",
       "      <td>22083</td>\n",
       "      <td>PAPER CHAIN KIT RETRO SPOT</td>\n",
       "      <td>-12</td>\n",
       "      <td>2009-12-01 10:33:00</td>\n",
       "      <td>2.95</td>\n",
       "      <td>16321.00</td>\n",
       "      <td>Australia</td>\n",
       "    </tr>\n",
       "    <tr>\n",
       "      <th>...</th>\n",
       "      <td>...</td>\n",
       "      <td>...</td>\n",
       "      <td>...</td>\n",
       "      <td>...</td>\n",
       "      <td>...</td>\n",
       "      <td>...</td>\n",
       "      <td>...</td>\n",
       "      <td>...</td>\n",
       "    </tr>\n",
       "    <tr>\n",
       "      <th>524695</th>\n",
       "      <td>C538123</td>\n",
       "      <td>22956</td>\n",
       "      <td>36 FOIL HEART CAKE CASES</td>\n",
       "      <td>-2</td>\n",
       "      <td>2010-12-09 15:41:00</td>\n",
       "      <td>2.10</td>\n",
       "      <td>12605.00</td>\n",
       "      <td>Germany</td>\n",
       "    </tr>\n",
       "    <tr>\n",
       "      <th>524696</th>\n",
       "      <td>C538124</td>\n",
       "      <td>M</td>\n",
       "      <td>Manual</td>\n",
       "      <td>-4</td>\n",
       "      <td>2010-12-09 15:43:00</td>\n",
       "      <td>0.50</td>\n",
       "      <td>15329.00</td>\n",
       "      <td>United Kingdom</td>\n",
       "    </tr>\n",
       "    <tr>\n",
       "      <th>524697</th>\n",
       "      <td>C538124</td>\n",
       "      <td>22699</td>\n",
       "      <td>ROSES REGENCY TEACUP AND SAUCER</td>\n",
       "      <td>-1</td>\n",
       "      <td>2010-12-09 15:43:00</td>\n",
       "      <td>2.95</td>\n",
       "      <td>15329.00</td>\n",
       "      <td>United Kingdom</td>\n",
       "    </tr>\n",
       "    <tr>\n",
       "      <th>524698</th>\n",
       "      <td>C538124</td>\n",
       "      <td>22423</td>\n",
       "      <td>REGENCY CAKESTAND 3 TIER</td>\n",
       "      <td>-1</td>\n",
       "      <td>2010-12-09 15:43:00</td>\n",
       "      <td>12.75</td>\n",
       "      <td>15329.00</td>\n",
       "      <td>United Kingdom</td>\n",
       "    </tr>\n",
       "    <tr>\n",
       "      <th>525282</th>\n",
       "      <td>C538164</td>\n",
       "      <td>35004B</td>\n",
       "      <td>SET OF 3 BLACK FLYING DUCKS</td>\n",
       "      <td>-1</td>\n",
       "      <td>2010-12-09 17:32:00</td>\n",
       "      <td>1.95</td>\n",
       "      <td>14031.00</td>\n",
       "      <td>United Kingdom</td>\n",
       "    </tr>\n",
       "  </tbody>\n",
       "</table>\n",
       "<p>10209 rows × 8 columns</p>\n",
       "</div>"
      ],
      "text/plain": [
       "        Invoice StockCode                       Description  Quantity  \\\n",
       "178     C489449     22087          PAPER BUNTING WHITE LACE       -12   \n",
       "179     C489449    85206A      CREAM FELT EASTER EGG BASKET        -6   \n",
       "180     C489449     21895     POTTING SHED SOW 'N' GROW SET        -4   \n",
       "181     C489449     21896                POTTING SHED TWINE        -6   \n",
       "182     C489449     22083        PAPER CHAIN KIT RETRO SPOT       -12   \n",
       "...         ...       ...                               ...       ...   \n",
       "524695  C538123     22956          36 FOIL HEART CAKE CASES        -2   \n",
       "524696  C538124         M                            Manual        -4   \n",
       "524697  C538124     22699  ROSES REGENCY TEACUP AND SAUCER         -1   \n",
       "524698  C538124     22423          REGENCY CAKESTAND 3 TIER        -1   \n",
       "525282  C538164    35004B       SET OF 3 BLACK FLYING DUCKS        -1   \n",
       "\n",
       "                InvoiceDate                Price          Customer ID  \\\n",
       "178     2009-12-01 10:33:00                 2.95             16321.00   \n",
       "179     2009-12-01 10:33:00                 1.65             16321.00   \n",
       "180     2009-12-01 10:33:00                 4.25             16321.00   \n",
       "181     2009-12-01 10:33:00                 2.10             16321.00   \n",
       "182     2009-12-01 10:33:00                 2.95             16321.00   \n",
       "...                     ...                  ...                  ...   \n",
       "524695  2010-12-09 15:41:00                 2.10             12605.00   \n",
       "524696  2010-12-09 15:43:00                 0.50             15329.00   \n",
       "524697  2010-12-09 15:43:00                 2.95             15329.00   \n",
       "524698  2010-12-09 15:43:00                12.75             15329.00   \n",
       "525282  2010-12-09 17:32:00                 1.95             14031.00   \n",
       "\n",
       "               Country  \n",
       "178          Australia  \n",
       "179          Australia  \n",
       "180          Australia  \n",
       "181          Australia  \n",
       "182          Australia  \n",
       "...                ...  \n",
       "524695         Germany  \n",
       "524696  United Kingdom  \n",
       "524697  United Kingdom  \n",
       "524698  United Kingdom  \n",
       "525282  United Kingdom  \n",
       "\n",
       "[10209 rows x 8 columns]"
      ]
     },
     "execution_count": 63,
     "metadata": {},
     "output_type": "execute_result"
    }
   ],
   "source": [
    "df[\"Invoice\"] = df[\"Invoice\"].astype(\"str\") #this helps to return it as a string\n",
    "df[df[\"Invoice\"].str.match(\"^\\\\d{6}$\") == False] #to return the invoices that are not 6 digits and have an alphabet at the beginning"
   ]
  },
  {
   "cell_type": "code",
   "execution_count": 64,
   "id": "70acc35b",
   "metadata": {},
   "outputs": [
    {
     "data": {
      "text/plain": [
       "array(['489434', '489435', '489436', ..., '538169', '538170', '538171'],\n",
       "      shape=(28816,), dtype=object)"
      ]
     },
     "execution_count": 64,
     "metadata": {},
     "output_type": "execute_result"
    }
   ],
   "source": [
    "#checking if c is the only letter in the invoice\n",
    "df[\"Invoice\"].str.replace(\"[0-9]\", \"\",regex=False).unique()"
   ]
  },
  {
   "cell_type": "code",
   "execution_count": 65,
   "id": "663eeaf8",
   "metadata": {},
   "outputs": [
    {
     "data": {
      "application/vnd.microsoft.datawrangler.viewer.v0+json": {
       "columns": [
        {
         "name": "index",
         "rawType": "int64",
         "type": "integer"
        },
        {
         "name": "Invoice",
         "rawType": "object",
         "type": "string"
        },
        {
         "name": "StockCode",
         "rawType": "object",
         "type": "string"
        },
        {
         "name": "Description",
         "rawType": "object",
         "type": "string"
        },
        {
         "name": "Quantity",
         "rawType": "int64",
         "type": "integer"
        },
        {
         "name": "InvoiceDate",
         "rawType": "object",
         "type": "string"
        },
        {
         "name": "Price",
         "rawType": "float64",
         "type": "float"
        },
        {
         "name": "Customer ID",
         "rawType": "float64",
         "type": "float"
        },
        {
         "name": "Country",
         "rawType": "object",
         "type": "string"
        }
       ],
       "ref": "7cbf4958-1267-45ac-8a02-1dcf9a94287e",
       "rows": [
        [
         "179403",
         "A506401",
         "B",
         "Adjust bad debt",
         "1",
         "2010-04-29 13:36:00",
         "-53594.36",
         null,
         "United Kingdom"
        ],
        [
         "276274",
         "A516228",
         "B",
         "Adjust bad debt",
         "1",
         "2010-07-19 11:24:00",
         "-44031.79",
         null,
         "United Kingdom"
        ],
        [
         "403472",
         "A528059",
         "B",
         "Adjust bad debt",
         "1",
         "2010-10-20 12:04:00",
         "-38925.87",
         null,
         "United Kingdom"
        ]
       ],
       "shape": {
        "columns": 8,
        "rows": 3
       }
      },
      "text/html": [
       "<div>\n",
       "<style scoped>\n",
       "    .dataframe tbody tr th:only-of-type {\n",
       "        vertical-align: middle;\n",
       "    }\n",
       "\n",
       "    .dataframe tbody tr th {\n",
       "        vertical-align: top;\n",
       "    }\n",
       "\n",
       "    .dataframe thead th {\n",
       "        text-align: right;\n",
       "    }\n",
       "</style>\n",
       "<table border=\"1\" class=\"dataframe\">\n",
       "  <thead>\n",
       "    <tr style=\"text-align: right;\">\n",
       "      <th></th>\n",
       "      <th>Invoice</th>\n",
       "      <th>StockCode</th>\n",
       "      <th>Description</th>\n",
       "      <th>Quantity</th>\n",
       "      <th>InvoiceDate</th>\n",
       "      <th>Price</th>\n",
       "      <th>Customer ID</th>\n",
       "      <th>Country</th>\n",
       "    </tr>\n",
       "  </thead>\n",
       "  <tbody>\n",
       "    <tr>\n",
       "      <th>179403</th>\n",
       "      <td>A506401</td>\n",
       "      <td>B</td>\n",
       "      <td>Adjust bad debt</td>\n",
       "      <td>1</td>\n",
       "      <td>2010-04-29 13:36:00</td>\n",
       "      <td>-53594.36</td>\n",
       "      <td>NaN</td>\n",
       "      <td>United Kingdom</td>\n",
       "    </tr>\n",
       "    <tr>\n",
       "      <th>276274</th>\n",
       "      <td>A516228</td>\n",
       "      <td>B</td>\n",
       "      <td>Adjust bad debt</td>\n",
       "      <td>1</td>\n",
       "      <td>2010-07-19 11:24:00</td>\n",
       "      <td>-44031.79</td>\n",
       "      <td>NaN</td>\n",
       "      <td>United Kingdom</td>\n",
       "    </tr>\n",
       "    <tr>\n",
       "      <th>403472</th>\n",
       "      <td>A528059</td>\n",
       "      <td>B</td>\n",
       "      <td>Adjust bad debt</td>\n",
       "      <td>1</td>\n",
       "      <td>2010-10-20 12:04:00</td>\n",
       "      <td>-38925.87</td>\n",
       "      <td>NaN</td>\n",
       "      <td>United Kingdom</td>\n",
       "    </tr>\n",
       "  </tbody>\n",
       "</table>\n",
       "</div>"
      ],
      "text/plain": [
       "        Invoice StockCode      Description  Quantity          InvoiceDate  \\\n",
       "179403  A506401         B  Adjust bad debt         1  2010-04-29 13:36:00   \n",
       "276274  A516228         B  Adjust bad debt         1  2010-07-19 11:24:00   \n",
       "403472  A528059         B  Adjust bad debt         1  2010-10-20 12:04:00   \n",
       "\n",
       "                      Price  Customer ID         Country  \n",
       "179403            -53594.36          NaN  United Kingdom  \n",
       "276274            -44031.79          NaN  United Kingdom  \n",
       "403472            -38925.87          NaN  United Kingdom  "
      ]
     },
     "execution_count": 65,
     "metadata": {},
     "output_type": "execute_result"
    }
   ],
   "source": [
    "df[df[\"Invoice\"].str.startswith(\"A\")]"
   ]
  },
  {
   "cell_type": "markdown",
   "id": "e9a08a69",
   "metadata": {},
   "source": [
    "StockCode: Product (item) code. Nominal. A 5-digit integral number uniquely assigned to each distinct product. \n",
    " once again we shall be using regex again"
   ]
  },
  {
   "cell_type": "code",
   "execution_count": 66,
   "id": "1628d69c",
   "metadata": {},
   "outputs": [
    {
     "data": {
      "text/plain": [
       "array(['POST', 'D', 'DCGS0058', 'DCGS0068', 'DOT', 'M', 'DCGS0004',\n",
       "       'DCGS0076', 'C2', 'BANK CHARGES', 'DCGS0003', 'TEST001',\n",
       "       'gift_0001_80', 'DCGS0072', 'gift_0001_20', 'DCGS0044', 'TEST002',\n",
       "       'gift_0001_10', 'gift_0001_50', 'DCGS0066N', 'gift_0001_30',\n",
       "       'PADS', 'ADJUST', 'gift_0001_40', 'gift_0001_60', 'gift_0001_70',\n",
       "       'gift_0001_90', 'DCGSSGIRL', 'DCGS0006', 'DCGS0016', 'DCGS0027',\n",
       "       'DCGS0036', 'DCGS0039', 'DCGS0060', 'DCGS0056', 'DCGS0059', 'GIFT',\n",
       "       'DCGSLBOY', 'm', 'DCGS0053', 'DCGS0062', 'DCGS0037', 'DCGSSBOY',\n",
       "       'DCGSLGIRL', 'S', 'DCGS0069', 'DCGS0070', 'DCGS0075', 'B',\n",
       "       'DCGS0041', 'ADJUST2', '47503J ', 'C3', 'SP1002', 'AMAZONFEE'],\n",
       "      dtype=object)"
      ]
     },
     "execution_count": 66,
     "metadata": {},
     "output_type": "execute_result"
    }
   ],
   "source": [
    "df[\"StockCode\"] = df[\"StockCode\"].astype(\"str\") #just to be certain that it is a string\n",
    "df[(df[\"StockCode\"].str.match(\"^\\\\d{5}$\") == False) & (df[\"StockCode\"].str.match(\"^\\\\d{5}[a-zA-Z]+$\") == False)][\"StockCode\"].unique()"
   ]
  },
  {
   "cell_type": "code",
   "execution_count": 67,
   "id": "f761d9f6",
   "metadata": {},
   "outputs": [
    {
     "data": {
      "application/vnd.microsoft.datawrangler.viewer.v0+json": {
       "columns": [
        {
         "name": "index",
         "rawType": "int64",
         "type": "integer"
        },
        {
         "name": "Invoice",
         "rawType": "object",
         "type": "string"
        },
        {
         "name": "StockCode",
         "rawType": "object",
         "type": "string"
        },
        {
         "name": "Description",
         "rawType": "object",
         "type": "unknown"
        },
        {
         "name": "Quantity",
         "rawType": "int64",
         "type": "integer"
        },
        {
         "name": "InvoiceDate",
         "rawType": "object",
         "type": "string"
        },
        {
         "name": "Price",
         "rawType": "float64",
         "type": "float"
        },
        {
         "name": "Customer ID",
         "rawType": "float64",
         "type": "float"
        },
        {
         "name": "Country",
         "rawType": "object",
         "type": "string"
        }
       ],
       "ref": "706af799-9636-46a1-9341-ba0f51d6586b",
       "rows": [
        [
         "2379",
         "489597",
         "DOT",
         "DOTCOM POSTAGE",
         "1",
         "2009-12-01 14:28:00",
         "647.19",
         null,
         "United Kingdom"
        ],
        [
         "2539",
         "489600",
         "DOT",
         "DOTCOM POSTAGE",
         "1",
         "2009-12-01 14:43:00",
         "55.96",
         null,
         "United Kingdom"
        ],
        [
         "2551",
         "489601",
         "DOT",
         "DOTCOM POSTAGE",
         "1",
         "2009-12-01 14:44:00",
         "68.39",
         null,
         "United Kingdom"
        ],
        [
         "2571",
         "489602",
         "DOT",
         "DOTCOM POSTAGE",
         "1",
         "2009-12-01 14:45:00",
         "59.35",
         null,
         "United Kingdom"
        ],
        [
         "2619",
         "489603",
         "DOT",
         "DOTCOM POSTAGE",
         "1",
         "2009-12-01 14:46:00",
         "42.39",
         null,
         "United Kingdom"
        ],
        [
         "2644",
         "489604",
         "DOT",
         "DOTCOM POSTAGE",
         "1",
         "2009-12-01 14:47:00",
         "50.87",
         null,
         "United Kingdom"
        ],
        [
         "2686",
         "489607",
         "DOT",
         "DOTCOM POSTAGE",
         "1",
         "2009-12-01 14:49:00",
         "76.3",
         null,
         "United Kingdom"
        ],
        [
         "2698",
         "489609",
         "DOT",
         "DOTCOM POSTAGE",
         "1",
         "2009-12-01 14:50:00",
         "74.61",
         null,
         "United Kingdom"
        ],
        [
         "2771",
         "489612",
         "DOT",
         "DOTCOM POSTAGE",
         "1",
         "2009-12-01 14:55:00",
         "87.39",
         null,
         "United Kingdom"
        ],
        [
         "2806",
         "489614",
         "DOT",
         "DOTCOM POSTAGE",
         "1",
         "2009-12-01 14:56:00",
         "80.3",
         null,
         "United Kingdom"
        ],
        [
         "2820",
         "489615",
         "DOT",
         "DOTCOM POSTAGE",
         "1",
         "2009-12-01 14:56:00",
         "77.13",
         null,
         "United Kingdom"
        ],
        [
         "2843",
         "489616",
         "DOT",
         "DOTCOM POSTAGE",
         "1",
         "2009-12-01 14:58:00",
         "83.74",
         null,
         "United Kingdom"
        ],
        [
         "5063",
         "489856",
         "DOT",
         "DOTCOM POSTAGE",
         "1",
         "2009-12-02 14:36:00",
         "470.24",
         null,
         "United Kingdom"
        ],
        [
         "5407",
         "489857",
         "DOT",
         "DOTCOM POSTAGE",
         "1",
         "2009-12-02 14:43:00",
         "775.24",
         null,
         "United Kingdom"
        ],
        [
         "5904",
         "489861",
         "DOT",
         "DOTCOM POSTAGE",
         "1",
         "2009-12-02 14:50:00",
         "0.0",
         null,
         "United Kingdom"
        ],
        [
         "8374",
         "490074",
         "DOT",
         "DOTCOM POSTAGE",
         "1",
         "2009-12-03 14:39:00",
         "862.67",
         null,
         "United Kingdom"
        ],
        [
         "9701",
         "490149",
         "DOT",
         "DOTCOM POSTAGE",
         "1",
         "2009-12-04 09:43:00",
         "922.05",
         null,
         "United Kingdom"
        ],
        [
         "16427",
         "490741",
         "DOT",
         "DOTCOM POSTAGE",
         "1",
         "2009-12-07 17:56:00",
         "862.38",
         null,
         "United Kingdom"
        ],
        [
         "17266",
         "490745",
         "DOT",
         "DOTCOM POSTAGE",
         "1",
         "2009-12-07 18:02:00",
         "630.36",
         null,
         "United Kingdom"
        ],
        [
         "19095",
         "490963",
         "DOT",
         "DOTCOM POSTAGE",
         "1",
         "2009-12-08 15:49:00",
         "560.87",
         null,
         "United Kingdom"
        ],
        [
         "20250",
         "491041",
         "DOT",
         "DOTCOM POSTAGE",
         "1",
         "2009-12-09 09:42:00",
         "483.14",
         null,
         "United Kingdom"
        ],
        [
         "20325",
         "491043",
         "DOT",
         "DOTCOM POSTAGE",
         "1",
         "2009-12-09 09:51:00",
         "660.21",
         null,
         "United Kingdom"
        ],
        [
         "22617",
         "491155",
         "DOT",
         "DOTCOM POSTAGE",
         "1",
         "2009-12-10 09:49:00",
         "810.57",
         null,
         "United Kingdom"
        ],
        [
         "30576",
         "491966",
         "DOT",
         "DOTCOM POSTAGE",
         "1",
         "2009-12-14 17:16:00",
         "815.01",
         null,
         "United Kingdom"
        ],
        [
         "30674",
         "491969",
         "DOT",
         "DOTCOM POSTAGE",
         "1",
         "2009-12-14 17:57:00",
         "882.72",
         null,
         "United Kingdom"
        ],
        [
         "31653",
         "491970",
         "DOT",
         "DOTCOM POSTAGE",
         "1",
         "2009-12-14 18:03:00",
         "602.14",
         null,
         "United Kingdom"
        ],
        [
         "32046",
         "491971",
         "DOT",
         "DOTCOM POSTAGE",
         "1",
         "2009-12-14 18:37:00",
         "632.06",
         null,
         "United Kingdom"
        ],
        [
         "33820",
         "492226",
         "DOT",
         "DOTCOM POSTAGE",
         "1",
         "2009-12-15 18:33:00",
         "500.13",
         null,
         "United Kingdom"
        ],
        [
         "34670",
         "492303",
         "DOT",
         "DOTCOM POSTAGE",
         "1",
         "2009-12-16 11:57:00",
         "637.09",
         null,
         "United Kingdom"
        ],
        [
         "36616",
         "492414",
         "DOT",
         "DOTCOM POSTAGE",
         "1",
         "2009-12-16 17:01:00",
         "945.56",
         null,
         "United Kingdom"
        ],
        [
         "37223",
         "492425",
         "DOT",
         "DOTCOM POSTAGE",
         "1",
         "2009-12-16 17:58:00",
         "753.98",
         null,
         "United Kingdom"
        ],
        [
         "40879",
         "492782",
         "DOT",
         "DOTCOM POSTAGE",
         "1",
         "2009-12-18 17:06:00",
         "692.24",
         null,
         "United Kingdom"
        ],
        [
         "41262",
         "492783",
         "DOT",
         "DOTCOM POSTAGE",
         "1",
         "2009-12-18 17:15:00",
         "604.12",
         null,
         "United Kingdom"
        ],
        [
         "42658",
         "493073",
         "DOT",
         "DOTCOM POSTAGE",
         "1",
         "2009-12-22 09:41:00",
         "440.9",
         null,
         "United Kingdom"
        ],
        [
         "43039",
         "493074",
         "DOT",
         "DOTCOM POSTAGE",
         "1",
         "2009-12-22 09:45:00",
         "287.02",
         null,
         "United Kingdom"
        ],
        [
         "43331",
         "493079",
         "DOT",
         "DOTCOM POSTAGE",
         "1",
         "2009-12-22 09:52:00",
         "467.05",
         null,
         "United Kingdom"
        ],
        [
         "43912",
         "493260",
         "DOT",
         "DOTCOM POSTAGE",
         "1",
         "2009-12-22 14:31:00",
         "429.14",
         null,
         "United Kingdom"
        ],
        [
         "44182",
         "493261",
         "DOT",
         "DOTCOM POSTAGE",
         "1",
         "2009-12-22 14:48:00",
         "88.48",
         null,
         "United Kingdom"
        ],
        [
         "44215",
         "493264",
         "DOT",
         "DOTCOM POSTAGE",
         "1",
         "2009-12-22 15:04:00",
         "123.96",
         null,
         "United Kingdom"
        ],
        [
         "44247",
         "493265",
         "DOT",
         "DOTCOM POSTAGE",
         "1",
         "2009-12-22 15:05:00",
         "167.52",
         null,
         "United Kingdom"
        ],
        [
         "44334",
         "493267",
         "DOT",
         "DOTCOM POSTAGE",
         "1",
         "2009-12-22 15:06:00",
         "122.3",
         null,
         "United Kingdom"
        ],
        [
         "44378",
         "493269",
         "DOT",
         "DOTCOM POSTAGE",
         "1",
         "2009-12-22 15:07:00",
         "114.26",
         null,
         "United Kingdom"
        ],
        [
         "44406",
         "493271",
         "DOT",
         "DOTCOM POSTAGE",
         "1",
         "2009-12-22 15:08:00",
         "102.52",
         null,
         "United Kingdom"
        ],
        [
         "44453",
         "493273",
         "DOT",
         "DOTCOM POSTAGE",
         "1",
         "2009-12-22 15:09:00",
         "155.35",
         null,
         "United Kingdom"
        ],
        [
         "44497",
         "493276",
         "DOT",
         "DOTCOM POSTAGE",
         "1",
         "2009-12-22 15:10:00",
         "110.22",
         null,
         "United Kingdom"
        ],
        [
         "44531",
         "493283",
         "DOT",
         "DOTCOM POSTAGE",
         "1",
         "2009-12-22 15:12:00",
         "136.52",
         null,
         "United Kingdom"
        ],
        [
         "44569",
         "493290",
         "DOT",
         "DOTCOM POSTAGE",
         "1",
         "2009-12-22 15:13:00",
         "3.43",
         null,
         "United Kingdom"
        ],
        [
         "44594",
         "493287",
         "DOT",
         "DOTCOM POSTAGE",
         "1",
         "2009-12-22 15:13:00",
         "100.7",
         null,
         "United Kingdom"
        ],
        [
         "44608",
         "493288",
         "DOT",
         "DOTCOM POSTAGE",
         "1",
         "2009-12-22 15:13:00",
         "34.13",
         null,
         "United Kingdom"
        ],
        [
         "45211",
         "493404",
         "DOT",
         "DOTCOM POSTAGE",
         "1",
         "2009-12-23 15:30:00",
         "184.68",
         null,
         "United Kingdom"
        ]
       ],
       "shape": {
        "columns": 8,
        "rows": 736
       }
      },
      "text/html": [
       "<div>\n",
       "<style scoped>\n",
       "    .dataframe tbody tr th:only-of-type {\n",
       "        vertical-align: middle;\n",
       "    }\n",
       "\n",
       "    .dataframe tbody tr th {\n",
       "        vertical-align: top;\n",
       "    }\n",
       "\n",
       "    .dataframe thead th {\n",
       "        text-align: right;\n",
       "    }\n",
       "</style>\n",
       "<table border=\"1\" class=\"dataframe\">\n",
       "  <thead>\n",
       "    <tr style=\"text-align: right;\">\n",
       "      <th></th>\n",
       "      <th>Invoice</th>\n",
       "      <th>StockCode</th>\n",
       "      <th>Description</th>\n",
       "      <th>Quantity</th>\n",
       "      <th>InvoiceDate</th>\n",
       "      <th>Price</th>\n",
       "      <th>Customer ID</th>\n",
       "      <th>Country</th>\n",
       "    </tr>\n",
       "  </thead>\n",
       "  <tbody>\n",
       "    <tr>\n",
       "      <th>2379</th>\n",
       "      <td>489597</td>\n",
       "      <td>DOT</td>\n",
       "      <td>DOTCOM POSTAGE</td>\n",
       "      <td>1</td>\n",
       "      <td>2009-12-01 14:28:00</td>\n",
       "      <td>647.19</td>\n",
       "      <td>NaN</td>\n",
       "      <td>United Kingdom</td>\n",
       "    </tr>\n",
       "    <tr>\n",
       "      <th>2539</th>\n",
       "      <td>489600</td>\n",
       "      <td>DOT</td>\n",
       "      <td>DOTCOM POSTAGE</td>\n",
       "      <td>1</td>\n",
       "      <td>2009-12-01 14:43:00</td>\n",
       "      <td>55.96</td>\n",
       "      <td>NaN</td>\n",
       "      <td>United Kingdom</td>\n",
       "    </tr>\n",
       "    <tr>\n",
       "      <th>2551</th>\n",
       "      <td>489601</td>\n",
       "      <td>DOT</td>\n",
       "      <td>DOTCOM POSTAGE</td>\n",
       "      <td>1</td>\n",
       "      <td>2009-12-01 14:44:00</td>\n",
       "      <td>68.39</td>\n",
       "      <td>NaN</td>\n",
       "      <td>United Kingdom</td>\n",
       "    </tr>\n",
       "    <tr>\n",
       "      <th>2571</th>\n",
       "      <td>489602</td>\n",
       "      <td>DOT</td>\n",
       "      <td>DOTCOM POSTAGE</td>\n",
       "      <td>1</td>\n",
       "      <td>2009-12-01 14:45:00</td>\n",
       "      <td>59.35</td>\n",
       "      <td>NaN</td>\n",
       "      <td>United Kingdom</td>\n",
       "    </tr>\n",
       "    <tr>\n",
       "      <th>2619</th>\n",
       "      <td>489603</td>\n",
       "      <td>DOT</td>\n",
       "      <td>DOTCOM POSTAGE</td>\n",
       "      <td>1</td>\n",
       "      <td>2009-12-01 14:46:00</td>\n",
       "      <td>42.39</td>\n",
       "      <td>NaN</td>\n",
       "      <td>United Kingdom</td>\n",
       "    </tr>\n",
       "    <tr>\n",
       "      <th>...</th>\n",
       "      <td>...</td>\n",
       "      <td>...</td>\n",
       "      <td>...</td>\n",
       "      <td>...</td>\n",
       "      <td>...</td>\n",
       "      <td>...</td>\n",
       "      <td>...</td>\n",
       "      <td>...</td>\n",
       "    </tr>\n",
       "    <tr>\n",
       "      <th>524272</th>\n",
       "      <td>538071</td>\n",
       "      <td>DOT</td>\n",
       "      <td>DOTCOM POSTAGE</td>\n",
       "      <td>1</td>\n",
       "      <td>2010-12-09 14:09:00</td>\n",
       "      <td>885.94</td>\n",
       "      <td>NaN</td>\n",
       "      <td>United Kingdom</td>\n",
       "    </tr>\n",
       "    <tr>\n",
       "      <th>524887</th>\n",
       "      <td>538148</td>\n",
       "      <td>DOT</td>\n",
       "      <td>DOTCOM POSTAGE</td>\n",
       "      <td>1</td>\n",
       "      <td>2010-12-09 16:26:00</td>\n",
       "      <td>547.32</td>\n",
       "      <td>NaN</td>\n",
       "      <td>United Kingdom</td>\n",
       "    </tr>\n",
       "    <tr>\n",
       "      <th>525000</th>\n",
       "      <td>538149</td>\n",
       "      <td>DOT</td>\n",
       "      <td>DOTCOM POSTAGE</td>\n",
       "      <td>1</td>\n",
       "      <td>2010-12-09 16:27:00</td>\n",
       "      <td>620.68</td>\n",
       "      <td>NaN</td>\n",
       "      <td>United Kingdom</td>\n",
       "    </tr>\n",
       "    <tr>\n",
       "      <th>525126</th>\n",
       "      <td>538153</td>\n",
       "      <td>DOT</td>\n",
       "      <td>DOTCOM POSTAGE</td>\n",
       "      <td>1</td>\n",
       "      <td>2010-12-09 16:31:00</td>\n",
       "      <td>822.94</td>\n",
       "      <td>NaN</td>\n",
       "      <td>United Kingdom</td>\n",
       "    </tr>\n",
       "    <tr>\n",
       "      <th>525147</th>\n",
       "      <td>538154</td>\n",
       "      <td>DOT</td>\n",
       "      <td>DOTCOM POSTAGE</td>\n",
       "      <td>1</td>\n",
       "      <td>2010-12-09 16:35:00</td>\n",
       "      <td>85.79</td>\n",
       "      <td>NaN</td>\n",
       "      <td>United Kingdom</td>\n",
       "    </tr>\n",
       "  </tbody>\n",
       "</table>\n",
       "<p>736 rows × 8 columns</p>\n",
       "</div>"
      ],
      "text/plain": [
       "       Invoice StockCode     Description  Quantity          InvoiceDate  \\\n",
       "2379    489597       DOT  DOTCOM POSTAGE         1  2009-12-01 14:28:00   \n",
       "2539    489600       DOT  DOTCOM POSTAGE         1  2009-12-01 14:43:00   \n",
       "2551    489601       DOT  DOTCOM POSTAGE         1  2009-12-01 14:44:00   \n",
       "2571    489602       DOT  DOTCOM POSTAGE         1  2009-12-01 14:45:00   \n",
       "2619    489603       DOT  DOTCOM POSTAGE         1  2009-12-01 14:46:00   \n",
       "...        ...       ...             ...       ...                  ...   \n",
       "524272  538071       DOT  DOTCOM POSTAGE         1  2010-12-09 14:09:00   \n",
       "524887  538148       DOT  DOTCOM POSTAGE         1  2010-12-09 16:26:00   \n",
       "525000  538149       DOT  DOTCOM POSTAGE         1  2010-12-09 16:27:00   \n",
       "525126  538153       DOT  DOTCOM POSTAGE         1  2010-12-09 16:31:00   \n",
       "525147  538154       DOT  DOTCOM POSTAGE         1  2010-12-09 16:35:00   \n",
       "\n",
       "                      Price  Customer ID         Country  \n",
       "2379                 647.19          NaN  United Kingdom  \n",
       "2539                  55.96          NaN  United Kingdom  \n",
       "2551                  68.39          NaN  United Kingdom  \n",
       "2571                  59.35          NaN  United Kingdom  \n",
       "2619                  42.39          NaN  United Kingdom  \n",
       "...                     ...          ...             ...  \n",
       "524272               885.94          NaN  United Kingdom  \n",
       "524887               547.32          NaN  United Kingdom  \n",
       "525000               620.68          NaN  United Kingdom  \n",
       "525126               822.94          NaN  United Kingdom  \n",
       "525147                85.79          NaN  United Kingdom  \n",
       "\n",
       "[736 rows x 8 columns]"
      ]
     },
     "execution_count": 67,
     "metadata": {},
     "output_type": "execute_result"
    }
   ],
   "source": [
    "df[df[\"StockCode\"].str.contains(\"DOT\")]"
   ]
  },
  {
   "cell_type": "markdown",
   "id": "3c085fc7",
   "metadata": {},
   "source": [
    "DATA CLEANING"
   ]
  },
  {
   "cell_type": "code",
   "execution_count": 68,
   "id": "876ffcce",
   "metadata": {},
   "outputs": [],
   "source": [
    "cleaned_df = df.copy() # Create a copy of the original DataFrame"
   ]
  },
  {
   "cell_type": "code",
   "execution_count": 69,
   "id": "8be4edc0",
   "metadata": {},
   "outputs": [
    {
     "data": {
      "application/vnd.microsoft.datawrangler.viewer.v0+json": {
       "columns": [
        {
         "name": "index",
         "rawType": "int64",
         "type": "integer"
        },
        {
         "name": "Invoice",
         "rawType": "object",
         "type": "string"
        },
        {
         "name": "StockCode",
         "rawType": "object",
         "type": "string"
        },
        {
         "name": "Description",
         "rawType": "object",
         "type": "unknown"
        },
        {
         "name": "Quantity",
         "rawType": "int64",
         "type": "integer"
        },
        {
         "name": "InvoiceDate",
         "rawType": "object",
         "type": "string"
        },
        {
         "name": "Price",
         "rawType": "float64",
         "type": "float"
        },
        {
         "name": "Customer ID",
         "rawType": "float64",
         "type": "float"
        },
        {
         "name": "Country",
         "rawType": "object",
         "type": "string"
        }
       ],
       "ref": "fef3edeb-68ea-4edb-a630-01f31ed1f939",
       "rows": [
        [
         "0",
         "489434",
         "85048",
         "15CM CHRISTMAS GLASS BALL 20 LIGHTS",
         "12",
         "2009-12-01 07:45:00",
         "6.95",
         "13085.0",
         "United Kingdom"
        ],
        [
         "1",
         "489434",
         "79323P",
         "PINK CHERRY LIGHTS",
         "12",
         "2009-12-01 07:45:00",
         "6.75",
         "13085.0",
         "United Kingdom"
        ],
        [
         "2",
         "489434",
         "79323W",
         " WHITE CHERRY LIGHTS",
         "12",
         "2009-12-01 07:45:00",
         "6.75",
         "13085.0",
         "United Kingdom"
        ],
        [
         "3",
         "489434",
         "22041",
         "RECORD FRAME 7\" SINGLE SIZE ",
         "48",
         "2009-12-01 07:45:00",
         "2.1",
         "13085.0",
         "United Kingdom"
        ],
        [
         "4",
         "489434",
         "21232",
         "STRAWBERRY CERAMIC TRINKET BOX",
         "24",
         "2009-12-01 07:45:00",
         "1.25",
         "13085.0",
         "United Kingdom"
        ],
        [
         "5",
         "489434",
         "22064",
         "PINK DOUGHNUT TRINKET POT ",
         "24",
         "2009-12-01 07:45:00",
         "1.65",
         "13085.0",
         "United Kingdom"
        ],
        [
         "6",
         "489434",
         "21871",
         "SAVE THE PLANET MUG",
         "24",
         "2009-12-01 07:45:00",
         "1.25",
         "13085.0",
         "United Kingdom"
        ],
        [
         "7",
         "489434",
         "21523",
         "FANCY FONT HOME SWEET HOME DOORMAT",
         "10",
         "2009-12-01 07:45:00",
         "5.95",
         "13085.0",
         "United Kingdom"
        ],
        [
         "8",
         "489435",
         "22350",
         "CAT BOWL ",
         "12",
         "2009-12-01 07:46:00",
         "2.55",
         "13085.0",
         "United Kingdom"
        ],
        [
         "9",
         "489435",
         "22349",
         "DOG BOWL , CHASING BALL DESIGN",
         "12",
         "2009-12-01 07:46:00",
         "3.75",
         "13085.0",
         "United Kingdom"
        ],
        [
         "10",
         "489435",
         "22195",
         "HEART MEASURING SPOONS LARGE",
         "24",
         "2009-12-01 07:46:00",
         "1.65",
         "13085.0",
         "United Kingdom"
        ],
        [
         "11",
         "489435",
         "22353",
         "LUNCHBOX WITH CUTLERY FAIRY CAKES ",
         "12",
         "2009-12-01 07:46:00",
         "2.55",
         "13085.0",
         "United Kingdom"
        ],
        [
         "12",
         "489436",
         "48173C",
         "DOOR MAT BLACK FLOCK ",
         "10",
         "2009-12-01 09:06:00",
         "5.95",
         "13078.0",
         "United Kingdom"
        ],
        [
         "13",
         "489436",
         "21755",
         "LOVE BUILDING BLOCK WORD",
         "18",
         "2009-12-01 09:06:00",
         "5.45",
         "13078.0",
         "United Kingdom"
        ],
        [
         "14",
         "489436",
         "21754",
         "HOME BUILDING BLOCK WORD",
         "3",
         "2009-12-01 09:06:00",
         "5.95",
         "13078.0",
         "United Kingdom"
        ],
        [
         "15",
         "489436",
         "84879",
         "ASSORTED COLOUR BIRD ORNAMENT",
         "16",
         "2009-12-01 09:06:00",
         "1.69",
         "13078.0",
         "United Kingdom"
        ],
        [
         "16",
         "489436",
         "22119",
         " PEACE WOODEN BLOCK LETTERS",
         "3",
         "2009-12-01 09:06:00",
         "6.95",
         "13078.0",
         "United Kingdom"
        ],
        [
         "17",
         "489436",
         "22142",
         "CHRISTMAS CRAFT WHITE FAIRY ",
         "12",
         "2009-12-01 09:06:00",
         "1.45",
         "13078.0",
         "United Kingdom"
        ],
        [
         "18",
         "489436",
         "22296",
         "HEART IVORY TRELLIS LARGE",
         "12",
         "2009-12-01 09:06:00",
         "1.65",
         "13078.0",
         "United Kingdom"
        ],
        [
         "19",
         "489436",
         "22295",
         "HEART FILIGREE DOVE LARGE",
         "12",
         "2009-12-01 09:06:00",
         "1.65",
         "13078.0",
         "United Kingdom"
        ],
        [
         "20",
         "489436",
         "22109",
         "FULL ENGLISH BREAKFAST PLATE",
         "16",
         "2009-12-01 09:06:00",
         "3.39",
         "13078.0",
         "United Kingdom"
        ],
        [
         "21",
         "489436",
         "22107",
         "PIZZA PLATE IN BOX",
         "4",
         "2009-12-01 09:06:00",
         "3.75",
         "13078.0",
         "United Kingdom"
        ],
        [
         "22",
         "489436",
         "22194",
         "BLACK DINER WALL CLOCK",
         "2",
         "2009-12-01 09:06:00",
         "8.5",
         "13078.0",
         "United Kingdom"
        ],
        [
         "23",
         "489436",
         "35004B",
         "SET OF 3 BLACK FLYING DUCKS",
         "12",
         "2009-12-01 09:06:00",
         "4.65",
         "13078.0",
         "United Kingdom"
        ],
        [
         "24",
         "489436",
         "82582",
         "AREA PATROLLED METAL SIGN",
         "12",
         "2009-12-01 09:06:00",
         "2.1",
         "13078.0",
         "United Kingdom"
        ],
        [
         "25",
         "489436",
         "21181",
         "PLEASE ONE PERSON  METAL SIGN",
         "12",
         "2009-12-01 09:06:00",
         "2.1",
         "13078.0",
         "United Kingdom"
        ],
        [
         "26",
         "489436",
         "21756",
         "BATH BUILDING BLOCK WORD",
         "3",
         "2009-12-01 09:06:00",
         "5.95",
         "13078.0",
         "United Kingdom"
        ],
        [
         "27",
         "489436",
         "21333",
         "CLASSIC WHITE FRAME",
         "6",
         "2009-12-01 09:06:00",
         "2.95",
         "13078.0",
         "United Kingdom"
        ],
        [
         "28",
         "489436",
         "84596F",
         "SMALL MARSHMALLOWS PINK BOWL",
         "8",
         "2009-12-01 09:06:00",
         "1.25",
         "13078.0",
         "United Kingdom"
        ],
        [
         "29",
         "489436",
         "84596L",
         "BISCUITS SMALL BOWL LIGHT BLUE",
         "8",
         "2009-12-01 09:06:00",
         "1.25",
         "13078.0",
         "United Kingdom"
        ],
        [
         "30",
         "489436",
         "22111",
         "SCOTTIE DOG HOT WATER BOTTLE",
         "24",
         "2009-12-01 09:06:00",
         "4.25",
         "13078.0",
         "United Kingdom"
        ],
        [
         "31",
         "489437",
         "22143",
         "CHRISTMAS CRAFT HEART DECORATIONS",
         "6",
         "2009-12-01 09:08:00",
         "2.1",
         "15362.0",
         "United Kingdom"
        ],
        [
         "32",
         "489437",
         "22145",
         "CHRISTMAS CRAFT HEART STOCKING ",
         "6",
         "2009-12-01 09:08:00",
         "2.1",
         "15362.0",
         "United Kingdom"
        ],
        [
         "33",
         "489437",
         "22130",
         "PARTY CONE CHRISTMAS DECORATION ",
         "12",
         "2009-12-01 09:08:00",
         "0.85",
         "15362.0",
         "United Kingdom"
        ],
        [
         "34",
         "489437",
         "21364",
         "PEACE SMALL WOOD LETTERS",
         "2",
         "2009-12-01 09:08:00",
         "6.75",
         "15362.0",
         "United Kingdom"
        ],
        [
         "35",
         "489437",
         "21360",
         "JOY LARGE WOOD LETTERS",
         "1",
         "2009-12-01 09:08:00",
         "9.95",
         "15362.0",
         "United Kingdom"
        ],
        [
         "36",
         "489437",
         "21351",
         "CINAMMON & ORANGE WREATH",
         "2",
         "2009-12-01 09:08:00",
         "6.75",
         "15362.0",
         "United Kingdom"
        ],
        [
         "37",
         "489437",
         "21352",
         "EUCALYPTUS & PINECONE  WREATH",
         "2",
         "2009-12-01 09:08:00",
         "6.75",
         "15362.0",
         "United Kingdom"
        ],
        [
         "38",
         "489437",
         "35400",
         "WOODEN BOX ADVENT CALENDAR ",
         "2",
         "2009-12-01 09:08:00",
         "8.95",
         "15362.0",
         "United Kingdom"
        ],
        [
         "39",
         "489437",
         "20695",
         "FLORAL BLUE MONSTER",
         "3",
         "2009-12-01 09:08:00",
         "4.25",
         "15362.0",
         "United Kingdom"
        ],
        [
         "40",
         "489437",
         "37370",
         "RETRO COFFEE MUGS ASSORTED",
         "12",
         "2009-12-01 09:08:00",
         "1.25",
         "15362.0",
         "United Kingdom"
        ],
        [
         "41",
         "489437",
         "10002",
         "INFLATABLE POLITICAL GLOBE ",
         "12",
         "2009-12-01 09:08:00",
         "0.85",
         "15362.0",
         "United Kingdom"
        ],
        [
         "42",
         "489437",
         "84507B",
         "STRIPES DESIGN MONKEY DOLL",
         "6",
         "2009-12-01 09:08:00",
         "2.55",
         "15362.0",
         "United Kingdom"
        ],
        [
         "43",
         "489437",
         "20703",
         "BLUE PADDED SOFT MOBILE",
         "3",
         "2009-12-01 09:08:00",
         "4.25",
         "15362.0",
         "United Kingdom"
        ],
        [
         "44",
         "489437",
         "21987",
         "PACK OF 6 SKULL PAPER CUPS",
         "12",
         "2009-12-01 09:08:00",
         "0.65",
         "15362.0",
         "United Kingdom"
        ],
        [
         "45",
         "489437",
         "21989",
         "PACK OF 20 SKULL PAPER NAPKINS",
         "12",
         "2009-12-01 09:08:00",
         "0.85",
         "15362.0",
         "United Kingdom"
        ],
        [
         "46",
         "489437",
         "84970S",
         "HANGING HEART ZINC T-LIGHT HOLDER",
         "12",
         "2009-12-01 09:08:00",
         "0.85",
         "15362.0",
         "United Kingdom"
        ],
        [
         "47",
         "489437",
         "20971",
         "PINK BLUE FELT CRAFT TRINKET BOX",
         "12",
         "2009-12-01 09:08:00",
         "1.25",
         "15362.0",
         "United Kingdom"
        ],
        [
         "48",
         "489437",
         "22271",
         "FELTCRAFT DOLL ROSIE",
         "6",
         "2009-12-01 09:08:00",
         "2.95",
         "15362.0",
         "United Kingdom"
        ],
        [
         "49",
         "489437",
         "22272",
         "FELTCRAFT DOLL MARIA",
         "6",
         "2009-12-01 09:08:00",
         "2.95",
         "15362.0",
         "United Kingdom"
        ]
       ],
       "shape": {
        "columns": 8,
        "rows": 515252
       }
      },
      "text/html": [
       "<div>\n",
       "<style scoped>\n",
       "    .dataframe tbody tr th:only-of-type {\n",
       "        vertical-align: middle;\n",
       "    }\n",
       "\n",
       "    .dataframe tbody tr th {\n",
       "        vertical-align: top;\n",
       "    }\n",
       "\n",
       "    .dataframe thead th {\n",
       "        text-align: right;\n",
       "    }\n",
       "</style>\n",
       "<table border=\"1\" class=\"dataframe\">\n",
       "  <thead>\n",
       "    <tr style=\"text-align: right;\">\n",
       "      <th></th>\n",
       "      <th>Invoice</th>\n",
       "      <th>StockCode</th>\n",
       "      <th>Description</th>\n",
       "      <th>Quantity</th>\n",
       "      <th>InvoiceDate</th>\n",
       "      <th>Price</th>\n",
       "      <th>Customer ID</th>\n",
       "      <th>Country</th>\n",
       "    </tr>\n",
       "  </thead>\n",
       "  <tbody>\n",
       "    <tr>\n",
       "      <th>0</th>\n",
       "      <td>489434</td>\n",
       "      <td>85048</td>\n",
       "      <td>15CM CHRISTMAS GLASS BALL 20 LIGHTS</td>\n",
       "      <td>12</td>\n",
       "      <td>2009-12-01 07:45:00</td>\n",
       "      <td>6.95</td>\n",
       "      <td>13085.00</td>\n",
       "      <td>United Kingdom</td>\n",
       "    </tr>\n",
       "    <tr>\n",
       "      <th>1</th>\n",
       "      <td>489434</td>\n",
       "      <td>79323P</td>\n",
       "      <td>PINK CHERRY LIGHTS</td>\n",
       "      <td>12</td>\n",
       "      <td>2009-12-01 07:45:00</td>\n",
       "      <td>6.75</td>\n",
       "      <td>13085.00</td>\n",
       "      <td>United Kingdom</td>\n",
       "    </tr>\n",
       "    <tr>\n",
       "      <th>2</th>\n",
       "      <td>489434</td>\n",
       "      <td>79323W</td>\n",
       "      <td>WHITE CHERRY LIGHTS</td>\n",
       "      <td>12</td>\n",
       "      <td>2009-12-01 07:45:00</td>\n",
       "      <td>6.75</td>\n",
       "      <td>13085.00</td>\n",
       "      <td>United Kingdom</td>\n",
       "    </tr>\n",
       "    <tr>\n",
       "      <th>3</th>\n",
       "      <td>489434</td>\n",
       "      <td>22041</td>\n",
       "      <td>RECORD FRAME 7\" SINGLE SIZE</td>\n",
       "      <td>48</td>\n",
       "      <td>2009-12-01 07:45:00</td>\n",
       "      <td>2.10</td>\n",
       "      <td>13085.00</td>\n",
       "      <td>United Kingdom</td>\n",
       "    </tr>\n",
       "    <tr>\n",
       "      <th>4</th>\n",
       "      <td>489434</td>\n",
       "      <td>21232</td>\n",
       "      <td>STRAWBERRY CERAMIC TRINKET BOX</td>\n",
       "      <td>24</td>\n",
       "      <td>2009-12-01 07:45:00</td>\n",
       "      <td>1.25</td>\n",
       "      <td>13085.00</td>\n",
       "      <td>United Kingdom</td>\n",
       "    </tr>\n",
       "    <tr>\n",
       "      <th>...</th>\n",
       "      <td>...</td>\n",
       "      <td>...</td>\n",
       "      <td>...</td>\n",
       "      <td>...</td>\n",
       "      <td>...</td>\n",
       "      <td>...</td>\n",
       "      <td>...</td>\n",
       "      <td>...</td>\n",
       "    </tr>\n",
       "    <tr>\n",
       "      <th>525456</th>\n",
       "      <td>538171</td>\n",
       "      <td>22271</td>\n",
       "      <td>FELTCRAFT DOLL ROSIE</td>\n",
       "      <td>2</td>\n",
       "      <td>2010-12-09 20:01:00</td>\n",
       "      <td>2.95</td>\n",
       "      <td>17530.00</td>\n",
       "      <td>United Kingdom</td>\n",
       "    </tr>\n",
       "    <tr>\n",
       "      <th>525457</th>\n",
       "      <td>538171</td>\n",
       "      <td>22750</td>\n",
       "      <td>FELTCRAFT PRINCESS LOLA DOLL</td>\n",
       "      <td>1</td>\n",
       "      <td>2010-12-09 20:01:00</td>\n",
       "      <td>3.75</td>\n",
       "      <td>17530.00</td>\n",
       "      <td>United Kingdom</td>\n",
       "    </tr>\n",
       "    <tr>\n",
       "      <th>525458</th>\n",
       "      <td>538171</td>\n",
       "      <td>22751</td>\n",
       "      <td>FELTCRAFT PRINCESS OLIVIA DOLL</td>\n",
       "      <td>1</td>\n",
       "      <td>2010-12-09 20:01:00</td>\n",
       "      <td>3.75</td>\n",
       "      <td>17530.00</td>\n",
       "      <td>United Kingdom</td>\n",
       "    </tr>\n",
       "    <tr>\n",
       "      <th>525459</th>\n",
       "      <td>538171</td>\n",
       "      <td>20970</td>\n",
       "      <td>PINK FLORAL FELTCRAFT SHOULDER BAG</td>\n",
       "      <td>2</td>\n",
       "      <td>2010-12-09 20:01:00</td>\n",
       "      <td>3.75</td>\n",
       "      <td>17530.00</td>\n",
       "      <td>United Kingdom</td>\n",
       "    </tr>\n",
       "    <tr>\n",
       "      <th>525460</th>\n",
       "      <td>538171</td>\n",
       "      <td>21931</td>\n",
       "      <td>JUMBO STORAGE BAG SUKI</td>\n",
       "      <td>2</td>\n",
       "      <td>2010-12-09 20:01:00</td>\n",
       "      <td>1.95</td>\n",
       "      <td>17530.00</td>\n",
       "      <td>United Kingdom</td>\n",
       "    </tr>\n",
       "  </tbody>\n",
       "</table>\n",
       "<p>515252 rows × 8 columns</p>\n",
       "</div>"
      ],
      "text/plain": [
       "       Invoice StockCode                          Description  Quantity  \\\n",
       "0       489434     85048  15CM CHRISTMAS GLASS BALL 20 LIGHTS        12   \n",
       "1       489434    79323P                   PINK CHERRY LIGHTS        12   \n",
       "2       489434    79323W                  WHITE CHERRY LIGHTS        12   \n",
       "3       489434     22041         RECORD FRAME 7\" SINGLE SIZE         48   \n",
       "4       489434     21232       STRAWBERRY CERAMIC TRINKET BOX        24   \n",
       "...        ...       ...                                  ...       ...   \n",
       "525456  538171     22271                 FELTCRAFT DOLL ROSIE         2   \n",
       "525457  538171     22750         FELTCRAFT PRINCESS LOLA DOLL         1   \n",
       "525458  538171     22751       FELTCRAFT PRINCESS OLIVIA DOLL         1   \n",
       "525459  538171     20970   PINK FLORAL FELTCRAFT SHOULDER BAG         2   \n",
       "525460  538171     21931               JUMBO STORAGE BAG SUKI         2   \n",
       "\n",
       "                InvoiceDate                Price          Customer ID  \\\n",
       "0       2009-12-01 07:45:00                 6.95             13085.00   \n",
       "1       2009-12-01 07:45:00                 6.75             13085.00   \n",
       "2       2009-12-01 07:45:00                 6.75             13085.00   \n",
       "3       2009-12-01 07:45:00                 2.10             13085.00   \n",
       "4       2009-12-01 07:45:00                 1.25             13085.00   \n",
       "...                     ...                  ...                  ...   \n",
       "525456  2010-12-09 20:01:00                 2.95             17530.00   \n",
       "525457  2010-12-09 20:01:00                 3.75             17530.00   \n",
       "525458  2010-12-09 20:01:00                 3.75             17530.00   \n",
       "525459  2010-12-09 20:01:00                 3.75             17530.00   \n",
       "525460  2010-12-09 20:01:00                 1.95             17530.00   \n",
       "\n",
       "               Country  \n",
       "0       United Kingdom  \n",
       "1       United Kingdom  \n",
       "2       United Kingdom  \n",
       "3       United Kingdom  \n",
       "4       United Kingdom  \n",
       "...                ...  \n",
       "525456  United Kingdom  \n",
       "525457  United Kingdom  \n",
       "525458  United Kingdom  \n",
       "525459  United Kingdom  \n",
       "525460  United Kingdom  \n",
       "\n",
       "[515252 rows x 8 columns]"
      ]
     },
     "execution_count": 69,
     "metadata": {},
     "output_type": "execute_result"
    }
   ],
   "source": [
    "cleaned_df[\"Invoice\"] = cleaned_df[\"Invoice\"].astype(\"str\")\n",
    " # is a new variable . amsk is used for data filtering  \n",
    " #mask is a filter expression\n",
    "\n",
    "\n",
    "mask = (\n",
    "    cleaned_df[\"Invoice\"].str.match(\"^\\\\d{6}$\") == True\n",
    ")\n",
    "\n",
    "cleaned_df = cleaned_df[mask]\n",
    "\n",
    "cleaned_df"
   ]
  },
  {
   "cell_type": "code",
   "execution_count": 70,
   "id": "0e7ebb72",
   "metadata": {},
   "outputs": [
    {
     "data": {
      "application/vnd.microsoft.datawrangler.viewer.v0+json": {
       "columns": [
        {
         "name": "index",
         "rawType": "int64",
         "type": "integer"
        },
        {
         "name": "Invoice",
         "rawType": "object",
         "type": "string"
        },
        {
         "name": "StockCode",
         "rawType": "object",
         "type": "string"
        },
        {
         "name": "Description",
         "rawType": "object",
         "type": "unknown"
        },
        {
         "name": "Quantity",
         "rawType": "int64",
         "type": "integer"
        },
        {
         "name": "InvoiceDate",
         "rawType": "object",
         "type": "string"
        },
        {
         "name": "Price",
         "rawType": "float64",
         "type": "float"
        },
        {
         "name": "Customer ID",
         "rawType": "float64",
         "type": "float"
        },
        {
         "name": "Country",
         "rawType": "object",
         "type": "string"
        }
       ],
       "ref": "3d54062d-3856-4fb8-8003-f105336b625f",
       "rows": [
        [
         "0",
         "489434",
         "85048",
         "15CM CHRISTMAS GLASS BALL 20 LIGHTS",
         "12",
         "2009-12-01 07:45:00",
         "6.95",
         "13085.0",
         "United Kingdom"
        ],
        [
         "1",
         "489434",
         "79323P",
         "PINK CHERRY LIGHTS",
         "12",
         "2009-12-01 07:45:00",
         "6.75",
         "13085.0",
         "United Kingdom"
        ],
        [
         "2",
         "489434",
         "79323W",
         " WHITE CHERRY LIGHTS",
         "12",
         "2009-12-01 07:45:00",
         "6.75",
         "13085.0",
         "United Kingdom"
        ],
        [
         "3",
         "489434",
         "22041",
         "RECORD FRAME 7\" SINGLE SIZE ",
         "48",
         "2009-12-01 07:45:00",
         "2.1",
         "13085.0",
         "United Kingdom"
        ],
        [
         "4",
         "489434",
         "21232",
         "STRAWBERRY CERAMIC TRINKET BOX",
         "24",
         "2009-12-01 07:45:00",
         "1.25",
         "13085.0",
         "United Kingdom"
        ],
        [
         "5",
         "489434",
         "22064",
         "PINK DOUGHNUT TRINKET POT ",
         "24",
         "2009-12-01 07:45:00",
         "1.65",
         "13085.0",
         "United Kingdom"
        ],
        [
         "6",
         "489434",
         "21871",
         "SAVE THE PLANET MUG",
         "24",
         "2009-12-01 07:45:00",
         "1.25",
         "13085.0",
         "United Kingdom"
        ],
        [
         "7",
         "489434",
         "21523",
         "FANCY FONT HOME SWEET HOME DOORMAT",
         "10",
         "2009-12-01 07:45:00",
         "5.95",
         "13085.0",
         "United Kingdom"
        ],
        [
         "8",
         "489435",
         "22350",
         "CAT BOWL ",
         "12",
         "2009-12-01 07:46:00",
         "2.55",
         "13085.0",
         "United Kingdom"
        ],
        [
         "9",
         "489435",
         "22349",
         "DOG BOWL , CHASING BALL DESIGN",
         "12",
         "2009-12-01 07:46:00",
         "3.75",
         "13085.0",
         "United Kingdom"
        ],
        [
         "10",
         "489435",
         "22195",
         "HEART MEASURING SPOONS LARGE",
         "24",
         "2009-12-01 07:46:00",
         "1.65",
         "13085.0",
         "United Kingdom"
        ],
        [
         "11",
         "489435",
         "22353",
         "LUNCHBOX WITH CUTLERY FAIRY CAKES ",
         "12",
         "2009-12-01 07:46:00",
         "2.55",
         "13085.0",
         "United Kingdom"
        ],
        [
         "12",
         "489436",
         "48173C",
         "DOOR MAT BLACK FLOCK ",
         "10",
         "2009-12-01 09:06:00",
         "5.95",
         "13078.0",
         "United Kingdom"
        ],
        [
         "13",
         "489436",
         "21755",
         "LOVE BUILDING BLOCK WORD",
         "18",
         "2009-12-01 09:06:00",
         "5.45",
         "13078.0",
         "United Kingdom"
        ],
        [
         "14",
         "489436",
         "21754",
         "HOME BUILDING BLOCK WORD",
         "3",
         "2009-12-01 09:06:00",
         "5.95",
         "13078.0",
         "United Kingdom"
        ],
        [
         "15",
         "489436",
         "84879",
         "ASSORTED COLOUR BIRD ORNAMENT",
         "16",
         "2009-12-01 09:06:00",
         "1.69",
         "13078.0",
         "United Kingdom"
        ],
        [
         "16",
         "489436",
         "22119",
         " PEACE WOODEN BLOCK LETTERS",
         "3",
         "2009-12-01 09:06:00",
         "6.95",
         "13078.0",
         "United Kingdom"
        ],
        [
         "17",
         "489436",
         "22142",
         "CHRISTMAS CRAFT WHITE FAIRY ",
         "12",
         "2009-12-01 09:06:00",
         "1.45",
         "13078.0",
         "United Kingdom"
        ],
        [
         "18",
         "489436",
         "22296",
         "HEART IVORY TRELLIS LARGE",
         "12",
         "2009-12-01 09:06:00",
         "1.65",
         "13078.0",
         "United Kingdom"
        ],
        [
         "19",
         "489436",
         "22295",
         "HEART FILIGREE DOVE LARGE",
         "12",
         "2009-12-01 09:06:00",
         "1.65",
         "13078.0",
         "United Kingdom"
        ],
        [
         "20",
         "489436",
         "22109",
         "FULL ENGLISH BREAKFAST PLATE",
         "16",
         "2009-12-01 09:06:00",
         "3.39",
         "13078.0",
         "United Kingdom"
        ],
        [
         "21",
         "489436",
         "22107",
         "PIZZA PLATE IN BOX",
         "4",
         "2009-12-01 09:06:00",
         "3.75",
         "13078.0",
         "United Kingdom"
        ],
        [
         "22",
         "489436",
         "22194",
         "BLACK DINER WALL CLOCK",
         "2",
         "2009-12-01 09:06:00",
         "8.5",
         "13078.0",
         "United Kingdom"
        ],
        [
         "23",
         "489436",
         "35004B",
         "SET OF 3 BLACK FLYING DUCKS",
         "12",
         "2009-12-01 09:06:00",
         "4.65",
         "13078.0",
         "United Kingdom"
        ],
        [
         "24",
         "489436",
         "82582",
         "AREA PATROLLED METAL SIGN",
         "12",
         "2009-12-01 09:06:00",
         "2.1",
         "13078.0",
         "United Kingdom"
        ],
        [
         "25",
         "489436",
         "21181",
         "PLEASE ONE PERSON  METAL SIGN",
         "12",
         "2009-12-01 09:06:00",
         "2.1",
         "13078.0",
         "United Kingdom"
        ],
        [
         "26",
         "489436",
         "21756",
         "BATH BUILDING BLOCK WORD",
         "3",
         "2009-12-01 09:06:00",
         "5.95",
         "13078.0",
         "United Kingdom"
        ],
        [
         "27",
         "489436",
         "21333",
         "CLASSIC WHITE FRAME",
         "6",
         "2009-12-01 09:06:00",
         "2.95",
         "13078.0",
         "United Kingdom"
        ],
        [
         "28",
         "489436",
         "84596F",
         "SMALL MARSHMALLOWS PINK BOWL",
         "8",
         "2009-12-01 09:06:00",
         "1.25",
         "13078.0",
         "United Kingdom"
        ],
        [
         "29",
         "489436",
         "84596L",
         "BISCUITS SMALL BOWL LIGHT BLUE",
         "8",
         "2009-12-01 09:06:00",
         "1.25",
         "13078.0",
         "United Kingdom"
        ],
        [
         "30",
         "489436",
         "22111",
         "SCOTTIE DOG HOT WATER BOTTLE",
         "24",
         "2009-12-01 09:06:00",
         "4.25",
         "13078.0",
         "United Kingdom"
        ],
        [
         "31",
         "489437",
         "22143",
         "CHRISTMAS CRAFT HEART DECORATIONS",
         "6",
         "2009-12-01 09:08:00",
         "2.1",
         "15362.0",
         "United Kingdom"
        ],
        [
         "32",
         "489437",
         "22145",
         "CHRISTMAS CRAFT HEART STOCKING ",
         "6",
         "2009-12-01 09:08:00",
         "2.1",
         "15362.0",
         "United Kingdom"
        ],
        [
         "33",
         "489437",
         "22130",
         "PARTY CONE CHRISTMAS DECORATION ",
         "12",
         "2009-12-01 09:08:00",
         "0.85",
         "15362.0",
         "United Kingdom"
        ],
        [
         "34",
         "489437",
         "21364",
         "PEACE SMALL WOOD LETTERS",
         "2",
         "2009-12-01 09:08:00",
         "6.75",
         "15362.0",
         "United Kingdom"
        ],
        [
         "35",
         "489437",
         "21360",
         "JOY LARGE WOOD LETTERS",
         "1",
         "2009-12-01 09:08:00",
         "9.95",
         "15362.0",
         "United Kingdom"
        ],
        [
         "36",
         "489437",
         "21351",
         "CINAMMON & ORANGE WREATH",
         "2",
         "2009-12-01 09:08:00",
         "6.75",
         "15362.0",
         "United Kingdom"
        ],
        [
         "37",
         "489437",
         "21352",
         "EUCALYPTUS & PINECONE  WREATH",
         "2",
         "2009-12-01 09:08:00",
         "6.75",
         "15362.0",
         "United Kingdom"
        ],
        [
         "38",
         "489437",
         "35400",
         "WOODEN BOX ADVENT CALENDAR ",
         "2",
         "2009-12-01 09:08:00",
         "8.95",
         "15362.0",
         "United Kingdom"
        ],
        [
         "39",
         "489437",
         "20695",
         "FLORAL BLUE MONSTER",
         "3",
         "2009-12-01 09:08:00",
         "4.25",
         "15362.0",
         "United Kingdom"
        ],
        [
         "40",
         "489437",
         "37370",
         "RETRO COFFEE MUGS ASSORTED",
         "12",
         "2009-12-01 09:08:00",
         "1.25",
         "15362.0",
         "United Kingdom"
        ],
        [
         "41",
         "489437",
         "10002",
         "INFLATABLE POLITICAL GLOBE ",
         "12",
         "2009-12-01 09:08:00",
         "0.85",
         "15362.0",
         "United Kingdom"
        ],
        [
         "42",
         "489437",
         "84507B",
         "STRIPES DESIGN MONKEY DOLL",
         "6",
         "2009-12-01 09:08:00",
         "2.55",
         "15362.0",
         "United Kingdom"
        ],
        [
         "43",
         "489437",
         "20703",
         "BLUE PADDED SOFT MOBILE",
         "3",
         "2009-12-01 09:08:00",
         "4.25",
         "15362.0",
         "United Kingdom"
        ],
        [
         "44",
         "489437",
         "21987",
         "PACK OF 6 SKULL PAPER CUPS",
         "12",
         "2009-12-01 09:08:00",
         "0.65",
         "15362.0",
         "United Kingdom"
        ],
        [
         "45",
         "489437",
         "21989",
         "PACK OF 20 SKULL PAPER NAPKINS",
         "12",
         "2009-12-01 09:08:00",
         "0.85",
         "15362.0",
         "United Kingdom"
        ],
        [
         "46",
         "489437",
         "84970S",
         "HANGING HEART ZINC T-LIGHT HOLDER",
         "12",
         "2009-12-01 09:08:00",
         "0.85",
         "15362.0",
         "United Kingdom"
        ],
        [
         "47",
         "489437",
         "20971",
         "PINK BLUE FELT CRAFT TRINKET BOX",
         "12",
         "2009-12-01 09:08:00",
         "1.25",
         "15362.0",
         "United Kingdom"
        ],
        [
         "48",
         "489437",
         "22271",
         "FELTCRAFT DOLL ROSIE",
         "6",
         "2009-12-01 09:08:00",
         "2.95",
         "15362.0",
         "United Kingdom"
        ],
        [
         "49",
         "489437",
         "22272",
         "FELTCRAFT DOLL MARIA",
         "6",
         "2009-12-01 09:08:00",
         "2.95",
         "15362.0",
         "United Kingdom"
        ]
       ],
       "shape": {
        "columns": 8,
        "rows": 512796
       }
      },
      "text/html": [
       "<div>\n",
       "<style scoped>\n",
       "    .dataframe tbody tr th:only-of-type {\n",
       "        vertical-align: middle;\n",
       "    }\n",
       "\n",
       "    .dataframe tbody tr th {\n",
       "        vertical-align: top;\n",
       "    }\n",
       "\n",
       "    .dataframe thead th {\n",
       "        text-align: right;\n",
       "    }\n",
       "</style>\n",
       "<table border=\"1\" class=\"dataframe\">\n",
       "  <thead>\n",
       "    <tr style=\"text-align: right;\">\n",
       "      <th></th>\n",
       "      <th>Invoice</th>\n",
       "      <th>StockCode</th>\n",
       "      <th>Description</th>\n",
       "      <th>Quantity</th>\n",
       "      <th>InvoiceDate</th>\n",
       "      <th>Price</th>\n",
       "      <th>Customer ID</th>\n",
       "      <th>Country</th>\n",
       "    </tr>\n",
       "  </thead>\n",
       "  <tbody>\n",
       "    <tr>\n",
       "      <th>0</th>\n",
       "      <td>489434</td>\n",
       "      <td>85048</td>\n",
       "      <td>15CM CHRISTMAS GLASS BALL 20 LIGHTS</td>\n",
       "      <td>12</td>\n",
       "      <td>2009-12-01 07:45:00</td>\n",
       "      <td>6.95</td>\n",
       "      <td>13085.00</td>\n",
       "      <td>United Kingdom</td>\n",
       "    </tr>\n",
       "    <tr>\n",
       "      <th>1</th>\n",
       "      <td>489434</td>\n",
       "      <td>79323P</td>\n",
       "      <td>PINK CHERRY LIGHTS</td>\n",
       "      <td>12</td>\n",
       "      <td>2009-12-01 07:45:00</td>\n",
       "      <td>6.75</td>\n",
       "      <td>13085.00</td>\n",
       "      <td>United Kingdom</td>\n",
       "    </tr>\n",
       "    <tr>\n",
       "      <th>2</th>\n",
       "      <td>489434</td>\n",
       "      <td>79323W</td>\n",
       "      <td>WHITE CHERRY LIGHTS</td>\n",
       "      <td>12</td>\n",
       "      <td>2009-12-01 07:45:00</td>\n",
       "      <td>6.75</td>\n",
       "      <td>13085.00</td>\n",
       "      <td>United Kingdom</td>\n",
       "    </tr>\n",
       "    <tr>\n",
       "      <th>3</th>\n",
       "      <td>489434</td>\n",
       "      <td>22041</td>\n",
       "      <td>RECORD FRAME 7\" SINGLE SIZE</td>\n",
       "      <td>48</td>\n",
       "      <td>2009-12-01 07:45:00</td>\n",
       "      <td>2.10</td>\n",
       "      <td>13085.00</td>\n",
       "      <td>United Kingdom</td>\n",
       "    </tr>\n",
       "    <tr>\n",
       "      <th>4</th>\n",
       "      <td>489434</td>\n",
       "      <td>21232</td>\n",
       "      <td>STRAWBERRY CERAMIC TRINKET BOX</td>\n",
       "      <td>24</td>\n",
       "      <td>2009-12-01 07:45:00</td>\n",
       "      <td>1.25</td>\n",
       "      <td>13085.00</td>\n",
       "      <td>United Kingdom</td>\n",
       "    </tr>\n",
       "    <tr>\n",
       "      <th>...</th>\n",
       "      <td>...</td>\n",
       "      <td>...</td>\n",
       "      <td>...</td>\n",
       "      <td>...</td>\n",
       "      <td>...</td>\n",
       "      <td>...</td>\n",
       "      <td>...</td>\n",
       "      <td>...</td>\n",
       "    </tr>\n",
       "    <tr>\n",
       "      <th>525456</th>\n",
       "      <td>538171</td>\n",
       "      <td>22271</td>\n",
       "      <td>FELTCRAFT DOLL ROSIE</td>\n",
       "      <td>2</td>\n",
       "      <td>2010-12-09 20:01:00</td>\n",
       "      <td>2.95</td>\n",
       "      <td>17530.00</td>\n",
       "      <td>United Kingdom</td>\n",
       "    </tr>\n",
       "    <tr>\n",
       "      <th>525457</th>\n",
       "      <td>538171</td>\n",
       "      <td>22750</td>\n",
       "      <td>FELTCRAFT PRINCESS LOLA DOLL</td>\n",
       "      <td>1</td>\n",
       "      <td>2010-12-09 20:01:00</td>\n",
       "      <td>3.75</td>\n",
       "      <td>17530.00</td>\n",
       "      <td>United Kingdom</td>\n",
       "    </tr>\n",
       "    <tr>\n",
       "      <th>525458</th>\n",
       "      <td>538171</td>\n",
       "      <td>22751</td>\n",
       "      <td>FELTCRAFT PRINCESS OLIVIA DOLL</td>\n",
       "      <td>1</td>\n",
       "      <td>2010-12-09 20:01:00</td>\n",
       "      <td>3.75</td>\n",
       "      <td>17530.00</td>\n",
       "      <td>United Kingdom</td>\n",
       "    </tr>\n",
       "    <tr>\n",
       "      <th>525459</th>\n",
       "      <td>538171</td>\n",
       "      <td>20970</td>\n",
       "      <td>PINK FLORAL FELTCRAFT SHOULDER BAG</td>\n",
       "      <td>2</td>\n",
       "      <td>2010-12-09 20:01:00</td>\n",
       "      <td>3.75</td>\n",
       "      <td>17530.00</td>\n",
       "      <td>United Kingdom</td>\n",
       "    </tr>\n",
       "    <tr>\n",
       "      <th>525460</th>\n",
       "      <td>538171</td>\n",
       "      <td>21931</td>\n",
       "      <td>JUMBO STORAGE BAG SUKI</td>\n",
       "      <td>2</td>\n",
       "      <td>2010-12-09 20:01:00</td>\n",
       "      <td>1.95</td>\n",
       "      <td>17530.00</td>\n",
       "      <td>United Kingdom</td>\n",
       "    </tr>\n",
       "  </tbody>\n",
       "</table>\n",
       "<p>512796 rows × 8 columns</p>\n",
       "</div>"
      ],
      "text/plain": [
       "       Invoice StockCode                          Description  Quantity  \\\n",
       "0       489434     85048  15CM CHRISTMAS GLASS BALL 20 LIGHTS        12   \n",
       "1       489434    79323P                   PINK CHERRY LIGHTS        12   \n",
       "2       489434    79323W                  WHITE CHERRY LIGHTS        12   \n",
       "3       489434     22041         RECORD FRAME 7\" SINGLE SIZE         48   \n",
       "4       489434     21232       STRAWBERRY CERAMIC TRINKET BOX        24   \n",
       "...        ...       ...                                  ...       ...   \n",
       "525456  538171     22271                 FELTCRAFT DOLL ROSIE         2   \n",
       "525457  538171     22750         FELTCRAFT PRINCESS LOLA DOLL         1   \n",
       "525458  538171     22751       FELTCRAFT PRINCESS OLIVIA DOLL         1   \n",
       "525459  538171     20970   PINK FLORAL FELTCRAFT SHOULDER BAG         2   \n",
       "525460  538171     21931               JUMBO STORAGE BAG SUKI         2   \n",
       "\n",
       "                InvoiceDate                Price          Customer ID  \\\n",
       "0       2009-12-01 07:45:00                 6.95             13085.00   \n",
       "1       2009-12-01 07:45:00                 6.75             13085.00   \n",
       "2       2009-12-01 07:45:00                 6.75             13085.00   \n",
       "3       2009-12-01 07:45:00                 2.10             13085.00   \n",
       "4       2009-12-01 07:45:00                 1.25             13085.00   \n",
       "...                     ...                  ...                  ...   \n",
       "525456  2010-12-09 20:01:00                 2.95             17530.00   \n",
       "525457  2010-12-09 20:01:00                 3.75             17530.00   \n",
       "525458  2010-12-09 20:01:00                 3.75             17530.00   \n",
       "525459  2010-12-09 20:01:00                 3.75             17530.00   \n",
       "525460  2010-12-09 20:01:00                 1.95             17530.00   \n",
       "\n",
       "               Country  \n",
       "0       United Kingdom  \n",
       "1       United Kingdom  \n",
       "2       United Kingdom  \n",
       "3       United Kingdom  \n",
       "4       United Kingdom  \n",
       "...                ...  \n",
       "525456  United Kingdom  \n",
       "525457  United Kingdom  \n",
       "525458  United Kingdom  \n",
       "525459  United Kingdom  \n",
       "525460  United Kingdom  \n",
       "\n",
       "[512796 rows x 8 columns]"
      ]
     },
     "execution_count": 70,
     "metadata": {},
     "output_type": "execute_result"
    }
   ],
   "source": [
    "cleaned_df[\"StockCode\"] = cleaned_df[\"StockCode\"].astype(\"str\")\n",
    "\n",
    "mask = (\n",
    "    (cleaned_df[\"StockCode\"].str.match(\"^\\\\d{5}$\") == True)\n",
    "    | (cleaned_df[\"StockCode\"].str.match(\"^\\\\d{5}[a-zA-Z]+$\") == True)\n",
    "    | (cleaned_df[\"StockCode\"].str.match(\"^PADS$\") == True)\n",
    ")\n",
    "\n",
    "cleaned_df = cleaned_df[mask]\n",
    "\n",
    "cleaned_df"
   ]
  },
  {
   "cell_type": "code",
   "execution_count": 71,
   "id": "deb5d830",
   "metadata": {},
   "outputs": [
    {
     "name": "stderr",
     "output_type": "stream",
     "text": [
      "/tmp/ipykernel_778802/1633333693.py:1: SettingWithCopyWarning: \n",
      "A value is trying to be set on a copy of a slice from a DataFrame\n",
      "\n",
      "See the caveats in the documentation: https://pandas.pydata.org/pandas-docs/stable/user_guide/indexing.html#returning-a-view-versus-a-copy\n",
      "  cleaned_df.dropna(subset=[\"Customer ID\"], inplace=True)\n"
     ]
    }
   ],
   "source": [
    "cleaned_df.dropna(subset=[\"Customer ID\"], inplace=True)"
   ]
  },
  {
   "cell_type": "code",
   "execution_count": 72,
   "id": "a38ce6d9",
   "metadata": {},
   "outputs": [
    {
     "data": {
      "application/vnd.microsoft.datawrangler.viewer.v0+json": {
       "columns": [
        {
         "name": "index",
         "rawType": "object",
         "type": "string"
        },
        {
         "name": "Quantity",
         "rawType": "float64",
         "type": "float"
        },
        {
         "name": "Price",
         "rawType": "float64",
         "type": "float"
        },
        {
         "name": "Customer ID",
         "rawType": "float64",
         "type": "float"
        }
       ],
       "ref": "dc7fe13d-a16d-4f6f-8123-644542c6247b",
       "rows": [
        [
         "count",
         "406337.0",
         "406337.0",
         "406337.0"
        ],
        [
         "mean",
         "13.619099417478596",
         "2.9914616537504584",
         "15373.63299182698"
        ],
        [
         "std",
         "97.00065922687536",
         "4.285875717799005",
         "1677.3659072696587"
        ],
        [
         "min",
         "1.0",
         "0.0",
         "12346.0"
        ],
        [
         "25%",
         "2.0",
         "1.25",
         "14004.0"
        ],
        [
         "50%",
         "5.0",
         "1.95",
         "15326.0"
        ],
        [
         "75%",
         "12.0",
         "3.75",
         "16814.0"
        ],
        [
         "max",
         "19152.0",
         "295.0",
         "18287.0"
        ]
       ],
       "shape": {
        "columns": 3,
        "rows": 8
       }
      },
      "text/html": [
       "<div>\n",
       "<style scoped>\n",
       "    .dataframe tbody tr th:only-of-type {\n",
       "        vertical-align: middle;\n",
       "    }\n",
       "\n",
       "    .dataframe tbody tr th {\n",
       "        vertical-align: top;\n",
       "    }\n",
       "\n",
       "    .dataframe thead th {\n",
       "        text-align: right;\n",
       "    }\n",
       "</style>\n",
       "<table border=\"1\" class=\"dataframe\">\n",
       "  <thead>\n",
       "    <tr style=\"text-align: right;\">\n",
       "      <th></th>\n",
       "      <th>Quantity</th>\n",
       "      <th>Price</th>\n",
       "      <th>Customer ID</th>\n",
       "    </tr>\n",
       "  </thead>\n",
       "  <tbody>\n",
       "    <tr>\n",
       "      <th>count</th>\n",
       "      <td>406337.00</td>\n",
       "      <td>406337.00</td>\n",
       "      <td>406337.00</td>\n",
       "    </tr>\n",
       "    <tr>\n",
       "      <th>mean</th>\n",
       "      <td>13.62</td>\n",
       "      <td>2.99</td>\n",
       "      <td>15373.63</td>\n",
       "    </tr>\n",
       "    <tr>\n",
       "      <th>std</th>\n",
       "      <td>97.00</td>\n",
       "      <td>4.29</td>\n",
       "      <td>1677.37</td>\n",
       "    </tr>\n",
       "    <tr>\n",
       "      <th>min</th>\n",
       "      <td>1.00</td>\n",
       "      <td>0.00</td>\n",
       "      <td>12346.00</td>\n",
       "    </tr>\n",
       "    <tr>\n",
       "      <th>25%</th>\n",
       "      <td>2.00</td>\n",
       "      <td>1.25</td>\n",
       "      <td>14004.00</td>\n",
       "    </tr>\n",
       "    <tr>\n",
       "      <th>50%</th>\n",
       "      <td>5.00</td>\n",
       "      <td>1.95</td>\n",
       "      <td>15326.00</td>\n",
       "    </tr>\n",
       "    <tr>\n",
       "      <th>75%</th>\n",
       "      <td>12.00</td>\n",
       "      <td>3.75</td>\n",
       "      <td>16814.00</td>\n",
       "    </tr>\n",
       "    <tr>\n",
       "      <th>max</th>\n",
       "      <td>19152.00</td>\n",
       "      <td>295.00</td>\n",
       "      <td>18287.00</td>\n",
       "    </tr>\n",
       "  </tbody>\n",
       "</table>\n",
       "</div>"
      ],
      "text/plain": [
       "                  Quantity                Price          Customer ID\n",
       "count            406337.00            406337.00            406337.00\n",
       "mean                 13.62                 2.99             15373.63\n",
       "std                  97.00                 4.29              1677.37\n",
       "min                   1.00                 0.00             12346.00\n",
       "25%                   2.00                 1.25             14004.00\n",
       "50%                   5.00                 1.95             15326.00\n",
       "75%                  12.00                 3.75             16814.00\n",
       "max               19152.00               295.00             18287.00"
      ]
     },
     "execution_count": 72,
     "metadata": {},
     "output_type": "execute_result"
    }
   ],
   "source": [
    "cleaned_df.describe()"
   ]
  },
  {
   "cell_type": "code",
   "execution_count": 73,
   "id": "d76e5d44",
   "metadata": {},
   "outputs": [
    {
     "data": {
      "text/plain": [
       "28"
      ]
     },
     "execution_count": 73,
     "metadata": {},
     "output_type": "execute_result"
    }
   ],
   "source": [
    "len(cleaned_df[cleaned_df[\"Price\"] == 0])"
   ]
  },
  {
   "cell_type": "code",
   "execution_count": 74,
   "id": "7639156c",
   "metadata": {},
   "outputs": [],
   "source": [
    "cleaned_df = cleaned_df[cleaned_df[\"Price\"] > 0.0]"
   ]
  },
  {
   "cell_type": "code",
   "execution_count": 75,
   "id": "552bc98b",
   "metadata": {},
   "outputs": [
    {
     "data": {
      "application/vnd.microsoft.datawrangler.viewer.v0+json": {
       "columns": [
        {
         "name": "index",
         "rawType": "object",
         "type": "string"
        },
        {
         "name": "Quantity",
         "rawType": "float64",
         "type": "float"
        },
        {
         "name": "Price",
         "rawType": "float64",
         "type": "float"
        },
        {
         "name": "Customer ID",
         "rawType": "float64",
         "type": "float"
        }
       ],
       "ref": "f3c3a23d-6aa7-481f-b088-7cc78e444943",
       "rows": [
        [
         "count",
         "406309.0",
         "406309.0",
         "406309.0"
        ],
        [
         "mean",
         "13.617923796913187",
         "2.9916678045526925",
         "15373.722268027535"
        ],
        [
         "std",
         "96.99883282078021",
         "4.285951444066521",
         "1677.329470030868"
        ],
        [
         "min",
         "1.0",
         "0.001",
         "12346.0"
        ],
        [
         "25%",
         "2.0",
         "1.25",
         "14006.0"
        ],
        [
         "50%",
         "5.0",
         "1.95",
         "15326.0"
        ],
        [
         "75%",
         "12.0",
         "3.75",
         "16814.0"
        ],
        [
         "max",
         "19152.0",
         "295.0",
         "18287.0"
        ]
       ],
       "shape": {
        "columns": 3,
        "rows": 8
       }
      },
      "text/html": [
       "<div>\n",
       "<style scoped>\n",
       "    .dataframe tbody tr th:only-of-type {\n",
       "        vertical-align: middle;\n",
       "    }\n",
       "\n",
       "    .dataframe tbody tr th {\n",
       "        vertical-align: top;\n",
       "    }\n",
       "\n",
       "    .dataframe thead th {\n",
       "        text-align: right;\n",
       "    }\n",
       "</style>\n",
       "<table border=\"1\" class=\"dataframe\">\n",
       "  <thead>\n",
       "    <tr style=\"text-align: right;\">\n",
       "      <th></th>\n",
       "      <th>Quantity</th>\n",
       "      <th>Price</th>\n",
       "      <th>Customer ID</th>\n",
       "    </tr>\n",
       "  </thead>\n",
       "  <tbody>\n",
       "    <tr>\n",
       "      <th>count</th>\n",
       "      <td>406309.00</td>\n",
       "      <td>406309.00</td>\n",
       "      <td>406309.00</td>\n",
       "    </tr>\n",
       "    <tr>\n",
       "      <th>mean</th>\n",
       "      <td>13.62</td>\n",
       "      <td>2.99</td>\n",
       "      <td>15373.72</td>\n",
       "    </tr>\n",
       "    <tr>\n",
       "      <th>std</th>\n",
       "      <td>97.00</td>\n",
       "      <td>4.29</td>\n",
       "      <td>1677.33</td>\n",
       "    </tr>\n",
       "    <tr>\n",
       "      <th>min</th>\n",
       "      <td>1.00</td>\n",
       "      <td>0.00</td>\n",
       "      <td>12346.00</td>\n",
       "    </tr>\n",
       "    <tr>\n",
       "      <th>25%</th>\n",
       "      <td>2.00</td>\n",
       "      <td>1.25</td>\n",
       "      <td>14006.00</td>\n",
       "    </tr>\n",
       "    <tr>\n",
       "      <th>50%</th>\n",
       "      <td>5.00</td>\n",
       "      <td>1.95</td>\n",
       "      <td>15326.00</td>\n",
       "    </tr>\n",
       "    <tr>\n",
       "      <th>75%</th>\n",
       "      <td>12.00</td>\n",
       "      <td>3.75</td>\n",
       "      <td>16814.00</td>\n",
       "    </tr>\n",
       "    <tr>\n",
       "      <th>max</th>\n",
       "      <td>19152.00</td>\n",
       "      <td>295.00</td>\n",
       "      <td>18287.00</td>\n",
       "    </tr>\n",
       "  </tbody>\n",
       "</table>\n",
       "</div>"
      ],
      "text/plain": [
       "                  Quantity                Price          Customer ID\n",
       "count            406309.00            406309.00            406309.00\n",
       "mean                 13.62                 2.99             15373.72\n",
       "std                  97.00                 4.29              1677.33\n",
       "min                   1.00                 0.00             12346.00\n",
       "25%                   2.00                 1.25             14006.00\n",
       "50%                   5.00                 1.95             15326.00\n",
       "75%                  12.00                 3.75             16814.00\n",
       "max               19152.00               295.00             18287.00"
      ]
     },
     "execution_count": 75,
     "metadata": {},
     "output_type": "execute_result"
    }
   ],
   "source": [
    "cleaned_df.describe()"
   ]
  },
  {
   "cell_type": "code",
   "execution_count": 76,
   "id": "02807ff9",
   "metadata": {},
   "outputs": [
    {
     "data": {
      "application/vnd.microsoft.datawrangler.viewer.v0+json": {
       "columns": [
        {
         "name": "index",
         "rawType": "object",
         "type": "string"
        },
        {
         "name": "Quantity",
         "rawType": "float64",
         "type": "float"
        },
        {
         "name": "Price",
         "rawType": "float64",
         "type": "float"
        },
        {
         "name": "Customer ID",
         "rawType": "float64",
         "type": "float"
        }
       ],
       "ref": "9d79d261-19ca-4b4a-b3c9-f0e1a432003b",
       "rows": [
        [
         "count",
         "406309.0",
         "406309.0",
         "406309.0"
        ],
        [
         "mean",
         "13.617923796913187",
         "2.9916678045526925",
         "15373.722268027535"
        ],
        [
         "std",
         "96.99883282078021",
         "4.285951444066521",
         "1677.329470030868"
        ],
        [
         "min",
         "1.0",
         "0.001",
         "12346.0"
        ],
        [
         "25%",
         "2.0",
         "1.25",
         "14006.0"
        ],
        [
         "50%",
         "5.0",
         "1.95",
         "15326.0"
        ],
        [
         "75%",
         "12.0",
         "3.75",
         "16814.0"
        ],
        [
         "max",
         "19152.0",
         "295.0",
         "18287.0"
        ]
       ],
       "shape": {
        "columns": 3,
        "rows": 8
       }
      },
      "text/html": [
       "<div>\n",
       "<style scoped>\n",
       "    .dataframe tbody tr th:only-of-type {\n",
       "        vertical-align: middle;\n",
       "    }\n",
       "\n",
       "    .dataframe tbody tr th {\n",
       "        vertical-align: top;\n",
       "    }\n",
       "\n",
       "    .dataframe thead th {\n",
       "        text-align: right;\n",
       "    }\n",
       "</style>\n",
       "<table border=\"1\" class=\"dataframe\">\n",
       "  <thead>\n",
       "    <tr style=\"text-align: right;\">\n",
       "      <th></th>\n",
       "      <th>Quantity</th>\n",
       "      <th>Price</th>\n",
       "      <th>Customer ID</th>\n",
       "    </tr>\n",
       "  </thead>\n",
       "  <tbody>\n",
       "    <tr>\n",
       "      <th>count</th>\n",
       "      <td>406309.00</td>\n",
       "      <td>406309.00</td>\n",
       "      <td>406309.00</td>\n",
       "    </tr>\n",
       "    <tr>\n",
       "      <th>mean</th>\n",
       "      <td>13.62</td>\n",
       "      <td>2.99</td>\n",
       "      <td>15373.72</td>\n",
       "    </tr>\n",
       "    <tr>\n",
       "      <th>std</th>\n",
       "      <td>97.00</td>\n",
       "      <td>4.29</td>\n",
       "      <td>1677.33</td>\n",
       "    </tr>\n",
       "    <tr>\n",
       "      <th>min</th>\n",
       "      <td>1.00</td>\n",
       "      <td>0.00</td>\n",
       "      <td>12346.00</td>\n",
       "    </tr>\n",
       "    <tr>\n",
       "      <th>25%</th>\n",
       "      <td>2.00</td>\n",
       "      <td>1.25</td>\n",
       "      <td>14006.00</td>\n",
       "    </tr>\n",
       "    <tr>\n",
       "      <th>50%</th>\n",
       "      <td>5.00</td>\n",
       "      <td>1.95</td>\n",
       "      <td>15326.00</td>\n",
       "    </tr>\n",
       "    <tr>\n",
       "      <th>75%</th>\n",
       "      <td>12.00</td>\n",
       "      <td>3.75</td>\n",
       "      <td>16814.00</td>\n",
       "    </tr>\n",
       "    <tr>\n",
       "      <th>max</th>\n",
       "      <td>19152.00</td>\n",
       "      <td>295.00</td>\n",
       "      <td>18287.00</td>\n",
       "    </tr>\n",
       "  </tbody>\n",
       "</table>\n",
       "</div>"
      ],
      "text/plain": [
       "                  Quantity                Price          Customer ID\n",
       "count            406309.00            406309.00            406309.00\n",
       "mean                 13.62                 2.99             15373.72\n",
       "std                  97.00                 4.29              1677.33\n",
       "min                   1.00                 0.00             12346.00\n",
       "25%                   2.00                 1.25             14006.00\n",
       "50%                   5.00                 1.95             15326.00\n",
       "75%                  12.00                 3.75             16814.00\n",
       "max               19152.00               295.00             18287.00"
      ]
     },
     "execution_count": 76,
     "metadata": {},
     "output_type": "execute_result"
    }
   ],
   "source": [
    "cleaned_df.describe()"
   ]
  },
  {
   "cell_type": "code",
   "execution_count": 77,
   "id": "14881df5",
   "metadata": {},
   "outputs": [
    {
     "data": {
      "text/plain": [
       "0.7732429238325965"
      ]
     },
     "execution_count": 77,
     "metadata": {},
     "output_type": "execute_result"
    }
   ],
   "source": [
    "len(cleaned_df)/len(df)"
   ]
  },
  {
   "cell_type": "markdown",
   "id": "73f9be12",
   "metadata": {},
   "source": [
    "FEATURE ENGINEERING"
   ]
  },
  {
   "cell_type": "code",
   "execution_count": 78,
   "id": "7f0c6ef9",
   "metadata": {},
   "outputs": [
    {
     "name": "stderr",
     "output_type": "stream",
     "text": [
      "/tmp/ipykernel_778802/2846558921.py:1: SettingWithCopyWarning: \n",
      "A value is trying to be set on a copy of a slice from a DataFrame.\n",
      "Try using .loc[row_indexer,col_indexer] = value instead\n",
      "\n",
      "See the caveats in the documentation: https://pandas.pydata.org/pandas-docs/stable/user_guide/indexing.html#returning-a-view-versus-a-copy\n",
      "  cleaned_df[\"SalesLineTotal\"] = cleaned_df[\"Quantity\"] * cleaned_df[\"Price\"]\n"
     ]
    },
    {
     "data": {
      "application/vnd.microsoft.datawrangler.viewer.v0+json": {
       "columns": [
        {
         "name": "index",
         "rawType": "int64",
         "type": "integer"
        },
        {
         "name": "Invoice",
         "rawType": "object",
         "type": "string"
        },
        {
         "name": "StockCode",
         "rawType": "object",
         "type": "string"
        },
        {
         "name": "Description",
         "rawType": "object",
         "type": "string"
        },
        {
         "name": "Quantity",
         "rawType": "int64",
         "type": "integer"
        },
        {
         "name": "InvoiceDate",
         "rawType": "object",
         "type": "string"
        },
        {
         "name": "Price",
         "rawType": "float64",
         "type": "float"
        },
        {
         "name": "Customer ID",
         "rawType": "float64",
         "type": "float"
        },
        {
         "name": "Country",
         "rawType": "object",
         "type": "string"
        },
        {
         "name": "SalesLineTotal",
         "rawType": "float64",
         "type": "float"
        }
       ],
       "ref": "267f11c9-d011-4046-a62f-98e849ca0a51",
       "rows": [
        [
         "0",
         "489434",
         "85048",
         "15CM CHRISTMAS GLASS BALL 20 LIGHTS",
         "12",
         "2009-12-01 07:45:00",
         "6.95",
         "13085.0",
         "United Kingdom",
         "83.4"
        ],
        [
         "1",
         "489434",
         "79323P",
         "PINK CHERRY LIGHTS",
         "12",
         "2009-12-01 07:45:00",
         "6.75",
         "13085.0",
         "United Kingdom",
         "81.0"
        ],
        [
         "2",
         "489434",
         "79323W",
         " WHITE CHERRY LIGHTS",
         "12",
         "2009-12-01 07:45:00",
         "6.75",
         "13085.0",
         "United Kingdom",
         "81.0"
        ],
        [
         "3",
         "489434",
         "22041",
         "RECORD FRAME 7\" SINGLE SIZE ",
         "48",
         "2009-12-01 07:45:00",
         "2.1",
         "13085.0",
         "United Kingdom",
         "100.80000000000001"
        ],
        [
         "4",
         "489434",
         "21232",
         "STRAWBERRY CERAMIC TRINKET BOX",
         "24",
         "2009-12-01 07:45:00",
         "1.25",
         "13085.0",
         "United Kingdom",
         "30.0"
        ],
        [
         "5",
         "489434",
         "22064",
         "PINK DOUGHNUT TRINKET POT ",
         "24",
         "2009-12-01 07:45:00",
         "1.65",
         "13085.0",
         "United Kingdom",
         "39.599999999999994"
        ],
        [
         "6",
         "489434",
         "21871",
         "SAVE THE PLANET MUG",
         "24",
         "2009-12-01 07:45:00",
         "1.25",
         "13085.0",
         "United Kingdom",
         "30.0"
        ],
        [
         "7",
         "489434",
         "21523",
         "FANCY FONT HOME SWEET HOME DOORMAT",
         "10",
         "2009-12-01 07:45:00",
         "5.95",
         "13085.0",
         "United Kingdom",
         "59.5"
        ],
        [
         "8",
         "489435",
         "22350",
         "CAT BOWL ",
         "12",
         "2009-12-01 07:46:00",
         "2.55",
         "13085.0",
         "United Kingdom",
         "30.599999999999998"
        ],
        [
         "9",
         "489435",
         "22349",
         "DOG BOWL , CHASING BALL DESIGN",
         "12",
         "2009-12-01 07:46:00",
         "3.75",
         "13085.0",
         "United Kingdom",
         "45.0"
        ],
        [
         "10",
         "489435",
         "22195",
         "HEART MEASURING SPOONS LARGE",
         "24",
         "2009-12-01 07:46:00",
         "1.65",
         "13085.0",
         "United Kingdom",
         "39.599999999999994"
        ],
        [
         "11",
         "489435",
         "22353",
         "LUNCHBOX WITH CUTLERY FAIRY CAKES ",
         "12",
         "2009-12-01 07:46:00",
         "2.55",
         "13085.0",
         "United Kingdom",
         "30.599999999999998"
        ],
        [
         "12",
         "489436",
         "48173C",
         "DOOR MAT BLACK FLOCK ",
         "10",
         "2009-12-01 09:06:00",
         "5.95",
         "13078.0",
         "United Kingdom",
         "59.5"
        ],
        [
         "13",
         "489436",
         "21755",
         "LOVE BUILDING BLOCK WORD",
         "18",
         "2009-12-01 09:06:00",
         "5.45",
         "13078.0",
         "United Kingdom",
         "98.10000000000001"
        ],
        [
         "14",
         "489436",
         "21754",
         "HOME BUILDING BLOCK WORD",
         "3",
         "2009-12-01 09:06:00",
         "5.95",
         "13078.0",
         "United Kingdom",
         "17.85"
        ],
        [
         "15",
         "489436",
         "84879",
         "ASSORTED COLOUR BIRD ORNAMENT",
         "16",
         "2009-12-01 09:06:00",
         "1.69",
         "13078.0",
         "United Kingdom",
         "27.04"
        ],
        [
         "16",
         "489436",
         "22119",
         " PEACE WOODEN BLOCK LETTERS",
         "3",
         "2009-12-01 09:06:00",
         "6.95",
         "13078.0",
         "United Kingdom",
         "20.85"
        ],
        [
         "17",
         "489436",
         "22142",
         "CHRISTMAS CRAFT WHITE FAIRY ",
         "12",
         "2009-12-01 09:06:00",
         "1.45",
         "13078.0",
         "United Kingdom",
         "17.4"
        ],
        [
         "18",
         "489436",
         "22296",
         "HEART IVORY TRELLIS LARGE",
         "12",
         "2009-12-01 09:06:00",
         "1.65",
         "13078.0",
         "United Kingdom",
         "19.799999999999997"
        ],
        [
         "19",
         "489436",
         "22295",
         "HEART FILIGREE DOVE LARGE",
         "12",
         "2009-12-01 09:06:00",
         "1.65",
         "13078.0",
         "United Kingdom",
         "19.799999999999997"
        ],
        [
         "20",
         "489436",
         "22109",
         "FULL ENGLISH BREAKFAST PLATE",
         "16",
         "2009-12-01 09:06:00",
         "3.39",
         "13078.0",
         "United Kingdom",
         "54.24"
        ],
        [
         "21",
         "489436",
         "22107",
         "PIZZA PLATE IN BOX",
         "4",
         "2009-12-01 09:06:00",
         "3.75",
         "13078.0",
         "United Kingdom",
         "15.0"
        ],
        [
         "22",
         "489436",
         "22194",
         "BLACK DINER WALL CLOCK",
         "2",
         "2009-12-01 09:06:00",
         "8.5",
         "13078.0",
         "United Kingdom",
         "17.0"
        ],
        [
         "23",
         "489436",
         "35004B",
         "SET OF 3 BLACK FLYING DUCKS",
         "12",
         "2009-12-01 09:06:00",
         "4.65",
         "13078.0",
         "United Kingdom",
         "55.800000000000004"
        ],
        [
         "24",
         "489436",
         "82582",
         "AREA PATROLLED METAL SIGN",
         "12",
         "2009-12-01 09:06:00",
         "2.1",
         "13078.0",
         "United Kingdom",
         "25.200000000000003"
        ],
        [
         "25",
         "489436",
         "21181",
         "PLEASE ONE PERSON  METAL SIGN",
         "12",
         "2009-12-01 09:06:00",
         "2.1",
         "13078.0",
         "United Kingdom",
         "25.200000000000003"
        ],
        [
         "26",
         "489436",
         "21756",
         "BATH BUILDING BLOCK WORD",
         "3",
         "2009-12-01 09:06:00",
         "5.95",
         "13078.0",
         "United Kingdom",
         "17.85"
        ],
        [
         "27",
         "489436",
         "21333",
         "CLASSIC WHITE FRAME",
         "6",
         "2009-12-01 09:06:00",
         "2.95",
         "13078.0",
         "United Kingdom",
         "17.700000000000003"
        ],
        [
         "28",
         "489436",
         "84596F",
         "SMALL MARSHMALLOWS PINK BOWL",
         "8",
         "2009-12-01 09:06:00",
         "1.25",
         "13078.0",
         "United Kingdom",
         "10.0"
        ],
        [
         "29",
         "489436",
         "84596L",
         "BISCUITS SMALL BOWL LIGHT BLUE",
         "8",
         "2009-12-01 09:06:00",
         "1.25",
         "13078.0",
         "United Kingdom",
         "10.0"
        ],
        [
         "30",
         "489436",
         "22111",
         "SCOTTIE DOG HOT WATER BOTTLE",
         "24",
         "2009-12-01 09:06:00",
         "4.25",
         "13078.0",
         "United Kingdom",
         "102.0"
        ],
        [
         "31",
         "489437",
         "22143",
         "CHRISTMAS CRAFT HEART DECORATIONS",
         "6",
         "2009-12-01 09:08:00",
         "2.1",
         "15362.0",
         "United Kingdom",
         "12.600000000000001"
        ],
        [
         "32",
         "489437",
         "22145",
         "CHRISTMAS CRAFT HEART STOCKING ",
         "6",
         "2009-12-01 09:08:00",
         "2.1",
         "15362.0",
         "United Kingdom",
         "12.600000000000001"
        ],
        [
         "33",
         "489437",
         "22130",
         "PARTY CONE CHRISTMAS DECORATION ",
         "12",
         "2009-12-01 09:08:00",
         "0.85",
         "15362.0",
         "United Kingdom",
         "10.2"
        ],
        [
         "34",
         "489437",
         "21364",
         "PEACE SMALL WOOD LETTERS",
         "2",
         "2009-12-01 09:08:00",
         "6.75",
         "15362.0",
         "United Kingdom",
         "13.5"
        ],
        [
         "35",
         "489437",
         "21360",
         "JOY LARGE WOOD LETTERS",
         "1",
         "2009-12-01 09:08:00",
         "9.95",
         "15362.0",
         "United Kingdom",
         "9.95"
        ],
        [
         "36",
         "489437",
         "21351",
         "CINAMMON & ORANGE WREATH",
         "2",
         "2009-12-01 09:08:00",
         "6.75",
         "15362.0",
         "United Kingdom",
         "13.5"
        ],
        [
         "37",
         "489437",
         "21352",
         "EUCALYPTUS & PINECONE  WREATH",
         "2",
         "2009-12-01 09:08:00",
         "6.75",
         "15362.0",
         "United Kingdom",
         "13.5"
        ],
        [
         "38",
         "489437",
         "35400",
         "WOODEN BOX ADVENT CALENDAR ",
         "2",
         "2009-12-01 09:08:00",
         "8.95",
         "15362.0",
         "United Kingdom",
         "17.9"
        ],
        [
         "39",
         "489437",
         "20695",
         "FLORAL BLUE MONSTER",
         "3",
         "2009-12-01 09:08:00",
         "4.25",
         "15362.0",
         "United Kingdom",
         "12.75"
        ],
        [
         "40",
         "489437",
         "37370",
         "RETRO COFFEE MUGS ASSORTED",
         "12",
         "2009-12-01 09:08:00",
         "1.25",
         "15362.0",
         "United Kingdom",
         "15.0"
        ],
        [
         "41",
         "489437",
         "10002",
         "INFLATABLE POLITICAL GLOBE ",
         "12",
         "2009-12-01 09:08:00",
         "0.85",
         "15362.0",
         "United Kingdom",
         "10.2"
        ],
        [
         "42",
         "489437",
         "84507B",
         "STRIPES DESIGN MONKEY DOLL",
         "6",
         "2009-12-01 09:08:00",
         "2.55",
         "15362.0",
         "United Kingdom",
         "15.299999999999999"
        ],
        [
         "43",
         "489437",
         "20703",
         "BLUE PADDED SOFT MOBILE",
         "3",
         "2009-12-01 09:08:00",
         "4.25",
         "15362.0",
         "United Kingdom",
         "12.75"
        ],
        [
         "44",
         "489437",
         "21987",
         "PACK OF 6 SKULL PAPER CUPS",
         "12",
         "2009-12-01 09:08:00",
         "0.65",
         "15362.0",
         "United Kingdom",
         "7.800000000000001"
        ],
        [
         "45",
         "489437",
         "21989",
         "PACK OF 20 SKULL PAPER NAPKINS",
         "12",
         "2009-12-01 09:08:00",
         "0.85",
         "15362.0",
         "United Kingdom",
         "10.2"
        ],
        [
         "46",
         "489437",
         "84970S",
         "HANGING HEART ZINC T-LIGHT HOLDER",
         "12",
         "2009-12-01 09:08:00",
         "0.85",
         "15362.0",
         "United Kingdom",
         "10.2"
        ],
        [
         "47",
         "489437",
         "20971",
         "PINK BLUE FELT CRAFT TRINKET BOX",
         "12",
         "2009-12-01 09:08:00",
         "1.25",
         "15362.0",
         "United Kingdom",
         "15.0"
        ],
        [
         "48",
         "489437",
         "22271",
         "FELTCRAFT DOLL ROSIE",
         "6",
         "2009-12-01 09:08:00",
         "2.95",
         "15362.0",
         "United Kingdom",
         "17.700000000000003"
        ],
        [
         "49",
         "489437",
         "22272",
         "FELTCRAFT DOLL MARIA",
         "6",
         "2009-12-01 09:08:00",
         "2.95",
         "15362.0",
         "United Kingdom",
         "17.700000000000003"
        ]
       ],
       "shape": {
        "columns": 9,
        "rows": 406309
       }
      },
      "text/html": [
       "<div>\n",
       "<style scoped>\n",
       "    .dataframe tbody tr th:only-of-type {\n",
       "        vertical-align: middle;\n",
       "    }\n",
       "\n",
       "    .dataframe tbody tr th {\n",
       "        vertical-align: top;\n",
       "    }\n",
       "\n",
       "    .dataframe thead th {\n",
       "        text-align: right;\n",
       "    }\n",
       "</style>\n",
       "<table border=\"1\" class=\"dataframe\">\n",
       "  <thead>\n",
       "    <tr style=\"text-align: right;\">\n",
       "      <th></th>\n",
       "      <th>Invoice</th>\n",
       "      <th>StockCode</th>\n",
       "      <th>Description</th>\n",
       "      <th>Quantity</th>\n",
       "      <th>InvoiceDate</th>\n",
       "      <th>Price</th>\n",
       "      <th>Customer ID</th>\n",
       "      <th>Country</th>\n",
       "      <th>SalesLineTotal</th>\n",
       "    </tr>\n",
       "  </thead>\n",
       "  <tbody>\n",
       "    <tr>\n",
       "      <th>0</th>\n",
       "      <td>489434</td>\n",
       "      <td>85048</td>\n",
       "      <td>15CM CHRISTMAS GLASS BALL 20 LIGHTS</td>\n",
       "      <td>12</td>\n",
       "      <td>2009-12-01 07:45:00</td>\n",
       "      <td>6.95</td>\n",
       "      <td>13085.00</td>\n",
       "      <td>United Kingdom</td>\n",
       "      <td>83.40</td>\n",
       "    </tr>\n",
       "    <tr>\n",
       "      <th>1</th>\n",
       "      <td>489434</td>\n",
       "      <td>79323P</td>\n",
       "      <td>PINK CHERRY LIGHTS</td>\n",
       "      <td>12</td>\n",
       "      <td>2009-12-01 07:45:00</td>\n",
       "      <td>6.75</td>\n",
       "      <td>13085.00</td>\n",
       "      <td>United Kingdom</td>\n",
       "      <td>81.00</td>\n",
       "    </tr>\n",
       "    <tr>\n",
       "      <th>2</th>\n",
       "      <td>489434</td>\n",
       "      <td>79323W</td>\n",
       "      <td>WHITE CHERRY LIGHTS</td>\n",
       "      <td>12</td>\n",
       "      <td>2009-12-01 07:45:00</td>\n",
       "      <td>6.75</td>\n",
       "      <td>13085.00</td>\n",
       "      <td>United Kingdom</td>\n",
       "      <td>81.00</td>\n",
       "    </tr>\n",
       "    <tr>\n",
       "      <th>3</th>\n",
       "      <td>489434</td>\n",
       "      <td>22041</td>\n",
       "      <td>RECORD FRAME 7\" SINGLE SIZE</td>\n",
       "      <td>48</td>\n",
       "      <td>2009-12-01 07:45:00</td>\n",
       "      <td>2.10</td>\n",
       "      <td>13085.00</td>\n",
       "      <td>United Kingdom</td>\n",
       "      <td>100.80</td>\n",
       "    </tr>\n",
       "    <tr>\n",
       "      <th>4</th>\n",
       "      <td>489434</td>\n",
       "      <td>21232</td>\n",
       "      <td>STRAWBERRY CERAMIC TRINKET BOX</td>\n",
       "      <td>24</td>\n",
       "      <td>2009-12-01 07:45:00</td>\n",
       "      <td>1.25</td>\n",
       "      <td>13085.00</td>\n",
       "      <td>United Kingdom</td>\n",
       "      <td>30.00</td>\n",
       "    </tr>\n",
       "    <tr>\n",
       "      <th>...</th>\n",
       "      <td>...</td>\n",
       "      <td>...</td>\n",
       "      <td>...</td>\n",
       "      <td>...</td>\n",
       "      <td>...</td>\n",
       "      <td>...</td>\n",
       "      <td>...</td>\n",
       "      <td>...</td>\n",
       "      <td>...</td>\n",
       "    </tr>\n",
       "    <tr>\n",
       "      <th>525456</th>\n",
       "      <td>538171</td>\n",
       "      <td>22271</td>\n",
       "      <td>FELTCRAFT DOLL ROSIE</td>\n",
       "      <td>2</td>\n",
       "      <td>2010-12-09 20:01:00</td>\n",
       "      <td>2.95</td>\n",
       "      <td>17530.00</td>\n",
       "      <td>United Kingdom</td>\n",
       "      <td>5.90</td>\n",
       "    </tr>\n",
       "    <tr>\n",
       "      <th>525457</th>\n",
       "      <td>538171</td>\n",
       "      <td>22750</td>\n",
       "      <td>FELTCRAFT PRINCESS LOLA DOLL</td>\n",
       "      <td>1</td>\n",
       "      <td>2010-12-09 20:01:00</td>\n",
       "      <td>3.75</td>\n",
       "      <td>17530.00</td>\n",
       "      <td>United Kingdom</td>\n",
       "      <td>3.75</td>\n",
       "    </tr>\n",
       "    <tr>\n",
       "      <th>525458</th>\n",
       "      <td>538171</td>\n",
       "      <td>22751</td>\n",
       "      <td>FELTCRAFT PRINCESS OLIVIA DOLL</td>\n",
       "      <td>1</td>\n",
       "      <td>2010-12-09 20:01:00</td>\n",
       "      <td>3.75</td>\n",
       "      <td>17530.00</td>\n",
       "      <td>United Kingdom</td>\n",
       "      <td>3.75</td>\n",
       "    </tr>\n",
       "    <tr>\n",
       "      <th>525459</th>\n",
       "      <td>538171</td>\n",
       "      <td>20970</td>\n",
       "      <td>PINK FLORAL FELTCRAFT SHOULDER BAG</td>\n",
       "      <td>2</td>\n",
       "      <td>2010-12-09 20:01:00</td>\n",
       "      <td>3.75</td>\n",
       "      <td>17530.00</td>\n",
       "      <td>United Kingdom</td>\n",
       "      <td>7.50</td>\n",
       "    </tr>\n",
       "    <tr>\n",
       "      <th>525460</th>\n",
       "      <td>538171</td>\n",
       "      <td>21931</td>\n",
       "      <td>JUMBO STORAGE BAG SUKI</td>\n",
       "      <td>2</td>\n",
       "      <td>2010-12-09 20:01:00</td>\n",
       "      <td>1.95</td>\n",
       "      <td>17530.00</td>\n",
       "      <td>United Kingdom</td>\n",
       "      <td>3.90</td>\n",
       "    </tr>\n",
       "  </tbody>\n",
       "</table>\n",
       "<p>406309 rows × 9 columns</p>\n",
       "</div>"
      ],
      "text/plain": [
       "       Invoice StockCode                          Description  Quantity  \\\n",
       "0       489434     85048  15CM CHRISTMAS GLASS BALL 20 LIGHTS        12   \n",
       "1       489434    79323P                   PINK CHERRY LIGHTS        12   \n",
       "2       489434    79323W                  WHITE CHERRY LIGHTS        12   \n",
       "3       489434     22041         RECORD FRAME 7\" SINGLE SIZE         48   \n",
       "4       489434     21232       STRAWBERRY CERAMIC TRINKET BOX        24   \n",
       "...        ...       ...                                  ...       ...   \n",
       "525456  538171     22271                 FELTCRAFT DOLL ROSIE         2   \n",
       "525457  538171     22750         FELTCRAFT PRINCESS LOLA DOLL         1   \n",
       "525458  538171     22751       FELTCRAFT PRINCESS OLIVIA DOLL         1   \n",
       "525459  538171     20970   PINK FLORAL FELTCRAFT SHOULDER BAG         2   \n",
       "525460  538171     21931               JUMBO STORAGE BAG SUKI         2   \n",
       "\n",
       "                InvoiceDate                Price          Customer ID  \\\n",
       "0       2009-12-01 07:45:00                 6.95             13085.00   \n",
       "1       2009-12-01 07:45:00                 6.75             13085.00   \n",
       "2       2009-12-01 07:45:00                 6.75             13085.00   \n",
       "3       2009-12-01 07:45:00                 2.10             13085.00   \n",
       "4       2009-12-01 07:45:00                 1.25             13085.00   \n",
       "...                     ...                  ...                  ...   \n",
       "525456  2010-12-09 20:01:00                 2.95             17530.00   \n",
       "525457  2010-12-09 20:01:00                 3.75             17530.00   \n",
       "525458  2010-12-09 20:01:00                 3.75             17530.00   \n",
       "525459  2010-12-09 20:01:00                 3.75             17530.00   \n",
       "525460  2010-12-09 20:01:00                 1.95             17530.00   \n",
       "\n",
       "               Country       SalesLineTotal  \n",
       "0       United Kingdom                83.40  \n",
       "1       United Kingdom                81.00  \n",
       "2       United Kingdom                81.00  \n",
       "3       United Kingdom               100.80  \n",
       "4       United Kingdom                30.00  \n",
       "...                ...                  ...  \n",
       "525456  United Kingdom                 5.90  \n",
       "525457  United Kingdom                 3.75  \n",
       "525458  United Kingdom                 3.75  \n",
       "525459  United Kingdom                 7.50  \n",
       "525460  United Kingdom                 3.90  \n",
       "\n",
       "[406309 rows x 9 columns]"
      ]
     },
     "execution_count": 78,
     "metadata": {},
     "output_type": "execute_result"
    }
   ],
   "source": [
    "cleaned_df[\"SalesLineTotal\"] = cleaned_df[\"Quantity\"] * cleaned_df[\"Price\"]\n",
    "\n",
    "cleaned_df"
   ]
  },
  {
   "cell_type": "code",
   "execution_count": 82,
   "id": "ce781f87",
   "metadata": {},
   "outputs": [
    {
     "name": "stdout",
     "output_type": "stream",
     "text": [
      "Requirement already satisfied: matplotlib in ./myenv/lib/python3.12/site-packages (3.10.3)\n",
      "Requirement already satisfied: contourpy>=1.0.1 in ./myenv/lib/python3.12/site-packages (from matplotlib) (1.3.2)\n",
      "Requirement already satisfied: cycler>=0.10 in ./myenv/lib/python3.12/site-packages (from matplotlib) (0.12.1)\n",
      "Requirement already satisfied: fonttools>=4.22.0 in ./myenv/lib/python3.12/site-packages (from matplotlib) (4.59.0)\n",
      "Requirement already satisfied: kiwisolver>=1.3.1 in ./myenv/lib/python3.12/site-packages (from matplotlib) (1.4.8)\n",
      "Requirement already satisfied: numpy>=1.23 in ./myenv/lib/python3.12/site-packages (from matplotlib) (2.3.1)\n",
      "Requirement already satisfied: packaging>=20.0 in ./myenv/lib/python3.12/site-packages (from matplotlib) (25.0)\n",
      "Requirement already satisfied: pillow>=8 in ./myenv/lib/python3.12/site-packages (from matplotlib) (11.3.0)\n",
      "Requirement already satisfied: pyparsing>=2.3.1 in ./myenv/lib/python3.12/site-packages (from matplotlib) (3.2.3)\n",
      "Requirement already satisfied: python-dateutil>=2.7 in ./myenv/lib/python3.12/site-packages (from matplotlib) (2.9.0.post0)\n",
      "Requirement already satisfied: six>=1.5 in ./myenv/lib/python3.12/site-packages (from python-dateutil>=2.7->matplotlib) (1.17.0)\n",
      "Note: you may need to restart the kernel to use updated packages.\n"
     ]
    }
   ],
   "source": [
    "%pip install matplotlib"
   ]
  },
  {
   "cell_type": "code",
   "execution_count": 79,
   "id": "5c41db9a",
   "metadata": {},
   "outputs": [
    {
     "data": {
      "application/vnd.microsoft.datawrangler.viewer.v0+json": {
       "columns": [
        {
         "name": "index",
         "rawType": "int64",
         "type": "integer"
        },
        {
         "name": "Customer ID",
         "rawType": "float64",
         "type": "float"
        },
        {
         "name": "MonetaryValue",
         "rawType": "float64",
         "type": "float"
        },
        {
         "name": "Frequency",
         "rawType": "int64",
         "type": "integer"
        },
        {
         "name": "LastInvoiceDate",
         "rawType": "object",
         "type": "string"
        }
       ],
       "ref": "072715da-0ce3-419c-b5d3-699a708360e2",
       "rows": [
        [
         "0",
         "12346.0",
         "169.36",
         "2",
         "2010-06-28 13:53:00"
        ],
        [
         "1",
         "12347.0",
         "1323.32",
         "2",
         "2010-12-07 14:57:00"
        ],
        [
         "2",
         "12348.0",
         "221.16",
         "1",
         "2010-09-27 14:59:00"
        ],
        [
         "3",
         "12349.0",
         "2221.14",
         "2",
         "2010-10-28 08:23:00"
        ],
        [
         "4",
         "12351.0",
         "300.93",
         "1",
         "2010-11-29 15:23:00"
        ]
       ],
       "shape": {
        "columns": 4,
        "rows": 5
       }
      },
      "text/html": [
       "<div>\n",
       "<style scoped>\n",
       "    .dataframe tbody tr th:only-of-type {\n",
       "        vertical-align: middle;\n",
       "    }\n",
       "\n",
       "    .dataframe tbody tr th {\n",
       "        vertical-align: top;\n",
       "    }\n",
       "\n",
       "    .dataframe thead th {\n",
       "        text-align: right;\n",
       "    }\n",
       "</style>\n",
       "<table border=\"1\" class=\"dataframe\">\n",
       "  <thead>\n",
       "    <tr style=\"text-align: right;\">\n",
       "      <th></th>\n",
       "      <th>Customer ID</th>\n",
       "      <th>MonetaryValue</th>\n",
       "      <th>Frequency</th>\n",
       "      <th>LastInvoiceDate</th>\n",
       "    </tr>\n",
       "  </thead>\n",
       "  <tbody>\n",
       "    <tr>\n",
       "      <th>0</th>\n",
       "      <td>12346.00</td>\n",
       "      <td>169.36</td>\n",
       "      <td>2</td>\n",
       "      <td>2010-06-28 13:53:00</td>\n",
       "    </tr>\n",
       "    <tr>\n",
       "      <th>1</th>\n",
       "      <td>12347.00</td>\n",
       "      <td>1323.32</td>\n",
       "      <td>2</td>\n",
       "      <td>2010-12-07 14:57:00</td>\n",
       "    </tr>\n",
       "    <tr>\n",
       "      <th>2</th>\n",
       "      <td>12348.00</td>\n",
       "      <td>221.16</td>\n",
       "      <td>1</td>\n",
       "      <td>2010-09-27 14:59:00</td>\n",
       "    </tr>\n",
       "    <tr>\n",
       "      <th>3</th>\n",
       "      <td>12349.00</td>\n",
       "      <td>2221.14</td>\n",
       "      <td>2</td>\n",
       "      <td>2010-10-28 08:23:00</td>\n",
       "    </tr>\n",
       "    <tr>\n",
       "      <th>4</th>\n",
       "      <td>12351.00</td>\n",
       "      <td>300.93</td>\n",
       "      <td>1</td>\n",
       "      <td>2010-11-29 15:23:00</td>\n",
       "    </tr>\n",
       "  </tbody>\n",
       "</table>\n",
       "</div>"
      ],
      "text/plain": [
       "           Customer ID        MonetaryValue  Frequency      LastInvoiceDate\n",
       "0             12346.00               169.36          2  2010-06-28 13:53:00\n",
       "1             12347.00              1323.32          2  2010-12-07 14:57:00\n",
       "2             12348.00               221.16          1  2010-09-27 14:59:00\n",
       "3             12349.00              2221.14          2  2010-10-28 08:23:00\n",
       "4             12351.00               300.93          1  2010-11-29 15:23:00"
      ]
     },
     "execution_count": 79,
     "metadata": {},
     "output_type": "execute_result"
    }
   ],
   "source": [
    "aggregated_df = cleaned_df.groupby(by=\"Customer ID\", as_index=False) \\\n",
    "    .agg(\n",
    "        MonetaryValue=(\"SalesLineTotal\", \"sum\"),\n",
    "        Frequency=(\"Invoice\", \"nunique\"),\n",
    "        LastInvoiceDate=(\"InvoiceDate\", \"max\")\n",
    "    )\n",
    "\n",
    "aggregated_df.head(5)"
   ]
  },
  {
   "cell_type": "code",
   "execution_count": 1,
   "id": "c2d8c8e5",
   "metadata": {},
   "outputs": [],
   "source": [
    "import matplotlib as plt"
   ]
  },
  {
   "cell_type": "code",
   "execution_count": 2,
   "id": "c5b9bbec",
   "metadata": {},
   "outputs": [
    {
     "ename": "NameError",
     "evalue": "name 'aggregated_df' is not defined",
     "output_type": "error",
     "traceback": [
      "\u001b[31m---------------------------------------------------------------------------\u001b[39m",
      "\u001b[31mNameError\u001b[39m                                 Traceback (most recent call last)",
      "\u001b[36mCell\u001b[39m\u001b[36m \u001b[39m\u001b[32mIn[2]\u001b[39m\u001b[32m, line 1\u001b[39m\n\u001b[32m----> \u001b[39m\u001b[32m1\u001b[39m max_invoice_date = \u001b[43maggregated_df\u001b[49m[\u001b[33m\"\u001b[39m\u001b[33mLastInvoiceDate\u001b[39m\u001b[33m\"\u001b[39m].max()\n\u001b[32m      3\u001b[39m aggregated_df[\u001b[33m\"\u001b[39m\u001b[33mRecency\u001b[39m\u001b[33m\"\u001b[39m] = (max_invoice_date - aggregated_df[\u001b[33m\"\u001b[39m\u001b[33mLastInvoiceDate\u001b[39m\u001b[33m\"\u001b[39m]).dt.days\n\u001b[32m      5\u001b[39m aggregated_df.head(\u001b[32m5\u001b[39m)\n",
      "\u001b[31mNameError\u001b[39m: name 'aggregated_df' is not defined"
     ]
    }
   ],
   "source": [
    "max_invoice_date = aggregated_df[\"LastInvoiceDate\"].max()\n",
    "\n",
    "aggregated_df[\"Recency\"] = (max_invoice_date - aggregated_df[\"LastInvoiceDate\"]).dt.days\n",
    "\n",
    "aggregated_df.head(5)"
   ]
  },
  {
   "cell_type": "code",
   "execution_count": null,
   "id": "5f1a64fd",
   "metadata": {},
   "outputs": [
    {
     "ename": "TypeError",
     "evalue": "'module' object is not callable",
     "output_type": "error",
     "traceback": [
      "\u001b[31m---------------------------------------------------------------------------\u001b[39m",
      "\u001b[31mTypeError\u001b[39m                                 Traceback (most recent call last)",
      "\u001b[36mCell\u001b[39m\u001b[36m \u001b[39m\u001b[32mIn[54]\u001b[39m\u001b[32m, line 1\u001b[39m\n\u001b[32m----> \u001b[39m\u001b[32m1\u001b[39m \u001b[43mplt\u001b[49m\u001b[43m.\u001b[49m\u001b[43mfigure\u001b[49m\u001b[43m(\u001b[49m\u001b[43mfigsize\u001b[49m\u001b[43m=\u001b[49m\u001b[43m(\u001b[49m\u001b[32;43m15\u001b[39;49m\u001b[43m,\u001b[49m\u001b[43m \u001b[49m\u001b[32;43m5\u001b[39;49m\u001b[43m)\u001b[49m\u001b[43m)\u001b[49m\n\u001b[32m      3\u001b[39m plt.subplot(\u001b[32m1\u001b[39m, \u001b[32m3\u001b[39m, \u001b[32m1\u001b[39m)\n\u001b[32m      4\u001b[39m plt.hist(aggregated_df[\u001b[33m'\u001b[39m\u001b[33mMonetaryValue\u001b[39m\u001b[33m'\u001b[39m], bins=\u001b[32m10\u001b[39m, color=\u001b[33m'\u001b[39m\u001b[33mskyblue\u001b[39m\u001b[33m'\u001b[39m, edgecolor=\u001b[33m'\u001b[39m\u001b[33mblack\u001b[39m\u001b[33m'\u001b[39m)\n",
      "\u001b[31mTypeError\u001b[39m: 'module' object is not callable"
     ]
    }
   ],
   "source": [
    "plt.figure(figsize=(15, 5))\n",
    "\n",
    "plt.subplot(1, 3, 1)\n",
    "plt.hist(aggregated_df['MonetaryValue'], bins=10, color='skyblue', edgecolor='black')\n",
    "plt.title('Monetary Value Distribution')\n",
    "plt.xlabel('Monetary Value')\n",
    "plt.ylabel('Count')\n",
    "\n",
    "plt.subplot(1, 3, 2)\n",
    "plt.hist(aggregated_df['Frequency'], bins=10, color='lightgreen', edgecolor='black')\n",
    "plt.title('Frequency Distribution')\n",
    "plt.xlabel('Frequency')\n",
    "plt.ylabel('Count')\n",
    "\n",
    "plt.subplot(1, 3, 3)\n",
    "plt.hist(aggregated_df['Recency'], bins=20, color='salmon', edgecolor='black')\n",
    "plt.title('Recency Distribution')\n",
    "plt.xlabel('Recency')\n",
    "plt.ylabel('Count')\n",
    "\n",
    "plt.tight_layout()\n",
    "plt.show()"
   ]
  },
  {
   "cell_type": "code",
   "execution_count": null,
   "id": "f3d95e4b",
   "metadata": {},
   "outputs": [],
   "source": [
    "plt.figure(figsize=(15, 5))\n",
    "\n",
    "plt.subplot(1, 3, 1)\n",
    "sns.boxplot(data=aggregated_df['MonetaryValue'], color='skyblue')\n",
    "plt.title('Monetary Value Boxplot')\n",
    "plt.xlabel('Monetary Value')\n",
    "\n",
    "plt.subplot(1, 3, 2)\n",
    "sns.boxplot(data=aggregated_df['Frequency'], color='lightgreen')\n",
    "plt.title('Frequency Boxplot')\n",
    "plt.xlabel('Frequency')\n",
    "\n",
    "plt.subplot(1, 3, 3)\n",
    "sns.boxplot(data=aggregated_df['Recency'], color='salmon')\n",
    "plt.title('Recency Boxplot')\n",
    "plt.xlabel('Recency')\n",
    "\n",
    "plt.tight_layout()\n",
    "plt.show()"
   ]
  },
  {
   "cell_type": "code",
   "execution_count": null,
   "id": "3e02f237",
   "metadata": {},
   "outputs": [],
   "source": [
    "M_Q1 = aggregated_df[\"MonetaryValue\"].quantile(0.25)\n",
    "M_Q3 = aggregated_df[\"MonetaryValue\"].quantile(0.75)\n",
    "M_IQR = M_Q3 - M_Q1\n",
    "\n",
    "monetary_outliers_df = aggregated_df[(aggregated_df[\"MonetaryValue\"] > (M_Q3 + 1.5 * M_IQR)) | (aggregated_df[\"MonetaryValue\"] < (M_Q1 - 1.5 * M_IQR))].copy()\n",
    "\n",
    "monetary_outliers_df.describe()"
   ]
  },
  {
   "cell_type": "code",
   "execution_count": null,
   "id": "f6c1bfca",
   "metadata": {},
   "outputs": [],
   "source": [
    "F_Q1 = aggregated_df['Frequency'].quantile(0.25)\n",
    "F_Q3 = aggregated_df['Frequency'].quantile(0.75)\n",
    "F_IQR = F_Q3 - F_Q1\n",
    "\n",
    "frequency_outliers_df = aggregated_df[(aggregated_df['Frequency'] > (F_Q3 + 1.5 * F_IQR)) | (aggregated_df['Frequency'] < (F_Q1 - 1.5 * F_IQR))].copy()\n",
    "\n",
    "frequency_outliers_df.describe()"
   ]
  },
  {
   "cell_type": "code",
   "execution_count": null,
   "id": "f2e36a13",
   "metadata": {},
   "outputs": [],
   "source": [
    "non_outliers_df = aggregated_df[(~aggregated_df.index.isin(monetary_outliers_df.index)) & (~aggregated_df.index.isin(frequency_outliers_df.index))]\n",
    "\n",
    "non_outliers_df.describe()"
   ]
  },
  {
   "cell_type": "code",
   "execution_count": null,
   "id": "1800ca65",
   "metadata": {},
   "outputs": [],
   "source": [
    "plt.figure(figsize=(15, 5))\n",
    "\n",
    "plt.subplot(1, 3, 1)\n",
    "sns.boxplot(data=non_outliers_df['MonetaryValue'], color='skyblue')\n",
    "plt.title('Monetary Value Boxplot')\n",
    "plt.xlabel('Monetary Value')\n",
    "\n",
    "plt.subplot(1, 3, 2)\n",
    "sns.boxplot(data=non_outliers_df['Frequency'], color='lightgreen')\n",
    "plt.title('Frequency Boxplot')\n",
    "plt.xlabel('Frequency')\n",
    "\n",
    "plt.subplot(1, 3, 3)\n",
    "sns.boxplot(data=non_outliers_df['Recency'], color='salmon')\n",
    "plt.title('Recency Boxplot')\n",
    "plt.xlabel('Recency')\n",
    "\n",
    "plt.tight_layout()\n",
    "plt.show()"
   ]
  },
  {
   "cell_type": "code",
   "execution_count": 81,
   "id": "61d6eea0",
   "metadata": {},
   "outputs": [
    {
     "ename": "TypeError",
     "evalue": "'module' object is not callable",
     "output_type": "error",
     "traceback": [
      "\u001b[31m---------------------------------------------------------------------------\u001b[39m",
      "\u001b[31mTypeError\u001b[39m                                 Traceback (most recent call last)",
      "\u001b[36mCell\u001b[39m\u001b[36m \u001b[39m\u001b[32mIn[81]\u001b[39m\u001b[32m, line 1\u001b[39m\n\u001b[32m----> \u001b[39m\u001b[32m1\u001b[39m fig = \u001b[43mplt\u001b[49m\u001b[43m.\u001b[49m\u001b[43mfigure\u001b[49m\u001b[43m(\u001b[49m\u001b[43mfigsize\u001b[49m\u001b[43m=\u001b[49m\u001b[43m(\u001b[49m\u001b[32;43m8\u001b[39;49m\u001b[43m,\u001b[49m\u001b[43m \u001b[49m\u001b[32;43m8\u001b[39;49m\u001b[43m)\u001b[49m\u001b[43m)\u001b[49m\n\u001b[32m      3\u001b[39m ax = fig.add_subplot(projection=\u001b[33m\"\u001b[39m\u001b[33m3d\u001b[39m\u001b[33m\"\u001b[39m)\n\u001b[32m      5\u001b[39m scatter = ax.scatter(non_outliers_df[\u001b[33m\"\u001b[39m\u001b[33mMonetaryValue\u001b[39m\u001b[33m\"\u001b[39m], non_outliers_df[\u001b[33m\"\u001b[39m\u001b[33mFrequency\u001b[39m\u001b[33m\"\u001b[39m], non_outliers_df[\u001b[33m\"\u001b[39m\u001b[33mRecency\u001b[39m\u001b[33m\"\u001b[39m])\n",
      "\u001b[31mTypeError\u001b[39m: 'module' object is not callable"
     ]
    }
   ],
   "source": [
    "fig = plt.figure(figsize=(8, 8))\n",
    "\n",
    "ax = fig.add_subplot(projection=\"3d\")\n",
    "\n",
    "scatter = ax.scatter(non_outliers_df[\"MonetaryValue\"], non_outliers_df[\"Frequency\"], non_outliers_df[\"Recency\"])\n",
    "\n",
    "ax.set_xlabel('Monetary Value')\n",
    "ax.set_ylabel('Frequency')\n",
    "ax.set_zlabel('Recency')\n",
    "\n",
    "ax.set_title('3D Scatter Plot of Customer Data')\n",
    "\n",
    "plt.show()"
   ]
  },
  {
   "cell_type": "markdown",
   "id": "61b9fcce",
   "metadata": {},
   "source": [
    "Standard scaling transforms the features of your data to have a mean of 0 and a standard deviation of 1, ensuring that each feature contributes equally to the analysis.\n",
    "\n",
    " \n",
    "\n",
    "Where:\n",
    "\n",
    " is the standardized value,\n",
    " is the original value,\n",
    " is the mean of the feature,\n",
    " is the standard deviation of the feature."
   ]
  },
  {
   "cell_type": "code",
   "execution_count": 3,
   "id": "49e20a52",
   "metadata": {},
   "outputs": [
    {
     "ename": "NameError",
     "evalue": "name 'StandardScaler' is not defined",
     "output_type": "error",
     "traceback": [
      "\u001b[31m---------------------------------------------------------------------------\u001b[39m",
      "\u001b[31mNameError\u001b[39m                                 Traceback (most recent call last)",
      "\u001b[36mCell\u001b[39m\u001b[36m \u001b[39m\u001b[32mIn[3]\u001b[39m\u001b[32m, line 1\u001b[39m\n\u001b[32m----> \u001b[39m\u001b[32m1\u001b[39m scaler = \u001b[43mStandardScaler\u001b[49m()\n\u001b[32m      3\u001b[39m scaled_data = scaler.fit_transform(non_outliers_df[[\u001b[33m\"\u001b[39m\u001b[33mMonetaryValue\u001b[39m\u001b[33m\"\u001b[39m, \u001b[33m\"\u001b[39m\u001b[33mFrequency\u001b[39m\u001b[33m\"\u001b[39m, \u001b[33m\"\u001b[39m\u001b[33mRecency\u001b[39m\u001b[33m\"\u001b[39m]])\n\u001b[32m      5\u001b[39m scaled_data\n",
      "\u001b[31mNameError\u001b[39m: name 'StandardScaler' is not defined"
     ]
    }
   ],
   "source": [
    "scaler = StandardScaler()\n",
    "\n",
    "scaled_data = scaler.fit_transform(non_outliers_df[[\"MonetaryValue\", \"Frequency\", \"Recency\"]])\n",
    "\n",
    "scaled_data"
   ]
  },
  {
   "cell_type": "code",
   "execution_count": 4,
   "id": "c88a7072",
   "metadata": {},
   "outputs": [
    {
     "ename": "NameError",
     "evalue": "name 'pd' is not defined",
     "output_type": "error",
     "traceback": [
      "\u001b[31m---------------------------------------------------------------------------\u001b[39m",
      "\u001b[31mNameError\u001b[39m                                 Traceback (most recent call last)",
      "\u001b[36mCell\u001b[39m\u001b[36m \u001b[39m\u001b[32mIn[4]\u001b[39m\u001b[32m, line 1\u001b[39m\n\u001b[32m----> \u001b[39m\u001b[32m1\u001b[39m scaled_data_df = \u001b[43mpd\u001b[49m.DataFrame(scaled_data, index=non_outliers_df.index, columns=(\u001b[33m\"\u001b[39m\u001b[33mMonetaryValue\u001b[39m\u001b[33m\"\u001b[39m, \u001b[33m\"\u001b[39m\u001b[33mFrequency\u001b[39m\u001b[33m\"\u001b[39m, \u001b[33m\"\u001b[39m\u001b[33mRecency\u001b[39m\u001b[33m\"\u001b[39m))\n\u001b[32m      3\u001b[39m scaled_data_df\n",
      "\u001b[31mNameError\u001b[39m: name 'pd' is not defined"
     ]
    }
   ],
   "source": [
    "scaled_data_df = pd.DataFrame(scaled_data, index=non_outliers_df.index, columns=(\"MonetaryValue\", \"Frequency\", \"Recency\"))\n",
    "\n",
    "scaled_data_df"
   ]
  },
  {
   "cell_type": "code",
   "execution_count": 5,
   "id": "620be566",
   "metadata": {},
   "outputs": [
    {
     "ename": "AttributeError",
     "evalue": "module 'matplotlib' has no attribute 'figure'",
     "output_type": "error",
     "traceback": [
      "\u001b[31m---------------------------------------------------------------------------\u001b[39m",
      "\u001b[31mAttributeError\u001b[39m                            Traceback (most recent call last)",
      "\u001b[36mCell\u001b[39m\u001b[36m \u001b[39m\u001b[32mIn[5]\u001b[39m\u001b[32m, line 1\u001b[39m\n\u001b[32m----> \u001b[39m\u001b[32m1\u001b[39m fig = \u001b[43mplt\u001b[49m\u001b[43m.\u001b[49m\u001b[43mfigure\u001b[49m(figsize=(\u001b[32m8\u001b[39m, \u001b[32m8\u001b[39m))\n\u001b[32m      3\u001b[39m ax = fig.add_subplot(projection=\u001b[33m\"\u001b[39m\u001b[33m3d\u001b[39m\u001b[33m\"\u001b[39m)\n\u001b[32m      5\u001b[39m scatter = ax.scatter(scaled_data_df[\u001b[33m\"\u001b[39m\u001b[33mMonetaryValue\u001b[39m\u001b[33m\"\u001b[39m], scaled_data_df[\u001b[33m\"\u001b[39m\u001b[33mFrequency\u001b[39m\u001b[33m\"\u001b[39m], scaled_data_df[\u001b[33m\"\u001b[39m\u001b[33mRecency\u001b[39m\u001b[33m\"\u001b[39m])\n",
      "\u001b[36mFile \u001b[39m\u001b[32m~/Desktop/hands_on/myenv/lib/python3.12/site-packages/matplotlib/_api/__init__.py:218\u001b[39m, in \u001b[36mcaching_module_getattr.<locals>.__getattr__\u001b[39m\u001b[34m(name)\u001b[39m\n\u001b[32m    216\u001b[39m \u001b[38;5;28;01mif\u001b[39;00m name \u001b[38;5;129;01min\u001b[39;00m props:\n\u001b[32m    217\u001b[39m     \u001b[38;5;28;01mreturn\u001b[39;00m props[name].\u001b[34m__get__\u001b[39m(instance)\n\u001b[32m--> \u001b[39m\u001b[32m218\u001b[39m \u001b[38;5;28;01mraise\u001b[39;00m \u001b[38;5;167;01mAttributeError\u001b[39;00m(\n\u001b[32m    219\u001b[39m     \u001b[33mf\u001b[39m\u001b[33m\"\u001b[39m\u001b[33mmodule \u001b[39m\u001b[38;5;132;01m{\u001b[39;00m\u001b[38;5;28mcls\u001b[39m.\u001b[34m__module__\u001b[39m\u001b[38;5;132;01m!r}\u001b[39;00m\u001b[33m has no attribute \u001b[39m\u001b[38;5;132;01m{\u001b[39;00mname\u001b[38;5;132;01m!r}\u001b[39;00m\u001b[33m\"\u001b[39m)\n",
      "\u001b[31mAttributeError\u001b[39m: module 'matplotlib' has no attribute 'figure'"
     ]
    }
   ],
   "source": [
    "fig = plt.figure(figsize=(8, 8))\n",
    "\n",
    "ax = fig.add_subplot(projection=\"3d\")\n",
    "\n",
    "scatter = ax.scatter(scaled_data_df[\"MonetaryValue\"], scaled_data_df[\"Frequency\"], scaled_data_df[\"Recency\"])\n",
    "\n",
    "ax.set_xlabel('Monetary Value')\n",
    "ax.set_ylabel('Frequency')\n",
    "ax.set_zlabel('Recency')\n",
    "\n",
    "ax.set_title('3D Scatter Plot of Customer Data')\n",
    "\n",
    "plt.show()"
   ]
  },
  {
   "cell_type": "markdown",
   "id": "f5e24493",
   "metadata": {},
   "source": [
    "K MEANS CLUSTERING"
   ]
  },
  {
   "cell_type": "code",
   "execution_count": 6,
   "id": "2019906b",
   "metadata": {},
   "outputs": [
    {
     "ename": "NameError",
     "evalue": "name 'KMeans' is not defined",
     "output_type": "error",
     "traceback": [
      "\u001b[31m---------------------------------------------------------------------------\u001b[39m",
      "\u001b[31mNameError\u001b[39m                                 Traceback (most recent call last)",
      "\u001b[36mCell\u001b[39m\u001b[36m \u001b[39m\u001b[32mIn[6]\u001b[39m\u001b[32m, line 9\u001b[39m\n\u001b[32m      5\u001b[39m k_values = \u001b[38;5;28mrange\u001b[39m(\u001b[32m2\u001b[39m, max_k + \u001b[32m1\u001b[39m)\n\u001b[32m      7\u001b[39m \u001b[38;5;28;01mfor\u001b[39;00m k \u001b[38;5;129;01min\u001b[39;00m k_values:\n\u001b[32m----> \u001b[39m\u001b[32m9\u001b[39m     kmeans = \u001b[43mKMeans\u001b[49m(n_clusters=k, random_state=\u001b[32m42\u001b[39m, max_iter=\u001b[32m1000\u001b[39m)\n\u001b[32m     11\u001b[39m     cluster_labels = kmeans.fit_predict(scaled_data_df)\n\u001b[32m     13\u001b[39m     sil_score = silhouette_score(scaled_data_df, cluster_labels)\n",
      "\u001b[31mNameError\u001b[39m: name 'KMeans' is not defined"
     ]
    }
   ],
   "source": [
    "max_k = 12\n",
    "\n",
    "inertia = []\n",
    "silhoutte_scores = []\n",
    "k_values = range(2, max_k + 1)\n",
    "\n",
    "for k in k_values:\n",
    "\n",
    "    kmeans = KMeans(n_clusters=k, random_state=42, max_iter=1000)\n",
    "\n",
    "    cluster_labels = kmeans.fit_predict(scaled_data_df)\n",
    "\n",
    "    sil_score = silhouette_score(scaled_data_df, cluster_labels)\n",
    "\n",
    "    silhoutte_scores.append(sil_score)\n",
    "\n",
    "    inertia.append(kmeans.inertia_)\n",
    "\n",
    "plt.figure(figsize=(14, 6))\n",
    "\n",
    "plt.subplot(1, 2, 1)\n",
    "plt.plot(k_values, inertia, marker='o')\n",
    "plt.title('KMeans Inertia for Different Values of k')\n",
    "plt.xlabel('Number of Clusters (k)')\n",
    "plt.ylabel('Inertia')\n",
    "plt.xticks(k_values)\n",
    "plt.grid(True)\n",
    "\n",
    "plt.subplot(1, 2, 2)\n",
    "plt.plot(k_values, silhoutte_scores, marker='o', color='orange')\n",
    "plt.title('Silhouette Scores for Different Values of k')\n",
    "plt.xlabel('Number of Clusters (k)')\n",
    "plt.ylabel('Silhouette Score')\n",
    "plt.xticks(k_values)\n",
    "plt.grid(True)\n",
    "\n",
    "plt.tight_layout()\n",
    "plt.show()"
   ]
  },
  {
   "cell_type": "code",
   "execution_count": 7,
   "id": "02bae194",
   "metadata": {},
   "outputs": [
    {
     "ename": "NameError",
     "evalue": "name 'KMeans' is not defined",
     "output_type": "error",
     "traceback": [
      "\u001b[31m---------------------------------------------------------------------------\u001b[39m",
      "\u001b[31mNameError\u001b[39m                                 Traceback (most recent call last)",
      "\u001b[36mCell\u001b[39m\u001b[36m \u001b[39m\u001b[32mIn[7]\u001b[39m\u001b[32m, line 1\u001b[39m\n\u001b[32m----> \u001b[39m\u001b[32m1\u001b[39m kmeans = \u001b[43mKMeans\u001b[49m(n_clusters=\u001b[32m4\u001b[39m, random_state=\u001b[32m42\u001b[39m, max_iter=\u001b[32m1000\u001b[39m)\n\u001b[32m      3\u001b[39m cluster_labels = kmeans.fit_predict(scaled_data_df)\n\u001b[32m      5\u001b[39m cluster_labels\n",
      "\u001b[31mNameError\u001b[39m: name 'KMeans' is not defined"
     ]
    }
   ],
   "source": [
    "kmeans = KMeans(n_clusters=4, random_state=42, max_iter=1000)\n",
    "\n",
    "cluster_labels = kmeans.fit_predict(scaled_data_df)\n",
    "\n",
    "cluster_labels"
   ]
  },
  {
   "cell_type": "code",
   "execution_count": 8,
   "id": "c117b8de",
   "metadata": {},
   "outputs": [
    {
     "ename": "NameError",
     "evalue": "name 'cluster_labels' is not defined",
     "output_type": "error",
     "traceback": [
      "\u001b[31m---------------------------------------------------------------------------\u001b[39m",
      "\u001b[31mNameError\u001b[39m                                 Traceback (most recent call last)",
      "\u001b[36mCell\u001b[39m\u001b[36m \u001b[39m\u001b[32mIn[8]\u001b[39m\u001b[32m, line 1\u001b[39m\n\u001b[32m----> \u001b[39m\u001b[32m1\u001b[39m non_outliers_df[\u001b[33m\"\u001b[39m\u001b[33mCluster\u001b[39m\u001b[33m\"\u001b[39m] = \u001b[43mcluster_labels\u001b[49m\n\u001b[32m      3\u001b[39m non_outliers_df\n",
      "\u001b[31mNameError\u001b[39m: name 'cluster_labels' is not defined"
     ]
    }
   ],
   "source": [
    "non_outliers_df[\"Cluster\"] = cluster_labels\n",
    "\n",
    "non_outliers_df"
   ]
  },
  {
   "cell_type": "code",
   "execution_count": 9,
   "id": "6fe73a72",
   "metadata": {},
   "outputs": [
    {
     "ename": "NameError",
     "evalue": "name 'non_outliers_df' is not defined",
     "output_type": "error",
     "traceback": [
      "\u001b[31m---------------------------------------------------------------------------\u001b[39m",
      "\u001b[31mNameError\u001b[39m                                 Traceback (most recent call last)",
      "\u001b[36mCell\u001b[39m\u001b[36m \u001b[39m\u001b[32mIn[9]\u001b[39m\u001b[32m, line 6\u001b[39m\n\u001b[32m      1\u001b[39m cluster_colors = {\u001b[32m0\u001b[39m: \u001b[33m'\u001b[39m\u001b[33m#1f77b4\u001b[39m\u001b[33m'\u001b[39m,  \u001b[38;5;66;03m# Blue\u001b[39;00m\n\u001b[32m      2\u001b[39m                   \u001b[32m1\u001b[39m: \u001b[33m'\u001b[39m\u001b[33m#ff7f0e\u001b[39m\u001b[33m'\u001b[39m,  \u001b[38;5;66;03m# Orange\u001b[39;00m\n\u001b[32m      3\u001b[39m                   \u001b[32m2\u001b[39m: \u001b[33m'\u001b[39m\u001b[33m#2ca02c\u001b[39m\u001b[33m'\u001b[39m,  \u001b[38;5;66;03m# Green\u001b[39;00m\n\u001b[32m      4\u001b[39m                   \u001b[32m3\u001b[39m: \u001b[33m'\u001b[39m\u001b[33m#d62728\u001b[39m\u001b[33m'\u001b[39m}  \u001b[38;5;66;03m# Red\u001b[39;00m\n\u001b[32m----> \u001b[39m\u001b[32m6\u001b[39m colors = \u001b[43mnon_outliers_df\u001b[49m[\u001b[33m'\u001b[39m\u001b[33mCluster\u001b[39m\u001b[33m'\u001b[39m].map(cluster_colors)\n\u001b[32m      8\u001b[39m fig = plt.figure(figsize=(\u001b[32m10\u001b[39m, \u001b[32m10\u001b[39m))\n\u001b[32m      9\u001b[39m ax = fig.add_subplot(projection=\u001b[33m'\u001b[39m\u001b[33m3d\u001b[39m\u001b[33m'\u001b[39m)\n",
      "\u001b[31mNameError\u001b[39m: name 'non_outliers_df' is not defined"
     ]
    }
   ],
   "source": [
    "cluster_colors = {0: '#1f77b4',  # Blue\n",
    "                  1: '#ff7f0e',  # Orange\n",
    "                  2: '#2ca02c',  # Green\n",
    "                  3: '#d62728'}  # Red\n",
    "\n",
    "colors = non_outliers_df['Cluster'].map(cluster_colors)\n",
    "\n",
    "fig = plt.figure(figsize=(10, 10))\n",
    "ax = fig.add_subplot(projection='3d')\n",
    "\n",
    "scatter = ax.scatter(non_outliers_df['MonetaryValue'], \n",
    "                     non_outliers_df['Frequency'], \n",
    "                     non_outliers_df['Recency'], \n",
    "                     c=colors,  # Use mapped solid colors\n",
    "                     marker='o')\n",
    "\n",
    "ax.set_xlabel('Monetary Value')\n",
    "ax.set_ylabel('Frequency')\n",
    "ax.set_zlabel('Recency')\n",
    "\n",
    "ax.set_title('3D Scatter Plot of Customer Data by Cluster')\n",
    "\n",
    "plt.show()"
   ]
  },
  {
   "cell_type": "code",
   "execution_count": 10,
   "id": "58b6d69f",
   "metadata": {},
   "outputs": [
    {
     "ename": "AttributeError",
     "evalue": "module 'matplotlib' has no attribute 'figure'",
     "output_type": "error",
     "traceback": [
      "\u001b[31m---------------------------------------------------------------------------\u001b[39m",
      "\u001b[31mAttributeError\u001b[39m                            Traceback (most recent call last)",
      "\u001b[36mCell\u001b[39m\u001b[36m \u001b[39m\u001b[32mIn[10]\u001b[39m\u001b[32m, line 1\u001b[39m\n\u001b[32m----> \u001b[39m\u001b[32m1\u001b[39m \u001b[43mplt\u001b[49m\u001b[43m.\u001b[49m\u001b[43mfigure\u001b[49m(figsize=(\u001b[32m12\u001b[39m, \u001b[32m18\u001b[39m))\n\u001b[32m      3\u001b[39m plt.subplot(\u001b[32m3\u001b[39m, \u001b[32m1\u001b[39m, \u001b[32m1\u001b[39m)\n\u001b[32m      4\u001b[39m sns.violinplot(x=non_outliers_df[\u001b[33m'\u001b[39m\u001b[33mCluster\u001b[39m\u001b[33m'\u001b[39m], y=non_outliers_df[\u001b[33m'\u001b[39m\u001b[33mMonetaryValue\u001b[39m\u001b[33m'\u001b[39m], palette=cluster_colors, hue=non_outliers_df[\u001b[33m\"\u001b[39m\u001b[33mCluster\u001b[39m\u001b[33m\"\u001b[39m])\n",
      "\u001b[36mFile \u001b[39m\u001b[32m~/Desktop/hands_on/myenv/lib/python3.12/site-packages/matplotlib/_api/__init__.py:218\u001b[39m, in \u001b[36mcaching_module_getattr.<locals>.__getattr__\u001b[39m\u001b[34m(name)\u001b[39m\n\u001b[32m    216\u001b[39m \u001b[38;5;28;01mif\u001b[39;00m name \u001b[38;5;129;01min\u001b[39;00m props:\n\u001b[32m    217\u001b[39m     \u001b[38;5;28;01mreturn\u001b[39;00m props[name].\u001b[34m__get__\u001b[39m(instance)\n\u001b[32m--> \u001b[39m\u001b[32m218\u001b[39m \u001b[38;5;28;01mraise\u001b[39;00m \u001b[38;5;167;01mAttributeError\u001b[39;00m(\n\u001b[32m    219\u001b[39m     \u001b[33mf\u001b[39m\u001b[33m\"\u001b[39m\u001b[33mmodule \u001b[39m\u001b[38;5;132;01m{\u001b[39;00m\u001b[38;5;28mcls\u001b[39m.\u001b[34m__module__\u001b[39m\u001b[38;5;132;01m!r}\u001b[39;00m\u001b[33m has no attribute \u001b[39m\u001b[38;5;132;01m{\u001b[39;00mname\u001b[38;5;132;01m!r}\u001b[39;00m\u001b[33m\"\u001b[39m)\n",
      "\u001b[31mAttributeError\u001b[39m: module 'matplotlib' has no attribute 'figure'"
     ]
    }
   ],
   "source": [
    "plt.figure(figsize=(12, 18))\n",
    "\n",
    "plt.subplot(3, 1, 1)\n",
    "sns.violinplot(x=non_outliers_df['Cluster'], y=non_outliers_df['MonetaryValue'], palette=cluster_colors, hue=non_outliers_df[\"Cluster\"])\n",
    "sns.violinplot(y=non_outliers_df['MonetaryValue'], color='gray', linewidth=1.0)\n",
    "plt.title('Monetary Value by Cluster')\n",
    "plt.ylabel('Monetary Value')\n",
    "\n",
    "plt.subplot(3, 1, 2)\n",
    "sns.violinplot(x=non_outliers_df['Cluster'], y=non_outliers_df['Frequency'], palette=cluster_colors, hue=non_outliers_df[\"Cluster\"])\n",
    "sns.violinplot(y=non_outliers_df['Frequency'], color='gray', linewidth=1.0)\n",
    "plt.title('Frequency by Cluster')\n",
    "plt.ylabel('Frequency')\n",
    "\n",
    "\n",
    "plt.subplot(3, 1, 3)\n",
    "sns.violinplot(x=non_outliers_df['Cluster'], y=non_outliers_df['Recency'], palette=cluster_colors, hue=non_outliers_df[\"Cluster\"])\n",
    "sns.violinplot(y=non_outliers_df['Recency'], color='gray', linewidth=1.0)\n",
    "plt.title('Recency by Cluster')\n",
    "plt.ylabel('Recency')\n",
    "\n",
    "plt.tight_layout()\n",
    "plt.show()"
   ]
  },
  {
   "cell_type": "markdown",
   "id": "4d8278ca",
   "metadata": {},
   "source": [
    "Cluster 0 (Blue): \"Retain\"\n",
    "Rationale: This cluster represents high-value customers who purchase regularly, though not always very recently. The focus should be on retention efforts to maintain their loyalty and spending levels.\n",
    "Action: Implement loyalty programs, personalized offers, and regular engagement to ensure they remain active.\n",
    "Cluster 1 (Orange): \"Re-Engage\"\n",
    "Rationale: This group includes lower-value, infrequent buyers who haven’t purchased recently. The focus should be on re-engagement to bring them back into active purchasing behavior.\n",
    "Action: Use targeted marketing campaigns, special discounts, or reminders to encourage them to return and purchase again.\n",
    "Cluster 2 (Green): \"Nurture\"\n",
    "Rationale: This cluster represents the least active and lowest-value customers, but they have made recent purchases. These customers may be new or need nurturing to increase their engagement and spending.\n",
    "Action: Focus on building relationships, providing excellent customer service, and offering incentives to encourage more frequent purchases.\n",
    "Cluster 3 (Red): \"Reward\"\n",
    "Rationale: This cluster includes high-value, very frequent buyers, many of whom are still actively purchasing. They are your most loyal customers, and rewarding their loyalty is key to maintaining their engagement.\n",
    "Action: Implement a robust loyalty program, provide exclusive offers, and recognize their loyalty to keep them engaged and satisfied.\n",
    "Summary of Cluster Names:\n",
    "\n",
    "Cluster 0 (Blue): \"Retain\"\n",
    "Cluster 1 (Orange): \"Re-Engage\"\n",
    "Cluster 2 (Green): \"Nurture\"\n",
    "Cluster 3 (Red): \"Reward\""
   ]
  },
  {
   "cell_type": "code",
   "execution_count": 11,
   "id": "76517622",
   "metadata": {},
   "outputs": [
    {
     "ename": "NameError",
     "evalue": "name 'monetary_outliers_df' is not defined",
     "output_type": "error",
     "traceback": [
      "\u001b[31m---------------------------------------------------------------------------\u001b[39m",
      "\u001b[31mNameError\u001b[39m                                 Traceback (most recent call last)",
      "\u001b[36mCell\u001b[39m\u001b[36m \u001b[39m\u001b[32mIn[11]\u001b[39m\u001b[32m, line 1\u001b[39m\n\u001b[32m----> \u001b[39m\u001b[32m1\u001b[39m overlap_indices = \u001b[43mmonetary_outliers_df\u001b[49m.index.intersection(frequency_outliers_df.index)\n\u001b[32m      3\u001b[39m monetary_only_outliers = monetary_outliers_df.drop(overlap_indices)\n\u001b[32m      4\u001b[39m frequency_only_outliers = frequency_outliers_df.drop(overlap_indices)\n",
      "\u001b[31mNameError\u001b[39m: name 'monetary_outliers_df' is not defined"
     ]
    }
   ],
   "source": [
    "overlap_indices = monetary_outliers_df.index.intersection(frequency_outliers_df.index)\n",
    "\n",
    "monetary_only_outliers = monetary_outliers_df.drop(overlap_indices)\n",
    "frequency_only_outliers = frequency_outliers_df.drop(overlap_indices)\n",
    "monetary_and_frequency_outliers = monetary_outliers_df.loc[overlap_indices]\n",
    "\n",
    "monetary_only_outliers[\"Cluster\"] = -1\n",
    "frequency_only_outliers[\"Cluster\"] = -2\n",
    "monetary_and_frequency_outliers[\"Cluster\"] = -3\n",
    "\n",
    "outlier_clusters_df = pd.concat([monetary_only_outliers, frequency_only_outliers, monetary_and_frequency_outliers])\n",
    "\n",
    "outlier_clusters_df"
   ]
  },
  {
   "cell_type": "code",
   "execution_count": 12,
   "id": "ea7a666a",
   "metadata": {},
   "outputs": [
    {
     "ename": "AttributeError",
     "evalue": "module 'matplotlib' has no attribute 'figure'",
     "output_type": "error",
     "traceback": [
      "\u001b[31m---------------------------------------------------------------------------\u001b[39m",
      "\u001b[31mAttributeError\u001b[39m                            Traceback (most recent call last)",
      "\u001b[36mCell\u001b[39m\u001b[36m \u001b[39m\u001b[32mIn[12]\u001b[39m\u001b[32m, line 5\u001b[39m\n\u001b[32m      1\u001b[39m cluster_colors = {-\u001b[32m1\u001b[39m: \u001b[33m'\u001b[39m\u001b[33m#9467bd\u001b[39m\u001b[33m'\u001b[39m,\n\u001b[32m      2\u001b[39m                   -\u001b[32m2\u001b[39m: \u001b[33m'\u001b[39m\u001b[33m#8c564b\u001b[39m\u001b[33m'\u001b[39m,\n\u001b[32m      3\u001b[39m                   -\u001b[32m3\u001b[39m: \u001b[33m'\u001b[39m\u001b[33m#e377c2\u001b[39m\u001b[33m'\u001b[39m}\n\u001b[32m----> \u001b[39m\u001b[32m5\u001b[39m \u001b[43mplt\u001b[49m\u001b[43m.\u001b[49m\u001b[43mfigure\u001b[49m(figsize=(\u001b[32m12\u001b[39m, \u001b[32m18\u001b[39m))\n\u001b[32m      7\u001b[39m plt.subplot(\u001b[32m3\u001b[39m, \u001b[32m1\u001b[39m, \u001b[32m1\u001b[39m)\n\u001b[32m      8\u001b[39m sns.violinplot(x=outlier_clusters_df[\u001b[33m'\u001b[39m\u001b[33mCluster\u001b[39m\u001b[33m'\u001b[39m], y=outlier_clusters_df[\u001b[33m'\u001b[39m\u001b[33mMonetaryValue\u001b[39m\u001b[33m'\u001b[39m], palette=cluster_colors, hue=outlier_clusters_df[\u001b[33m\"\u001b[39m\u001b[33mCluster\u001b[39m\u001b[33m\"\u001b[39m])\n",
      "\u001b[36mFile \u001b[39m\u001b[32m~/Desktop/hands_on/myenv/lib/python3.12/site-packages/matplotlib/_api/__init__.py:218\u001b[39m, in \u001b[36mcaching_module_getattr.<locals>.__getattr__\u001b[39m\u001b[34m(name)\u001b[39m\n\u001b[32m    216\u001b[39m \u001b[38;5;28;01mif\u001b[39;00m name \u001b[38;5;129;01min\u001b[39;00m props:\n\u001b[32m    217\u001b[39m     \u001b[38;5;28;01mreturn\u001b[39;00m props[name].\u001b[34m__get__\u001b[39m(instance)\n\u001b[32m--> \u001b[39m\u001b[32m218\u001b[39m \u001b[38;5;28;01mraise\u001b[39;00m \u001b[38;5;167;01mAttributeError\u001b[39;00m(\n\u001b[32m    219\u001b[39m     \u001b[33mf\u001b[39m\u001b[33m\"\u001b[39m\u001b[33mmodule \u001b[39m\u001b[38;5;132;01m{\u001b[39;00m\u001b[38;5;28mcls\u001b[39m.\u001b[34m__module__\u001b[39m\u001b[38;5;132;01m!r}\u001b[39;00m\u001b[33m has no attribute \u001b[39m\u001b[38;5;132;01m{\u001b[39;00mname\u001b[38;5;132;01m!r}\u001b[39;00m\u001b[33m\"\u001b[39m)\n",
      "\u001b[31mAttributeError\u001b[39m: module 'matplotlib' has no attribute 'figure'"
     ]
    }
   ],
   "source": [
    "cluster_colors = {-1: '#9467bd',\n",
    "                  -2: '#8c564b',\n",
    "                  -3: '#e377c2'}\n",
    "\n",
    "plt.figure(figsize=(12, 18))\n",
    "\n",
    "plt.subplot(3, 1, 1)\n",
    "sns.violinplot(x=outlier_clusters_df['Cluster'], y=outlier_clusters_df['MonetaryValue'], palette=cluster_colors, hue=outlier_clusters_df[\"Cluster\"])\n",
    "sns.violinplot(y=outlier_clusters_df['MonetaryValue'], color='gray', linewidth=1.0)\n",
    "plt.title('Monetary Value by Cluster')\n",
    "plt.ylabel('Monetary Value')\n",
    "\n",
    "plt.subplot(3, 1, 2)\n",
    "sns.violinplot(x=outlier_clusters_df['Cluster'], y=outlier_clusters_df['Frequency'], palette=cluster_colors, hue=outlier_clusters_df[\"Cluster\"])\n",
    "sns.violinplot(y=outlier_clusters_df['Frequency'], color='gray', linewidth=1.0)\n",
    "plt.title('Frequency by Cluster')\n",
    "plt.ylabel('Frequency')\n",
    "\n",
    "plt.subplot(3, 1, 3)\n",
    "sns.violinplot(x=outlier_clusters_df['Cluster'], y=outlier_clusters_df['Recency'], palette=cluster_colors, hue=outlier_clusters_df[\"Cluster\"])\n",
    "sns.violinplot(y=outlier_clusters_df['Recency'], color='gray', linewidth=1.0)\n",
    "plt.title('Recency by Cluster')\n",
    "plt.ylabel('Recency')\n",
    "\n",
    "plt.tight_layout()\n",
    "plt.show()"
   ]
  },
  {
   "cell_type": "markdown",
   "id": "0d31d8da",
   "metadata": {},
   "source": [
    "Cluster -1 (Monetary Outliers) PAMPER: Characteristics: High spenders but not necessarily frequent buyers. Their purchases are large but infrequent. Potential Strategy: Focus on maintaining their loyalty with personalized offers or luxury services that cater to their high spending capacity.\n",
    "\n",
    "Cluster -2 (Frequency Outliers) UPSELL: Characteristics: Frequent buyers who spend less per purchase. These customers are consistently engaged but might benefit from upselling opportunities. Potential Strategy: Implement loyalty programs or bundle deals to encourage higher spending per visit, given their frequent engagement.\n",
    "\n",
    "Cluster -3 (Monetary & Frequency Outliers) DELIGHT: Characteristics: The most valuable outliers, with extreme spending and frequent purchases. They are likely your top-tier customers who require special attention. Potential Strategy: Develop VIP programs or exclusive offers to maintain their loyalty and encourage continued engagement."
   ]
  },
  {
   "cell_type": "code",
   "execution_count": 13,
   "id": "091b180b",
   "metadata": {},
   "outputs": [],
   "source": [
    "cluster_labels = {\n",
    "    0: \"RETAIN\",\n",
    "    1: \"RE-ENGAGE\",\n",
    "    2: \"NURTURE\",\n",
    "    3: \"REWARD\",\n",
    "    -1: \"PAMPER\",\n",
    "    -2: \"UPSELL\",\n",
    "    -3: \"DELIGHT\"\n",
    "}"
   ]
  },
  {
   "cell_type": "code",
   "execution_count": 14,
   "id": "d8285eb7",
   "metadata": {},
   "outputs": [
    {
     "ename": "NameError",
     "evalue": "name 'pd' is not defined",
     "output_type": "error",
     "traceback": [
      "\u001b[31m---------------------------------------------------------------------------\u001b[39m",
      "\u001b[31mNameError\u001b[39m                                 Traceback (most recent call last)",
      "\u001b[36mCell\u001b[39m\u001b[36m \u001b[39m\u001b[32mIn[14]\u001b[39m\u001b[32m, line 1\u001b[39m\n\u001b[32m----> \u001b[39m\u001b[32m1\u001b[39m full_clustering_df = \u001b[43mpd\u001b[49m.concat([non_outliers_df, outlier_clusters_df])\n\u001b[32m      3\u001b[39m full_clustering_df\n",
      "\u001b[31mNameError\u001b[39m: name 'pd' is not defined"
     ]
    }
   ],
   "source": [
    "full_clustering_df = pd.concat([non_outliers_df, outlier_clusters_df])\n",
    "\n",
    "full_clustering_df"
   ]
  },
  {
   "cell_type": "code",
   "execution_count": 15,
   "id": "27d5a032",
   "metadata": {},
   "outputs": [
    {
     "ename": "NameError",
     "evalue": "name 'full_clustering_df' is not defined",
     "output_type": "error",
     "traceback": [
      "\u001b[31m---------------------------------------------------------------------------\u001b[39m",
      "\u001b[31mNameError\u001b[39m                                 Traceback (most recent call last)",
      "\u001b[36mCell\u001b[39m\u001b[36m \u001b[39m\u001b[32mIn[15]\u001b[39m\u001b[32m, line 1\u001b[39m\n\u001b[32m----> \u001b[39m\u001b[32m1\u001b[39m full_clustering_df[\u001b[33m\"\u001b[39m\u001b[33mClusterLabel\u001b[39m\u001b[33m\"\u001b[39m] = \u001b[43mfull_clustering_df\u001b[49m[\u001b[33m\"\u001b[39m\u001b[33mCluster\u001b[39m\u001b[33m\"\u001b[39m].map(cluster_labels)\n\u001b[32m      3\u001b[39m full_clustering_df\n",
      "\u001b[31mNameError\u001b[39m: name 'full_clustering_df' is not defined"
     ]
    }
   ],
   "source": [
    "full_clustering_df[\"ClusterLabel\"] = full_clustering_df[\"Cluster\"].map(cluster_labels)\n",
    "\n",
    "full_clustering_df"
   ]
  },
  {
   "cell_type": "markdown",
   "id": "9c59f62c",
   "metadata": {},
   "source": [
    "VISUALIZATION"
   ]
  },
  {
   "cell_type": "code",
   "execution_count": 16,
   "id": "2b4f2c19",
   "metadata": {},
   "outputs": [
    {
     "ename": "NameError",
     "evalue": "name 'full_clustering_df' is not defined",
     "output_type": "error",
     "traceback": [
      "\u001b[31m---------------------------------------------------------------------------\u001b[39m",
      "\u001b[31mNameError\u001b[39m                                 Traceback (most recent call last)",
      "\u001b[36mCell\u001b[39m\u001b[36m \u001b[39m\u001b[32mIn[16]\u001b[39m\u001b[32m, line 1\u001b[39m\n\u001b[32m----> \u001b[39m\u001b[32m1\u001b[39m cluster_counts = \u001b[43mfull_clustering_df\u001b[49m[\u001b[33m'\u001b[39m\u001b[33mClusterLabel\u001b[39m\u001b[33m'\u001b[39m].value_counts()\n\u001b[32m      2\u001b[39m full_clustering_df[\u001b[33m\"\u001b[39m\u001b[33mMonetaryValue per 100 pounds\u001b[39m\u001b[33m\"\u001b[39m] = full_clustering_df[\u001b[33m\"\u001b[39m\u001b[33mMonetaryValue\u001b[39m\u001b[33m\"\u001b[39m] / \u001b[32m100.00\u001b[39m\n\u001b[32m      3\u001b[39m feature_means = full_clustering_df.groupby(\u001b[33m'\u001b[39m\u001b[33mClusterLabel\u001b[39m\u001b[33m'\u001b[39m)[[\u001b[33m'\u001b[39m\u001b[33mRecency\u001b[39m\u001b[33m'\u001b[39m, \u001b[33m'\u001b[39m\u001b[33mFrequency\u001b[39m\u001b[33m'\u001b[39m, \u001b[33m'\u001b[39m\u001b[33mMonetaryValue per 100 pounds\u001b[39m\u001b[33m'\u001b[39m]].mean()\n",
      "\u001b[31mNameError\u001b[39m: name 'full_clustering_df' is not defined"
     ]
    }
   ],
   "source": [
    "cluster_counts = full_clustering_df['ClusterLabel'].value_counts()\n",
    "full_clustering_df[\"MonetaryValue per 100 pounds\"] = full_clustering_df[\"MonetaryValue\"] / 100.00\n",
    "feature_means = full_clustering_df.groupby('ClusterLabel')[['Recency', 'Frequency', 'MonetaryValue per 100 pounds']].mean()\n",
    "\n",
    "fig, ax1 = plt.subplots(figsize=(12, 8))\n",
    "\n",
    "sns.barplot(x=cluster_counts.index, y=cluster_counts.values, ax=ax1, palette='viridis', hue=cluster_counts.index)\n",
    "ax1.set_ylabel('Number of Customers', color='b')\n",
    "ax1.set_title('Cluster Distribution with Average Feature Values')\n",
    "\n",
    "ax2 = ax1.twinx()\n",
    "\n",
    "sns.lineplot(data=feature_means, ax=ax2, palette='Set2', marker='o')\n",
    "ax2.set_ylabel('Average Value', color='g')\n",
    "\n",
    "plt.show()"
   ]
  }
 ],
 "metadata": {
  "kernelspec": {
   "display_name": "myenv",
   "language": "python",
   "name": "python3"
  },
  "language_info": {
   "codemirror_mode": {
    "name": "ipython",
    "version": 3
   },
   "file_extension": ".py",
   "mimetype": "text/x-python",
   "name": "python",
   "nbconvert_exporter": "python",
   "pygments_lexer": "ipython3",
   "version": "3.12.3"
  }
 },
 "nbformat": 4,
 "nbformat_minor": 5
}
